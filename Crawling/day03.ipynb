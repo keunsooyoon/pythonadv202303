{
 "cells": [
  {
   "cell_type": "code",
   "execution_count": 7,
   "metadata": {},
   "outputs": [],
   "source": [
    "import requests   # 웹 페이지 읽어오기\n",
    "from bs4 import BeautifulSoup as bs   # 페이지 정제\n",
    "\n",
    "url = 'https://finance.naver.com/item/main.nhn?code=005930'\n",
    "\n",
    "txt = requests.get(url)\n",
    "html = bs(txt.text)\n",
    "\n"
   ]
  },
  {
   "cell_type": "code",
   "execution_count": 3,
   "metadata": {},
   "outputs": [
    {
     "data": {
      "text/plain": [
       "6"
      ]
     },
     "execution_count": 3,
     "metadata": {},
     "output_type": "execute_result"
    }
   ],
   "source": [
    "len(html.select('em.no_up'))"
   ]
  },
  {
   "cell_type": "code",
   "execution_count": 4,
   "metadata": {},
   "outputs": [
    {
     "data": {
      "text/plain": [
       "[<em class=\"no_up\">\n",
       " <span class=\"blind\">61,400</span>\n",
       " <span class=\"no6\">6</span><span class=\"no1\">1</span><span class=\"shim\">,</span><span class=\"no4\">4</span><span class=\"no0\">0</span><span class=\"no0\">0</span>\n",
       " </em>,\n",
       " <em class=\"no_up\">\n",
       " <span class=\"ico up\">상승</span>\n",
       " <span class=\"blind\">800</span>\n",
       " <span class=\"no8\">8</span><span class=\"no0\">0</span><span class=\"no0\">0</span>\n",
       " </em>,\n",
       " <em class=\"no_up\">\n",
       " <span class=\"ico plus\">+</span>\n",
       " <span class=\"blind\">1.32</span>\n",
       " <span class=\"no1\">1</span><span class=\"jum\">.</span><span class=\"no3\">3</span><span class=\"no2\">2</span>\n",
       " <span class=\"per\">%</span>\n",
       " </em>,\n",
       " <em class=\"no_up\">\n",
       " <span class=\"blind\">61,400</span><span class=\"no6\">6</span><span class=\"no1\">1</span><span class=\"shim\">,</span><span class=\"no4\">4</span><span class=\"no0\">0</span><span class=\"no0\">0</span>\n",
       " </em>,\n",
       " <em class=\"no_up\">\n",
       " <span class=\"blind\">60,900</span><span class=\"no6\">6</span><span class=\"no0\">0</span><span class=\"shim\">,</span><span class=\"no9\">9</span><span class=\"no0\">0</span><span class=\"no0\">0</span>\n",
       " </em>,\n",
       " <em class=\"no_up\">\n",
       " <span class=\"blind\">60,800</span><span class=\"no6\">6</span><span class=\"no0\">0</span><span class=\"shim\">,</span><span class=\"no8\">8</span><span class=\"no0\">0</span><span class=\"no0\">0</span>\n",
       " </em>]"
      ]
     },
     "execution_count": 4,
     "metadata": {},
     "output_type": "execute_result"
    }
   ],
   "source": [
    "html.select('em.no_up')"
   ]
  },
  {
   "cell_type": "code",
   "execution_count": 6,
   "metadata": {},
   "outputs": [
    {
     "data": {
      "text/plain": [
       "'61,400'"
      ]
     },
     "execution_count": 6,
     "metadata": {},
     "output_type": "execute_result"
    }
   ],
   "source": [
    "html.select('em.no_up > span.blind')[0].text"
   ]
  },
  {
   "cell_type": "code",
   "execution_count": 9,
   "metadata": {},
   "outputs": [
    {
     "data": {
      "text/plain": [
       "'61,600'"
      ]
     },
     "execution_count": 9,
     "metadata": {},
     "output_type": "execute_result"
    }
   ],
   "source": [
    "import requests   # 웹 페이지 읽어오기\n",
    "from bs4 import BeautifulSoup as bs   # 페이지 정제\n",
    "\n",
    "url = 'https://finance.naver.com/item/main.nhn?code=005930'\n",
    "\n",
    "txt = requests.get(url)\n",
    "html = bs(txt.text)\n",
    "\n",
    "\n",
    "html.select('em.no_up > span.blind')[0].text"
   ]
  },
  {
   "cell_type": "code",
   "execution_count": 13,
   "metadata": {},
   "outputs": [
    {
     "data": {
      "text/html": [
       "<div>\n",
       "<style scoped>\n",
       "    .dataframe tbody tr th:only-of-type {\n",
       "        vertical-align: middle;\n",
       "    }\n",
       "\n",
       "    .dataframe tbody tr th {\n",
       "        vertical-align: top;\n",
       "    }\n",
       "\n",
       "    .dataframe thead th {\n",
       "        text-align: right;\n",
       "    }\n",
       "</style>\n",
       "<table border=\"1\" class=\"dataframe\">\n",
       "  <thead>\n",
       "    <tr style=\"text-align: right;\">\n",
       "      <th></th>\n",
       "      <th>시가</th>\n",
       "      <th>고가</th>\n",
       "      <th>저가</th>\n",
       "      <th>종가</th>\n",
       "      <th>거래량</th>\n",
       "      <th>거래대금</th>\n",
       "      <th>등락률</th>\n",
       "    </tr>\n",
       "    <tr>\n",
       "      <th>날짜</th>\n",
       "      <th></th>\n",
       "      <th></th>\n",
       "      <th></th>\n",
       "      <th></th>\n",
       "      <th></th>\n",
       "      <th></th>\n",
       "      <th></th>\n",
       "    </tr>\n",
       "  </thead>\n",
       "  <tbody>\n",
       "    <tr>\n",
       "      <th>2023-03-02</th>\n",
       "      <td>60900</td>\n",
       "      <td>61400</td>\n",
       "      <td>60800</td>\n",
       "      <td>61300</td>\n",
       "      <td>1713980</td>\n",
       "      <td>104602046800</td>\n",
       "      <td>1.16</td>\n",
       "    </tr>\n",
       "  </tbody>\n",
       "</table>\n",
       "</div>"
      ],
      "text/plain": [
       "               시가     고가     저가     종가      거래량          거래대금   등락률\n",
       "날짜                                                                 \n",
       "2023-03-02  60900  61400  60800  61300  1713980  104602046800  1.16"
      ]
     },
     "execution_count": 13,
     "metadata": {},
     "output_type": "execute_result"
    }
   ],
   "source": [
    "# !pip install pykrx    # 주가 조회 모듈\n",
    "\n",
    "from pykrx import stock\n",
    "stock.get_market_ohlcv('20230302','20230302','005930')\n",
    "\n"
   ]
  },
  {
   "cell_type": "code",
   "execution_count": 16,
   "metadata": {},
   "outputs": [
    {
     "name": "stdout",
     "output_type": "stream",
     "text": [
      "[*********************100%***********************]  1 of 1 completed\n"
     ]
    },
    {
     "data": {
      "text/html": [
       "<div>\n",
       "<style scoped>\n",
       "    .dataframe tbody tr th:only-of-type {\n",
       "        vertical-align: middle;\n",
       "    }\n",
       "\n",
       "    .dataframe tbody tr th {\n",
       "        vertical-align: top;\n",
       "    }\n",
       "\n",
       "    .dataframe thead th {\n",
       "        text-align: right;\n",
       "    }\n",
       "</style>\n",
       "<table border=\"1\" class=\"dataframe\">\n",
       "  <thead>\n",
       "    <tr style=\"text-align: right;\">\n",
       "      <th></th>\n",
       "      <th>Open</th>\n",
       "      <th>High</th>\n",
       "      <th>Low</th>\n",
       "      <th>Close</th>\n",
       "      <th>Adj Close</th>\n",
       "      <th>Volume</th>\n",
       "    </tr>\n",
       "    <tr>\n",
       "      <th>Date</th>\n",
       "      <th></th>\n",
       "      <th></th>\n",
       "      <th></th>\n",
       "      <th></th>\n",
       "      <th></th>\n",
       "      <th></th>\n",
       "    </tr>\n",
       "  </thead>\n",
       "  <tbody>\n",
       "    <tr>\n",
       "      <th>2023-02-28</th>\n",
       "      <td>147.050003</td>\n",
       "      <td>149.080002</td>\n",
       "      <td>146.830002</td>\n",
       "      <td>147.410004</td>\n",
       "      <td>147.410004</td>\n",
       "      <td>50547000</td>\n",
       "    </tr>\n",
       "    <tr>\n",
       "      <th>2023-03-01</th>\n",
       "      <td>146.830002</td>\n",
       "      <td>147.228500</td>\n",
       "      <td>145.009995</td>\n",
       "      <td>145.309998</td>\n",
       "      <td>145.309998</td>\n",
       "      <td>51688609</td>\n",
       "    </tr>\n",
       "  </tbody>\n",
       "</table>\n",
       "</div>"
      ],
      "text/plain": [
       "                  Open        High         Low       Close   Adj Close  \\\n",
       "Date                                                                     \n",
       "2023-02-28  147.050003  149.080002  146.830002  147.410004  147.410004   \n",
       "2023-03-01  146.830002  147.228500  145.009995  145.309998  145.309998   \n",
       "\n",
       "              Volume  \n",
       "Date                  \n",
       "2023-02-28  50547000  \n",
       "2023-03-01  51688609  "
      ]
     },
     "execution_count": 16,
     "metadata": {},
     "output_type": "execute_result"
    }
   ],
   "source": [
    "# !pip install yfinance\n",
    "\n",
    "import yfinance as yf\n",
    "yf.download('AAPL', start='2023-02-28')\n"
   ]
  },
  {
   "cell_type": "code",
   "execution_count": 17,
   "metadata": {},
   "outputs": [
    {
     "name": "stdout",
     "output_type": "stream",
     "text": [
      "[*********************100%***********************]  1 of 1 completed\n"
     ]
    },
    {
     "data": {
      "text/html": [
       "<div>\n",
       "<style scoped>\n",
       "    .dataframe tbody tr th:only-of-type {\n",
       "        vertical-align: middle;\n",
       "    }\n",
       "\n",
       "    .dataframe tbody tr th {\n",
       "        vertical-align: top;\n",
       "    }\n",
       "\n",
       "    .dataframe thead th {\n",
       "        text-align: right;\n",
       "    }\n",
       "</style>\n",
       "<table border=\"1\" class=\"dataframe\">\n",
       "  <thead>\n",
       "    <tr style=\"text-align: right;\">\n",
       "      <th></th>\n",
       "      <th>Open</th>\n",
       "      <th>High</th>\n",
       "      <th>Low</th>\n",
       "      <th>Close</th>\n",
       "      <th>Adj Close</th>\n",
       "      <th>Volume</th>\n",
       "    </tr>\n",
       "    <tr>\n",
       "      <th>Date</th>\n",
       "      <th></th>\n",
       "      <th></th>\n",
       "      <th></th>\n",
       "      <th></th>\n",
       "      <th></th>\n",
       "      <th></th>\n",
       "    </tr>\n",
       "  </thead>\n",
       "  <tbody>\n",
       "    <tr>\n",
       "      <th>2023-02-28</th>\n",
       "      <td>210.589996</td>\n",
       "      <td>211.229996</td>\n",
       "      <td>203.750000</td>\n",
       "      <td>205.710007</td>\n",
       "      <td>205.710007</td>\n",
       "      <td>153144900</td>\n",
       "    </tr>\n",
       "    <tr>\n",
       "      <th>2023-03-01</th>\n",
       "      <td>206.210007</td>\n",
       "      <td>207.198700</td>\n",
       "      <td>198.520401</td>\n",
       "      <td>202.770004</td>\n",
       "      <td>202.770004</td>\n",
       "      <td>147701973</td>\n",
       "    </tr>\n",
       "  </tbody>\n",
       "</table>\n",
       "</div>"
      ],
      "text/plain": [
       "                  Open        High         Low       Close   Adj Close  \\\n",
       "Date                                                                     \n",
       "2023-02-28  210.589996  211.229996  203.750000  205.710007  205.710007   \n",
       "2023-03-01  206.210007  207.198700  198.520401  202.770004  202.770004   \n",
       "\n",
       "               Volume  \n",
       "Date                   \n",
       "2023-02-28  153144900  \n",
       "2023-03-01  147701973  "
      ]
     },
     "execution_count": 17,
     "metadata": {},
     "output_type": "execute_result"
    }
   ],
   "source": [
    "yf.download('TSLA', start='2023-02-28')"
   ]
  },
  {
   "cell_type": "code",
   "execution_count": 18,
   "metadata": {},
   "outputs": [
    {
     "name": "stdout",
     "output_type": "stream",
     "text": [
      "{\"status\":\"0000\",\"data\":{\"BTC\":{\"opening_price\":\"31180000\",\"closing_price\":\"31145000\",\"min_price\":\"30937000\",\"max_price\":\"31272000\",\"units_traded\":\"186.14434089\",\"acc_trade_value\":\"5784317365.5658\",\"prev_closing_price\":\"31193000\",\"units_traded_24H\":\"924.89964459\",\"acc_trade_value_24H\":\"28872221461.7065\",\"fluctate_24H\":\"226000\",\"fluctate_rate_24H\":\"0.73\"},\"ETH\":{\"opening_price\":\"2180000\",\"closing_price\":\"2190000\",\"min_price\":\"2169000\",\"max_price\":\"2203000\",\"units_traded\":\"1462.31006554\",\"acc_trade_value\":\"3197367762.4021\",\"prev_closing_price\":\"2176000\",\"units_traded_24H\":\"6396.24651608\",\"acc_trade_value_24H\":\"13942532524.7952\",\"fluctate_24H\":\"42000\",\"fluctate_rate_24H\":\"1.96\"},\"ETC\":{\"opening_price\":\"27990\",\"closing_price\":\"28050\",\"min_price\":\"27910\",\"max_price\":\"28100\",\"units_traded\":\"13650.21072664\",\"acc_trade_value\":\"381808195.8239\",\"prev_closing_price\":\"27990\",\"units_traded_24H\":\"62806.05858555\",\"acc_trade_value_24H\":\"1763222950.4719\",\"fluctate_24H\":\"280\",\"fluctate_rate_24H\":\"1.01\"},\"XRP\":{\"opening_price\":\"501.5\",\"closing_price\":\"504.6\",\"min_price\":\"500.5\",\"max_price\":\"506.9\",\"units_traded\":\"7855421.97478927\",\"acc_trade_value\":\"3966907777.6234\",\"prev_closing_price\":\"501.4\",\"units_traded_24H\":\"44923416.84338797\",\"acc_trade_value_24H\":\"22569532335.2282\",\"fluctate_24H\":\"4.1\",\"fluctate_rate_24H\":\"0.82\"},\"BCH\":{\"opening_price\":\"176900\",\"closing_price\":\"176800\",\"min_price\":\"176100\",\"max_price\":\"177400\",\"units_traded\":\"1002.96374352\",\"acc_trade_value\":\"177340840.1299\",\"prev_closing_price\":\"176600\",\"units_traded_24H\":\"3016.22791134\",\"acc_trade_value_24H\":\"535081973.002\",\"fluctate_24H\":\"100\",\"fluctate_rate_24H\":\"0.06\"},\"QTUM\":{\"opening_price\":\"4433\",\"closing_price\":\"4431\",\"min_price\":\"4409\",\"max_price\":\"4463\",\"units_traded\":\"44038.46636297\",\"acc_trade_value\":\"195565784.6048\",\"prev_closing_price\":\"4425\",\"units_traded_24H\":\"292728.80301783\",\"acc_trade_value_24H\":\"1305558124.8119\",\"fluctate_24H\":\"116\",\"fluctate_rate_24H\":\"2.69\"},\"BTG\":{\"opening_price\":\"22670\",\"closing_price\":\"22570\",\"min_price\":\"22390\",\"max_price\":\"22670\",\"units_traded\":\"1899.1918\",\"acc_trade_value\":\"42814531.299\",\"prev_closing_price\":\"22560\",\"units_traded_24H\":\"6342.15654911\",\"acc_trade_value_24H\":\"143204090.1663\",\"fluctate_24H\":\"10\",\"fluctate_rate_24H\":\"0.04\"},\"EOS\":{\"opening_price\":\"1571\",\"closing_price\":\"1589\",\"min_price\":\"1568\",\"max_price\":\"1596\",\"units_traded\":\"298240.41392112\",\"acc_trade_value\":\"473125204.4772\",\"prev_closing_price\":\"1573\",\"units_traded_24H\":\"1644994.29719276\",\"acc_trade_value_24H\":\"2578499595.136\",\"fluctate_24H\":\"52\",\"fluctate_rate_24H\":\"3.38\"},\"ICX\":{\"opening_price\":\"341\",\"closing_price\":\"346.1\",\"min_price\":\"340.1\",\"max_price\":\"350.3\",\"units_traded\":\"257243.76665761\",\"acc_trade_value\":\"89139846.3523\",\"prev_closing_price\":\"341\",\"units_traded_24H\":\"1097682.13492598\",\"acc_trade_value_24H\":\"375888649.6938\",\"fluctate_24H\":\"18.7\",\"fluctate_rate_24H\":\"5.71\"},\"TRX\":{\"opening_price\":\"91.97\",\"closing_price\":\"91.91\",\"min_price\":\"91.76\",\"max_price\":\"92.57\",\"units_traded\":\"4226769.6495663\",\"acc_trade_value\":\"389268049.2733\",\"prev_closing_price\":\"91.94\",\"units_traded_24H\":\"27249005.74794716\",\"acc_trade_value_24H\":\"2513729393.2959\",\"fluctate_24H\":\"-0.28\",\"fluctate_rate_24H\":\"-0.30\"},\"ELF\":{\"opening_price\":\"369.3\",\"closing_price\":\"366.4\",\"min_price\":\"366.4\",\"max_price\":\"372.1\",\"units_traded\":\"166865.1213\",\"acc_trade_value\":\"61569574.3457\",\"prev_closing_price\":\"370.2\",\"units_traded_24H\":\"502426.3562325\",\"acc_trade_value_24H\":\"186241080.9366\",\"fluctate_24H\":\"-5.9\",\"fluctate_rate_24H\":\"-1.58\"},\"OMG\":{\"opening_price\":\"2250\",\"closing_price\":\"2281\",\"min_price\":\"2249\",\"max_price\":\"2283\",\"units_traded\":\"5703.9181\",\"acc_trade_value\":\"12975168.0821\",\"prev_closing_price\":\"2247\",\"units_traded_24H\":\"19048.13552989\",\"acc_trade_value_24H\":\"42890876.508\",\"fluctate_24H\":\"56\",\"fluctate_rate_24H\":\"2.52\"},\"KNC\":{\"opening_price\":\"1137\",\"closing_price\":\"1133\",\"min_price\":\"1133\",\"max_price\":\"1145\",\"units_traded\":\"46217.89358359\",\"acc_trade_value\":\"52581185.0514\",\"prev_closing_price\":\"1138\",\"units_traded_24H\":\"241027.88930416\",\"acc_trade_value_24H\":\"273272312.1617\",\"fluctate_24H\":\"19\",\"fluctate_rate_24H\":\"1.71\"},\"GLM\":{\"opening_price\":\"359.6\",\"closing_price\":\"359.6\",\"min_price\":\"353.2\",\"max_price\":\"362.6\",\"units_traded\":\"98711.89569342\",\"acc_trade_value\":\"35391495.9568\",\"prev_closing_price\":\"362.6\",\"units_traded_24H\":\"318258.34123371\",\"acc_trade_value_24H\":\"114114431.6782\",\"fluctate_24H\":\"4.4\",\"fluctate_rate_24H\":\"1.24\"},\"ZIL\":{\"opening_price\":\"42.09\",\"closing_price\":\"42.2\",\"min_price\":\"41.89\",\"max_price\":\"42.49\",\"units_traded\":\"673462.1497\",\"acc_trade_value\":\"28455557.7434\",\"prev_closing_price\":\"42.17\",\"units_traded_24H\":\"4292365.29429075\",\"acc_trade_value_24H\":\"180348669.8845\",\"fluctate_24H\":\"0.6\",\"fluctate_rate_24H\":\"1.44\"},\"WAXP\":{\"opening_price\":\"116.3\",\"closing_price\":\"114.7\",\"min_price\":\"112.5\",\"max_price\":\"117.2\",\"units_traded\":\"921231.15090223\",\"acc_trade_value\":\"105998073.7225\",\"prev_closing_price\":\"116.2\",\"units_traded_24H\":\"6416346.78630753\",\"acc_trade_value_24H\":\"737924839.7684\",\"fluctate_24H\":\"4.8\",\"fluctate_rate_24H\":\"4.37\"},\"POWR\":{\"opening_price\":\"300.5\",\"closing_price\":\"287.2\",\"min_price\":\"287\",\"max_price\":\"300.5\",\"units_traded\":\"814740.29951909\",\"acc_trade_value\":\"237602263.7317\",\"prev_closing_price\":\"299\",\"units_traded_24H\":\"6537317.38231155\",\"acc_trade_value_24H\":\"2054831582.3753\",\"fluctate_24H\":\"-16.5\",\"fluctate_rate_24H\":\"-5.43\"},\"LRC\":{\"opening_price\":\"479.2\",\"closing_price\":\"480.5\",\"min_price\":\"476.3\",\"max_price\":\"481.3\",\"units_traded\":\"25889.88029239\",\"acc_trade_value\":\"12383140.3453\",\"prev_closing_price\":\"481.2\",\"units_traded_24H\":\"169118.4885633\",\"acc_trade_value_24H\":\"80665110.1045\",\"fluctate_24H\":\"15.7\",\"fluctate_rate_24H\":\"3.38\"},\"STEEM\":{\"opening_price\":\"313.1\",\"closing_price\":\"314.4\",\"min_price\":\"312.3\",\"max_price\":\"316.4\",\"units_traded\":\"91525.384\",\"acc_trade_value\":\"28822985.6851\",\"prev_closing_price\":\"314.5\",\"units_traded_24H\":\"210988.13322282\",\"acc_trade_value_24H\":\"65988080.9235\",\"fluctate_24H\":\"4.3\",\"fluctate_rate_24H\":\"1.39\"},\"STRAX\":{\"opening_price\":\"814\",\"closing_price\":\"814.9\",\"min_price\":\"814\",\"max_price\":\"822\",\"units_traded\":\"72340.5059\",\"acc_trade_value\":\"59142142.1124\",\"prev_closing_price\":\"815.3\",\"units_traded_24H\":\"207607.86972693\",\"acc_trade_value_24H\":\"168976058.0659\",\"fluctate_24H\":\"8.7\",\"fluctate_rate_24H\":\"1.08\"},\"ZRX\":{\"opening_price\":\"414.6\",\"closing_price\":\"399\",\"min_price\":\"392.2\",\"max_price\":\"419\",\"units_traded\":\"1439003.37645176\",\"acc_trade_value\":\"581881242.4796\",\"prev_closing_price\":\"416\",\"units_traded_24H\":\"5945531.17520369\",\"acc_trade_value_24H\":\"2388121469.71\",\"fluctate_24H\":\"61.2\",\"fluctate_rate_24H\":\"18.12\"},\"REP\":{\"opening_price\":\"12050\",\"closing_price\":\"12020\",\"min_price\":\"11980\",\"max_price\":\"12240\",\"units_traded\":\"1888.69952913\",\"acc_trade_value\":\"22809202.6309\",\"prev_closing_price\":\"12060\",\"units_traded_24H\":\"13530.09267449\",\"acc_trade_value_24H\":\"162068790.6329\",\"fluctate_24H\":\"-30\",\"fluctate_rate_24H\":\"-0.25\"},\"SNT\":{\"opening_price\":\"39.74\",\"closing_price\":\"39.64\",\"min_price\":\"39.64\",\"max_price\":\"40.02\",\"units_traded\":\"172669.60980869\",\"acc_trade_value\":\"6865791.0262\",\"prev_closing_price\":\"39.78\",\"units_traded_24H\":\"1554979.44786005\",\"acc_trade_value_24H\":\"61452415.2229\",\"fluctate_24H\":\"-0.01\",\"fluctate_rate_24H\":\"-0.03\"},\"ADA\":{\"opening_price\":\"475.3\",\"closing_price\":\"473.7\",\"min_price\":\"472.3\",\"max_price\":\"476.8\",\"units_traded\":\"831317.96056333\",\"acc_trade_value\":\"394092452.8775\",\"prev_closing_price\":\"475.4\",\"units_traded_24H\":\"2887555.30979922\",\"acc_trade_value_24H\":\"1373750193.4387\",\"fluctate_24H\":\"4.6\",\"fluctate_rate_24H\":\"0.98\"},\"CTXC\":{\"opening_price\":\"366.6\",\"closing_price\":\"363.9\",\"min_price\":\"361.3\",\"max_price\":\"368.3\",\"units_traded\":\"561788.25793047\",\"acc_trade_value\":\"204332650.7651\",\"prev_closing_price\":\"367.4\",\"units_traded_24H\":\"3651934.25061988\",\"acc_trade_value_24H\":\"1340534405.5554\",\"fluctate_24H\":\"5.9\",\"fluctate_rate_24H\":\"1.65\"},\"BAT\":{\"opening_price\":\"391.2\",\"closing_price\":\"405.3\",\"min_price\":\"390.9\",\"max_price\":\"408.9\",\"units_traded\":\"155978.53840049\",\"acc_trade_value\":\"62449843.8423\",\"prev_closing_price\":\"392.7\",\"units_traded_24H\":\"583120.11734658\",\"acc_trade_value_24H\":\"229461936.9722\",\"fluctate_24H\":\"21.4\",\"fluctate_rate_24H\":\"5.57\"},\"THETA\":{\"opening_price\":\"1559\",\"closing_price\":\"1577\",\"min_price\":\"1558\",\"max_price\":\"1583\",\"units_traded\":\"2400.4055\",\"acc_trade_value\":\"3774711.1635\",\"prev_closing_price\":\"1562\",\"units_traded_24H\":\"26357.68319194\",\"acc_trade_value_24H\":\"41155298.4093\",\"fluctate_24H\":\"74\",\"fluctate_rate_24H\":\"4.92\"},\"LOOM\":{\"opening_price\":\"79.47\",\"closing_price\":\"79.49\",\"min_price\":\"79.12\",\"max_price\":\"80.94\",\"units_traded\":\"855519.649995\",\"acc_trade_value\":\"68444038.5981\",\"prev_closing_price\":\"79.62\",\"units_traded_24H\":\"8119678.77611877\",\"acc_trade_value_24H\":\"676657245.6897\",\"fluctate_24H\":\"-3.46\",\"fluctate_rate_24H\":\"-4.17\"},\"WAVES\":{\"opening_price\":\"3435\",\"closing_price\":\"3494\",\"min_price\":\"3388\",\"max_price\":\"3495\",\"units_traded\":\"15548.01573021\",\"acc_trade_value\":\"53736800.7461\",\"prev_closing_price\":\"3435\",\"units_traded_24H\":\"71865.82449204\",\"acc_trade_value_24H\":\"248243208.3105\",\"fluctate_24H\":\"54\",\"fluctate_rate_24H\":\"1.57\"},\"LINK\":{\"opening_price\":\"9785\",\"closing_price\":\"9910\",\"min_price\":\"9745\",\"max_price\":\"9960\",\"units_traded\":\"18002.47379281\",\"acc_trade_value\":\"177897034.3939\",\"prev_closing_price\":\"9780\",\"units_traded_24H\":\"66088.57777297\",\"acc_trade_value_24H\":\"647790255.2429\",\"fluctate_24H\":\"310\",\"fluctate_rate_24H\":\"3.23\"},\"ENJ\":{\"opening_price\":\"630.6\",\"closing_price\":\"631\",\"min_price\":\"626.4\",\"max_price\":\"631.1\",\"units_traded\":\"47275.3022432\",\"acc_trade_value\":\"29737340.8087\",\"prev_closing_price\":\"630.6\",\"units_traded_24H\":\"284580.4833801\",\"acc_trade_value_24H\":\"179480179.8592\",\"fluctate_24H\":\"17\",\"fluctate_rate_24H\":\"2.77\"},\"VET\":{\"opening_price\":\"37.09\",\"closing_price\":\"37.02\",\"min_price\":\"36.78\",\"max_price\":\"37.24\",\"units_traded\":\"1627481.51324578\",\"acc_trade_value\":\"60162517.1284\",\"prev_closing_price\":\"37.09\",\"units_traded_24H\":\"10494291.39016672\",\"acc_trade_value_24H\":\"384819077.4242\",\"fluctate_24H\":\"1.02\",\"fluctate_rate_24H\":\"2.83\"},\"MTL\":{\"opening_price\":\"1693\",\"closing_price\":\"1700\",\"min_price\":\"1690\",\"max_price\":\"1704\",\"units_traded\":\"25350.03570446\",\"acc_trade_value\":\"43060067.7937\",\"prev_closing_price\":\"1703\",\"units_traded_24H\":\"91131.38671714\",\"acc_trade_value_24H\":\"154126184.9143\",\"fluctate_24H\":\"18\",\"fluctate_rate_24H\":\"1.07\"},\"IOST\":{\"opening_price\":\"15.36\",\"closing_price\":\"15.46\",\"min_price\":\"15.35\",\"max_price\":\"15.54\",\"units_traded\":\"497778.7425\",\"acc_trade_value\":\"7683224.7248\",\"prev_closing_price\":\"15.46\",\"units_traded_24H\":\"5246718.71593644\",\"acc_trade_value_24H\":\"80144086.4635\",\"fluctate_24H\":\"0.61\",\"fluctate_rate_24H\":\"4.11\"},\"QKC\":{\"opening_price\":\"15.44\",\"closing_price\":\"15.57\",\"min_price\":\"15.42\",\"max_price\":\"15.6\",\"units_traded\":\"729090.2055\",\"acc_trade_value\":\"11249489.3417\",\"prev_closing_price\":\"15.47\",\"units_traded_24H\":\"4136740.53155715\",\"acc_trade_value_24H\":\"64069528.8091\",\"fluctate_24H\":\"0.17\",\"fluctate_rate_24H\":\"1.10\"},\"ATOLO\":{\"opening_price\":\"11.25\",\"closing_price\":\"11.04\",\"min_price\":\"10.9\",\"max_price\":\"11.31\",\"units_traded\":\"4340335.0375926\",\"acc_trade_value\":\"47819325.9051\",\"prev_closing_price\":\"11.26\",\"units_traded_24H\":\"24697594.44511563\",\"acc_trade_value_24H\":\"271743468.1565\",\"fluctate_24H\":\"-0.01\",\"fluctate_rate_24H\":\"-0.09\"},\"AMO\":{\"opening_price\":\"1.029\",\"closing_price\":\"1.01\",\"min_price\":\"0.9943\",\"max_price\":\"1.037\",\"units_traded\":\"337532821.37192034\",\"acc_trade_value\":\"340473493.3928\",\"prev_closing_price\":\"1.029\",\"units_traded_24H\":\"1388084094.11920994\",\"acc_trade_value_24H\":\"1405621247.8135\",\"fluctate_24H\":\"-0.005\",\"fluctate_rate_24H\":\"-0.49\"},\"BSV\":{\"opening_price\":\"54700\",\"closing_price\":\"54750\",\"min_price\":\"54600\",\"max_price\":\"55000\",\"units_traded\":\"689.8599\",\"acc_trade_value\":\"37777682.915\",\"prev_closing_price\":\"54850\",\"units_traded_24H\":\"3969.08290524\",\"acc_trade_value_24H\":\"218073307.7591\",\"fluctate_24H\":\"0\",\"fluctate_rate_24H\":\"0.00\"},\"ORBS\":{\"opening_price\":\"46.7\",\"closing_price\":\"46.42\",\"min_price\":\"46.37\",\"max_price\":\"46.82\",\"units_traded\":\"365641.757\",\"acc_trade_value\":\"16967666.2707\",\"prev_closing_price\":\"46.71\",\"units_traded_24H\":\"1275129.2997762\",\"acc_trade_value_24H\":\"59217569.806\",\"fluctate_24H\":\"-0.02\",\"fluctate_rate_24H\":\"-0.04\"},\"TFUEL\":{\"opening_price\":\"79.33\",\"closing_price\":\"80.24\",\"min_price\":\"79.17\",\"max_price\":\"81.33\",\"units_traded\":\"637904.50336465\",\"acc_trade_value\":\"51027154.0292\",\"prev_closing_price\":\"79.71\",\"units_traded_24H\":\"3179127.84942517\",\"acc_trade_value_24H\":\"252122313.9788\",\"fluctate_24H\":\"2.34\",\"fluctate_rate_24H\":\"3.00\"},\"VALOR\":{\"opening_price\":\"286.6\",\"closing_price\":\"300.6\",\"min_price\":\"285.2\",\"max_price\":\"320\",\"units_traded\":\"1385050.732557\",\"acc_trade_value\":\"428973351.7532\",\"prev_closing_price\":\"285.2\",\"units_traded_24H\":\"1648518.87342947\",\"acc_trade_value_24H\":\"505457421.537\",\"fluctate_24H\":\"9.8\",\"fluctate_rate_24H\":\"3.37\"},\"CON\":{\"opening_price\":\"14.02\",\"closing_price\":\"13.83\",\"min_price\":\"13.81\",\"max_price\":\"14.04\",\"units_traded\":\"4419491.71196563\",\"acc_trade_value\":\"61395662.1626\",\"prev_closing_price\":\"14.02\",\"units_traded_24H\":\"17914207.14684658\",\"acc_trade_value_24H\":\"250376791.964\",\"fluctate_24H\":\"-0.12\",\"fluctate_rate_24H\":\"-0.86\"},\"ANKR\":{\"opening_price\":\"52.05\",\"closing_price\":\"51.71\",\"min_price\":\"51.62\",\"max_price\":\"52.2\",\"units_traded\":\"3970937.71717898\",\"acc_trade_value\":\"206428435.336\",\"prev_closing_price\":\"52.16\",\"units_traded_24H\":\"14899598.27917805\",\"acc_trade_value_24H\":\"781936501.4778\",\"fluctate_24H\":\"0.17\",\"fluctate_rate_24H\":\"0.33\"},\"MIX\":{\"opening_price\":\"4.45\",\"closing_price\":\"4.445\",\"min_price\":\"4.372\",\"max_price\":\"4.53\",\"units_traded\":\"9840473.81901825\",\"acc_trade_value\":\"43580293.0773\",\"prev_closing_price\":\"4.451\",\"units_traded_24H\":\"56159804.83573804\",\"acc_trade_value_24H\":\"250564595.846\",\"fluctate_24H\":\"0.029\",\"fluctate_rate_24H\":\"0.66\"},\"CRO\":{\"opening_price\":\"105.1\",\"closing_price\":\"105\",\"min_price\":\"104\",\"max_price\":\"105.4\",\"units_traded\":\"875631.20906337\",\"acc_trade_value\":\"91440841.4028\",\"prev_closing_price\":\"104.7\",\"units_traded_24H\":\"1779816.41907926\",\"acc_trade_value_24H\":\"186379167.9378\",\"fluctate_24H\":\"0.2\",\"fluctate_rate_24H\":\"0.19\"},\"FX\":{\"opening_price\":\"276.9\",\"closing_price\":\"272.5\",\"min_price\":\"270\",\"max_price\":\"276.9\",\"units_traded\":\"95352.4358\",\"acc_trade_value\":\"25931298.3656\",\"prev_closing_price\":\"277\",\"units_traded_24H\":\"274895.72944842\",\"acc_trade_value_24H\":\"75086264.7875\",\"fluctate_24H\":\"-0.4\",\"fluctate_rate_24H\":\"-0.15\"},\"CHR\":{\"opening_price\":\"239.9\",\"closing_price\":\"239.9\",\"min_price\":\"239.2\",\"max_price\":\"242.8\",\"units_traded\":\"76363.2444\",\"acc_trade_value\":\"18370310.3543\",\"prev_closing_price\":\"241.6\",\"units_traded_24H\":\"617546.19648769\",\"acc_trade_value_24H\":\"149011117.9772\",\"fluctate_24H\":\"4.4\",\"fluctate_rate_24H\":\"1.87\"},\"MBL\":{\"opening_price\":\"5.094\",\"closing_price\":\"5.195\",\"min_price\":\"5.083\",\"max_price\":\"5.243\",\"units_traded\":\"5268909.97345679\",\"acc_trade_value\":\"27279756.6915\",\"prev_closing_price\":\"5.13\",\"units_traded_24H\":\"17758816.37954586\",\"acc_trade_value_24H\":\"90415253.4311\",\"fluctate_24H\":\"0.097\",\"fluctate_rate_24H\":\"1.90\"},\"MXC\":{\"opening_price\":\"35.3\",\"closing_price\":\"34.48\",\"min_price\":\"34.18\",\"max_price\":\"35.51\",\"units_traded\":\"2269411.61414538\",\"acc_trade_value\":\"78527516.392\",\"prev_closing_price\":\"35.29\",\"units_traded_24H\":\"4183906.2556825\",\"acc_trade_value_24H\":\"145713398.7659\",\"fluctate_24H\":\"-0.77\",\"fluctate_rate_24H\":\"-2.18\"},\"FCT2\":{\"opening_price\":\"90.82\",\"closing_price\":\"91.74\",\"min_price\":\"86.7\",\"max_price\":\"92.38\",\"units_traded\":\"351890.64517639\",\"acc_trade_value\":\"31944129.082\",\"prev_closing_price\":\"90.82\",\"units_traded_24H\":\"1284344.92393788\",\"acc_trade_value_24H\":\"117373821.8512\",\"fluctate_24H\":\"0.99\",\"fluctate_rate_24H\":\"1.09\"},\"TRV\":{\"opening_price\":\"7.5\",\"closing_price\":\"7.638\",\"min_price\":\"7.282\",\"max_price\":\"8.031\",\"units_traded\":\"37112608.16975754\",\"acc_trade_value\":\"283999663.802\",\"prev_closing_price\":\"7.5\",\"units_traded_24H\":\"67207907.16715336\",\"acc_trade_value_24H\":\"505783459.5693\",\"fluctate_24H\":\"0.385\",\"fluctate_rate_24H\":\"5.31\"},\"WOM\":{\"opening_price\":\"40.27\",\"closing_price\":\"39.89\",\"min_price\":\"39.5\",\"max_price\":\"40.67\",\"units_traded\":\"1263300.30589294\",\"acc_trade_value\":\"50278982.5608\",\"prev_closing_price\":\"40.27\",\"units_traded_24H\":\"9169085.57631798\",\"acc_trade_value_24H\":\"370694006.3041\",\"fluctate_24H\":\"0.64\",\"fluctate_rate_24H\":\"1.63\"},\"SOC\":{\"opening_price\":\"4.665\",\"closing_price\":\"4.555\",\"min_price\":\"4.401\",\"max_price\":\"4.944\",\"units_traded\":\"171823477.29627582\",\"acc_trade_value\":\"802675629.7178\",\"prev_closing_price\":\"4.646\",\"units_traded_24H\":\"562757562.30948481\",\"acc_trade_value_24H\":\"2694457312.5213\",\"fluctate_24H\":\"-0.096\",\"fluctate_rate_24H\":\"-2.06\"},\"BOA\":{\"opening_price\":\"45.91\",\"closing_price\":\"45.94\",\"min_price\":\"45.5\",\"max_price\":\"46\",\"units_traded\":\"2144842.1858213\",\"acc_trade_value\":\"98005984.3082\",\"prev_closing_price\":\"45.65\",\"units_traded_24H\":\"4434652.3985824\",\"acc_trade_value_24H\":\"202832641.464\",\"fluctate_24H\":\"0.12\",\"fluctate_rate_24H\":\"0.26\"},\"MEV\":{\"opening_price\":\"16.65\",\"closing_price\":\"16.27\",\"min_price\":\"16.02\",\"max_price\":\"16.88\",\"units_traded\":\"13092506.82343345\",\"acc_trade_value\":\"212116891.5503\",\"prev_closing_price\":\"16.65\",\"units_traded_24H\":\"72957967.4337016\",\"acc_trade_value_24H\":\"1211344726.0328\",\"fluctate_24H\":\"-0.61\",\"fluctate_rate_24H\":\"-3.61\"},\"SXP\":{\"opening_price\":\"429.7\",\"closing_price\":\"431.7\",\"min_price\":\"429.7\",\"max_price\":\"434.3\",\"units_traded\":\"70907.03684055\",\"acc_trade_value\":\"30662919.3476\",\"prev_closing_price\":\"431.2\",\"units_traded_24H\":\"433849.61784926\",\"acc_trade_value_24H\":\"185910752.9551\",\"fluctate_24H\":\"14\",\"fluctate_rate_24H\":\"3.35\"},\"COS\":{\"opening_price\":\"9.55\",\"closing_price\":\"9.714\",\"min_price\":\"9.539\",\"max_price\":\"9.73\",\"units_traded\":\"1775938.16706798\",\"acc_trade_value\":\"17138057.7417\",\"prev_closing_price\":\"9.606\",\"units_traded_24H\":\"7254056.35597612\",\"acc_trade_value_24H\":\"69480791.9411\",\"fluctate_24H\":\"0.348\",\"fluctate_rate_24H\":\"3.72\"},\"EL\":{\"opening_price\":\"4.002\",\"closing_price\":\"4.042\",\"min_price\":\"3.96\",\"max_price\":\"4.1\",\"units_traded\":\"15065008.64156645\",\"acc_trade_value\":\"60757562.0286\",\"prev_closing_price\":\"3.998\",\"units_traded_24H\":\"39304248.56550949\",\"acc_trade_value_24H\":\"156696716.8572\",\"fluctate_24H\":\"0.07\",\"fluctate_rate_24H\":\"1.76\"},\"BASIC\":{\"opening_price\":\"2.047\",\"closing_price\":\"2.016\",\"min_price\":\"1.999\",\"max_price\":\"2.131\",\"units_traded\":\"55180585.36644575\",\"acc_trade_value\":\"113307556.3139\",\"prev_closing_price\":\"2.068\",\"units_traded_24H\":\"88962100.34601014\",\"acc_trade_value_24H\":\"181080903.2476\",\"fluctate_24H\":\"0.017\",\"fluctate_rate_24H\":\"0.85\"},\"HIVE\":{\"opening_price\":\"604.6\",\"closing_price\":\"601.7\",\"min_price\":\"600.9\",\"max_price\":\"606.7\",\"units_traded\":\"99477.09218557\",\"acc_trade_value\":\"60149831.247\",\"prev_closing_price\":\"606.2\",\"units_traded_24H\":\"328007.79075051\",\"acc_trade_value_24H\":\"197303396.0484\",\"fluctate_24H\":\"2.6\",\"fluctate_rate_24H\":\"0.43\"},\"XPR\":{\"opening_price\":\"2.212\",\"closing_price\":\"2.196\",\"min_price\":\"2.145\",\"max_price\":\"2.222\",\"units_traded\":\"39056671.5312\",\"acc_trade_value\":\"84851139.5966\",\"prev_closing_price\":\"2.214\",\"units_traded_24H\":\"110305482.45496304\",\"acc_trade_value_24H\":\"242007090.2069\",\"fluctate_24H\":\"-0.046\",\"fluctate_rate_24H\":\"-2.05\"},\"VRA\":{\"opening_price\":\"9.64\",\"closing_price\":\"9.6\",\"min_price\":\"9.328\",\"max_price\":\"9.74\",\"units_traded\":\"10554866.03337031\",\"acc_trade_value\":\"100198579.7475\",\"prev_closing_price\":\"9.668\",\"units_traded_24H\":\"23651199.49028519\",\"acc_trade_value_24H\":\"223740102.764\",\"fluctate_24H\":\"0.472\",\"fluctate_rate_24H\":\"5.17\"},\"FIT\":{\"opening_price\":\"0.839\",\"closing_price\":\"0.836\",\"min_price\":\"0.8288\",\"max_price\":\"0.8397\",\"units_traded\":\"3790318.19740191\",\"acc_trade_value\":\"3150562.3618\",\"prev_closing_price\":\"0.839\",\"units_traded_24H\":\"34716619.39557098\",\"acc_trade_value_24H\":\"28914179.7177\",\"fluctate_24H\":\"0.0072\",\"fluctate_rate_24H\":\"0.87\"},\"EGG\":{\"opening_price\":\"9.551\",\"closing_price\":\"9.55\",\"min_price\":\"9.432\",\"max_price\":\"9.648\",\"units_traded\":\"6964319.92734227\",\"acc_trade_value\":\"66164104.8795\",\"prev_closing_price\":\"9.56\",\"units_traded_24H\":\"32039643.66310086\",\"acc_trade_value_24H\":\"308359436.0471\",\"fluctate_24H\":\"-0.17\",\"fluctate_rate_24H\":\"-1.75\"},\"BORA\":{\"opening_price\":\"288.9\",\"closing_price\":\"286.6\",\"min_price\":\"285.5\",\"max_price\":\"290.8\",\"units_traded\":\"405653.11662451\",\"acc_trade_value\":\"116818409.6169\",\"prev_closing_price\":\"289.8\",\"units_traded_24H\":\"1966616.93803102\",\"acc_trade_value_24H\":\"571450166.6819\",\"fluctate_24H\":\"-7.7\",\"fluctate_rate_24H\":\"-2.62\"},\"ARPA\":{\"opening_price\":\"55.59\",\"closing_price\":\"55.78\",\"min_price\":\"55.53\",\"max_price\":\"56.38\",\"units_traded\":\"78998.3218\",\"acc_trade_value\":\"4410267.4207\",\"prev_closing_price\":\"55.66\",\"units_traded_24H\":\"418706.18657925\",\"acc_trade_value_24H\":\"23358534.1983\",\"fluctate_24H\":\"1.13\",\"fluctate_rate_24H\":\"2.07\"},\"CTC\":{\"opening_price\":\"658.1\",\"closing_price\":\"653.3\",\"min_price\":\"650.1\",\"max_price\":\"665.1\",\"units_traded\":\"1755602.85496716\",\"acc_trade_value\":\"1157290016.4092\",\"prev_closing_price\":\"660.9\",\"units_traded_24H\":\"7412404.22701389\",\"acc_trade_value_24H\":\"4889212950.077\",\"fluctate_24H\":\"-5.7\",\"fluctate_rate_24H\":\"-0.86\"},\"APM\":{\"opening_price\":\"25.03\",\"closing_price\":\"24.5\",\"min_price\":\"24.43\",\"max_price\":\"25.12\",\"units_traded\":\"20538990.19985209\",\"acc_trade_value\":\"506182809.1426\",\"prev_closing_price\":\"25.03\",\"units_traded_24H\":\"136564954.25809969\",\"acc_trade_value_24H\":\"3400348230.3336\",\"fluctate_24H\":\"-0.25\",\"fluctate_rate_24H\":\"-1.01\"},\"CKB\":{\"opening_price\":\"7.071\",\"closing_price\":\"6.999\",\"min_price\":\"6.912\",\"max_price\":\"7.4\",\"units_traded\":\"29344005.08098659\",\"acc_trade_value\":\"206486003.5279\",\"prev_closing_price\":\"7.116\",\"units_traded_24H\":\"117315271.34284651\",\"acc_trade_value_24H\":\"847591651.1215\",\"fluctate_24H\":\"-0.146\",\"fluctate_rate_24H\":\"-2.04\"},\"AERGO\":{\"opening_price\":\"184.8\",\"closing_price\":\"183.7\",\"min_price\":\"183.7\",\"max_price\":\"186.1\",\"units_traded\":\"131801.52049617\",\"acc_trade_value\":\"24328954.4732\",\"prev_closing_price\":\"183.9\",\"units_traded_24H\":\"972545.13640652\",\"acc_trade_value_24H\":\"178085250.4224\",\"fluctate_24H\":\"1.4\",\"fluctate_rate_24H\":\"0.77\"},\"CENNZ\":{\"opening_price\":\"25.42\",\"closing_price\":\"25.07\",\"min_price\":\"24.3\",\"max_price\":\"26.5\",\"units_traded\":\"17337507.04418947\",\"acc_trade_value\":\"435226182.7917\",\"prev_closing_price\":\"25.31\",\"units_traded_24H\":\"134634297.84801106\",\"acc_trade_value_24H\":\"3567337099.7747\",\"fluctate_24H\":\"0.37\",\"fluctate_rate_24H\":\"1.5\"},\"EVZ\":{\"opening_price\":\"18.4\",\"closing_price\":\"18.25\",\"min_price\":\"18.14\",\"max_price\":\"18.43\",\"units_traded\":\"4159427.7582299\",\"acc_trade_value\":\"75810707.0422\",\"prev_closing_price\":\"18.28\",\"units_traded_24H\":\"18329928.51071122\",\"acc_trade_value_24H\":\"334952520.3254\",\"fluctate_24H\":\"0.14\",\"fluctate_rate_24H\":\"0.77\"},\"SRM\":{\"opening_price\":\"633.6\",\"closing_price\":\"636.7\",\"min_price\":\"633.2\",\"max_price\":\"643.9\",\"units_traded\":\"48855.961329\",\"acc_trade_value\":\"31131886.653\",\"prev_closing_price\":\"631.5\",\"units_traded_24H\":\"147723.51729238\",\"acc_trade_value_24H\":\"93693142.6614\",\"fluctate_24H\":\"1.8\",\"fluctate_rate_24H\":\"0.28\"},\"QTCON\":{\"opening_price\":\"1.816\",\"closing_price\":\"1.791\",\"min_price\":\"1.775\",\"max_price\":\"1.828\",\"units_traded\":\"8864195.46697176\",\"acc_trade_value\":\"15927627.1509\",\"prev_closing_price\":\"1.816\",\"units_traded_24H\":\"38405905.69923876\",\"acc_trade_value_24H\":\"69514219.9948\",\"fluctate_24H\":\"-0.047\",\"fluctate_rate_24H\":\"-2.56\"},\"UNI\":{\"opening_price\":\"9015\",\"closing_price\":\"8975\",\"min_price\":\"8930\",\"max_price\":\"9045\",\"units_traded\":\"609.53528231\",\"acc_trade_value\":\"5492544.7874\",\"prev_closing_price\":\"9015\",\"units_traded_24H\":\"7203.54808231\",\"acc_trade_value_24H\":\"64487988.8729\",\"fluctate_24H\":\"280\",\"fluctate_rate_24H\":\"3.22\"},\"YFI\":{\"opening_price\":\"12852000\",\"closing_price\":\"13604000\",\"min_price\":\"12752000\",\"max_price\":\"13949000\",\"units_traded\":\"123.58566387\",\"acc_trade_value\":\"1682969624.1662\",\"prev_closing_price\":\"12832000\",\"units_traded_24H\":\"253.56557375\",\"acc_trade_value_24H\":\"3336220124.1123\",\"fluctate_24H\":\"1174000\",\"fluctate_rate_24H\":\"9.44\"},\"UMA\":{\"opening_price\":\"2945\",\"closing_price\":\"2960\",\"min_price\":\"2907\",\"max_price\":\"2965\",\"units_traded\":\"18925.3034\",\"acc_trade_value\":\"55232026.1239\",\"prev_closing_price\":\"2955\",\"units_traded_24H\":\"58496.5960795\",\"acc_trade_value_24H\":\"170588724.7053\",\"fluctate_24H\":\"67\",\"fluctate_rate_24H\":\"2.32\"},\"AAVE\":{\"opening_price\":\"107700\",\"closing_price\":\"108900\",\"min_price\":\"107600\",\"max_price\":\"109100\",\"units_traded\":\"320.06650815\",\"acc_trade_value\":\"34716263.7699\",\"prev_closing_price\":\"108000\",\"units_traded_24H\":\"2632.24615575\",\"acc_trade_value_24H\":\"282621658.2799\",\"fluctate_24H\":\"5600\",\"fluctate_rate_24H\":\"5.42\"},\"COMP\":{\"opening_price\":\"67300\",\"closing_price\":\"68050\",\"min_price\":\"67200\",\"max_price\":\"68250\",\"units_traded\":\"289.15982019\",\"acc_trade_value\":\"19629082.8849\",\"prev_closing_price\":\"67550\",\"units_traded_24H\":\"1455.06179516\",\"acc_trade_value_24H\":\"97720964.5499\",\"fluctate_24H\":\"3050\",\"fluctate_rate_24H\":\"4.69\"},\"REN\":{\"opening_price\":\"162.4\",\"closing_price\":\"170.2\",\"min_price\":\"162.4\",\"max_price\":\"182.4\",\"units_traded\":\"7923236.93532576\",\"acc_trade_value\":\"1346379314.4087\",\"prev_closing_price\":\"162.2\",\"units_traded_24H\":\"56229026.61593634\",\"acc_trade_value_24H\":\"9189198213.9543\",\"fluctate_24H\":\"23\",\"fluctate_rate_24H\":\"15.63\"},\"BAL\":{\"opening_price\":\"9580\",\"closing_price\":\"9540\",\"min_price\":\"9335\",\"max_price\":\"9630\",\"units_traded\":\"2912.37384467\",\"acc_trade_value\":\"27690903.3434\",\"prev_closing_price\":\"9585\",\"units_traded_24H\":\"66087.02228001\",\"acc_trade_value_24H\":\"651953099.2678\",\"fluctate_24H\":\"30\",\"fluctate_rate_24H\":\"0.32\"},\"RSR\":{\"opening_price\":\"6.96\",\"closing_price\":\"6.981\",\"min_price\":\"6.901\",\"max_price\":\"6.981\",\"units_traded\":\"5104382.34346413\",\"acc_trade_value\":\"35529918.1272\",\"prev_closing_price\":\"6.965\",\"units_traded_24H\":\"51884765.15833998\",\"acc_trade_value_24H\":\"362078721.0537\",\"fluctate_24H\":\"0.301\",\"fluctate_rate_24H\":\"4.51\"},\"NMR\":{\"opening_price\":\"28350\",\"closing_price\":\"28290\",\"min_price\":\"27880\",\"max_price\":\"28590\",\"units_traded\":\"8533.8734\",\"acc_trade_value\":\"240785988.422\",\"prev_closing_price\":\"28430\",\"units_traded_24H\":\"94447.23176611\",\"acc_trade_value_24H\":\"2773327707.4989\",\"fluctate_24H\":\"-260\",\"fluctate_rate_24H\":\"-0.91\"},\"RLC\":{\"opening_price\":\"2589\",\"closing_price\":\"2633\",\"min_price\":\"2585\",\"max_price\":\"2649\",\"units_traded\":\"16896.64154469\",\"acc_trade_value\":\"44353194.4522\",\"prev_closing_price\":\"2585\",\"units_traded_24H\":\"68245.82245079\",\"acc_trade_value_24H\":\"177225905.5717\",\"fluctate_24H\":\"123\",\"fluctate_rate_24H\":\"4.90\"},\"UOS\":{\"opening_price\":\"323.1\",\"closing_price\":\"315\",\"min_price\":\"315\",\"max_price\":\"323.1\",\"units_traded\":\"227557.62037638\",\"acc_trade_value\":\"71842890.9362\",\"prev_closing_price\":\"323\",\"units_traded_24H\":\"528128.67826823\",\"acc_trade_value_24H\":\"167759471.1494\",\"fluctate_24H\":\"-3.5\",\"fluctate_rate_24H\":\"-1.1\"},\"SAND\":{\"opening_price\":\"927.3\",\"closing_price\":\"925.9\",\"min_price\":\"919\",\"max_price\":\"932\",\"units_traded\":\"617557.48011223\",\"acc_trade_value\":\"571202190.0687\",\"prev_closing_price\":\"927.8\",\"units_traded_24H\":\"2655522.3212485\",\"acc_trade_value_24H\":\"2461932144.8749\",\"fluctate_24H\":\"13.6\",\"fluctate_rate_24H\":\"1.49\"},\"GOM2\":{\"opening_price\":\"6.133\",\"closing_price\":\"6.208\",\"min_price\":\"6.1\",\"max_price\":\"6.242\",\"units_traded\":\"14374469.43144444\",\"acc_trade_value\":\"88836406.6372\",\"prev_closing_price\":\"6.14\",\"units_traded_24H\":\"41160163.42698212\",\"acc_trade_value_24H\":\"255113802.5603\",\"fluctate_24H\":\"-0.035\",\"fluctate_rate_24H\":\"-0.56\"},\"BEL\":{\"opening_price\":\"1045\",\"closing_price\":\"1043\",\"min_price\":\"1040\",\"max_price\":\"1049\",\"units_traded\":\"32259.34879418\",\"acc_trade_value\":\"33692800.0944\",\"prev_closing_price\":\"1046\",\"units_traded_24H\":\"114763.46711324\",\"acc_trade_value_24H\":\"119207633.5929\",\"fluctate_24H\":\"19\",\"fluctate_rate_24H\":\"1.86\"},\"OBSR\":{\"opening_price\":\"1.871\",\"closing_price\":\"1.869\",\"min_price\":\"1.85\",\"max_price\":\"1.875\",\"units_traded\":\"1472180.48040492\",\"acc_trade_value\":\"2736806.2719\",\"prev_closing_price\":\"1.851\",\"units_traded_24H\":\"14619227.45354886\",\"acc_trade_value_24H\":\"27135140.2175\",\"fluctate_24H\":\"-0.011\",\"fluctate_rate_24H\":\"-0.59\"},\"ORC\":{\"opening_price\":\"158.3\",\"closing_price\":\"157.5\",\"min_price\":\"156.2\",\"max_price\":\"158.4\",\"units_traded\":\"146410.33511428\",\"acc_trade_value\":\"22972293.7235\",\"prev_closing_price\":\"156.8\",\"units_traded_24H\":\"541474.64665202\",\"acc_trade_value_24H\":\"85165154.9464\",\"fluctate_24H\":\"-1.2\",\"fluctate_rate_24H\":\"-0.76\"},\"POLA\":{\"opening_price\":\"26.45\",\"closing_price\":\"25.64\",\"min_price\":\"25\",\"max_price\":\"26.45\",\"units_traded\":\"15652720.45829629\",\"acc_trade_value\":\"399385409.5031\",\"prev_closing_price\":\"26.49\",\"units_traded_24H\":\"108927612.2619475\",\"acc_trade_value_24H\":\"2917137124.7534\",\"fluctate_24H\":\"-0.76\",\"fluctate_rate_24H\":\"-2.88\"},\"ADP\":{\"opening_price\":\"14.3\",\"closing_price\":\"13.54\",\"min_price\":\"13.37\",\"max_price\":\"14.43\",\"units_traded\":\"64200396.04226249\",\"acc_trade_value\":\"883945695.0721\",\"prev_closing_price\":\"14.42\",\"units_traded_24H\":\"296288366.54928172\",\"acc_trade_value_24H\":\"4270812555.3642\",\"fluctate_24H\":\"-0.81\",\"fluctate_rate_24H\":\"-5.64\"},\"DVI\":{\"opening_price\":\"36.35\",\"closing_price\":\"38.94\",\"min_price\":\"35.5\",\"max_price\":\"41.3\",\"units_traded\":\"15070714.18259343\",\"acc_trade_value\":\"580501976.326\",\"prev_closing_price\":\"36.35\",\"units_traded_24H\":\"22245815.73275179\",\"acc_trade_value_24H\":\"842188268.2918\",\"fluctate_24H\":\"2.43\",\"fluctate_rate_24H\":\"6.66\"},\"GHX\":{\"opening_price\":\"13.25\",\"closing_price\":\"12.83\",\"min_price\":\"12.7\",\"max_price\":\"13.26\",\"units_traded\":\"11452088.84336836\",\"acc_trade_value\":\"147317483.1746\",\"prev_closing_price\":\"13.25\",\"units_traded_24H\":\"28641396.48285417\",\"acc_trade_value_24H\":\"370926198.9782\",\"fluctate_24H\":\"-0.14\",\"fluctate_rate_24H\":\"-1.08\"},\"MVC\":{\"opening_price\":\"5.286\",\"closing_price\":\"5.229\",\"min_price\":\"5.21\",\"max_price\":\"5.288\",\"units_traded\":\"2936220.2168\",\"acc_trade_value\":\"15367705.8181\",\"prev_closing_price\":\"5.287\",\"units_traded_24H\":\"21761238.43521263\",\"acc_trade_value_24H\":\"115492975.9132\",\"fluctate_24H\":\"-0.04\",\"fluctate_rate_24H\":\"-0.76\"},\"BLY\":{\"opening_price\":\"7.04\",\"closing_price\":\"6.966\",\"min_price\":\"6.902\",\"max_price\":\"7.12\",\"units_traded\":\"3675465.22265644\",\"acc_trade_value\":\"25625968.8466\",\"prev_closing_price\":\"7.08\",\"units_traded_24H\":\"16187269.2746793\",\"acc_trade_value_24H\":\"114314319.1964\",\"fluctate_24H\":\"-0.077\",\"fluctate_rate_24H\":\"-1.09\"},\"WOZX\":{\"opening_price\":\"85.67\",\"closing_price\":\"86.98\",\"min_price\":\"85.01\",\"max_price\":\"87.45\",\"units_traded\":\"383626.67560533\",\"acc_trade_value\":\"32863491.5058\",\"prev_closing_price\":\"86.22\",\"units_traded_24H\":\"1616456.91591277\",\"acc_trade_value_24H\":\"139366916.6277\",\"fluctate_24H\":\"1.3\",\"fluctate_rate_24H\":\"1.52\"},\"ANV\":{\"opening_price\":\"126.3\",\"closing_price\":\"122.7\",\"min_price\":\"122.5\",\"max_price\":\"132.7\",\"units_traded\":\"12242345.77523739\",\"acc_trade_value\":\"1532083836.7379\",\"prev_closing_price\":\"126.3\",\"units_traded_24H\":\"43381672.91494764\",\"acc_trade_value_24H\":\"5474142936.0012\",\"fluctate_24H\":\"-4.4\",\"fluctate_rate_24H\":\"-3.46\"},\"GRT\":{\"opening_price\":\"210.8\",\"closing_price\":\"210.7\",\"min_price\":\"208.5\",\"max_price\":\"212.9\",\"units_traded\":\"423075.69701401\",\"acc_trade_value\":\"89115256.421\",\"prev_closing_price\":\"210.6\",\"units_traded_24H\":\"2973188.66596917\",\"acc_trade_value_24H\":\"621776561.1168\",\"fluctate_24H\":\"6.7\",\"fluctate_rate_24H\":\"3.28\"},\"BIOT\":{\"opening_price\":\"3.096\",\"closing_price\":\"2.999\",\"min_price\":\"2.97\",\"max_price\":\"3.098\",\"units_traded\":\"75535421.24521747\",\"acc_trade_value\":\"227089758.8357\",\"prev_closing_price\":\"3.096\",\"units_traded_24H\":\"345912679.02514557\",\"acc_trade_value_24H\":\"1048195113.4058\",\"fluctate_24H\":\"-0.063\",\"fluctate_rate_24H\":\"-2.06\"},\"XNO\":{\"opening_price\":\"12.06\",\"closing_price\":\"11.91\",\"min_price\":\"11.79\",\"max_price\":\"12.07\",\"units_traded\":\"21323097.82994064\",\"acc_trade_value\":\"253548755.1896\",\"prev_closing_price\":\"12.01\",\"units_traded_24H\":\"50750248.65313118\",\"acc_trade_value_24H\":\"609914019.0517\",\"fluctate_24H\":\"-0.16\",\"fluctate_rate_24H\":\"-1.33\"},\"SNX\":{\"opening_price\":\"3910\",\"closing_price\":\"3925\",\"min_price\":\"3880\",\"max_price\":\"4041\",\"units_traded\":\"28762.51284266\",\"acc_trade_value\":\"113882908.818\",\"prev_closing_price\":\"3925\",\"units_traded_24H\":\"74007.86413363\",\"acc_trade_value_24H\":\"287942990.7756\",\"fluctate_24H\":\"167\",\"fluctate_rate_24H\":\"4.44\"},\"SOFI\":{\"opening_price\":\"124.5\",\"closing_price\":\"123.6\",\"min_price\":\"122.9\",\"max_price\":\"124.9\",\"units_traded\":\"82841.68876601\",\"acc_trade_value\":\"10222584.7305\",\"prev_closing_price\":\"124.8\",\"units_traded_24H\":\"769354.47253754\",\"acc_trade_value_24H\":\"95284563.8125\",\"fluctate_24H\":\"-0.1\",\"fluctate_rate_24H\":\"-0.08\"},\"COLA\":{\"opening_price\":\"118.5\",\"closing_price\":\"121.4\",\"min_price\":\"117.1\",\"max_price\":\"122.2\",\"units_traded\":\"256361.74055351\",\"acc_trade_value\":\"30608695.0604\",\"prev_closing_price\":\"118.2\",\"units_traded_24H\":\"799665.12971889\",\"acc_trade_value_24H\":\"94760562.7921\",\"fluctate_24H\":\"2.4\",\"fluctate_rate_24H\":\"2.02\"},\"OXT\":{\"opening_price\":\"126.2\",\"closing_price\":\"125.8\",\"min_price\":\"125.8\",\"max_price\":\"126.7\",\"units_traded\":\"39546.51132415\",\"acc_trade_value\":\"4994082.0709\",\"prev_closing_price\":\"127.1\",\"units_traded_24H\":\"186058.59037807\",\"acc_trade_value_24H\":\"23561415.2518\",\"fluctate_24H\":\"2\",\"fluctate_rate_24H\":\"1.62\"},\"LINA\":{\"opening_price\":\"13.36\",\"closing_price\":\"13.47\",\"min_price\":\"13.25\",\"max_price\":\"13.78\",\"units_traded\":\"1868572.30836267\",\"acc_trade_value\":\"25227766.1371\",\"prev_closing_price\":\"13.45\",\"units_traded_24H\":\"8871502.22912769\",\"acc_trade_value_24H\":\"120160068.5514\",\"fluctate_24H\":\"0.15\",\"fluctate_rate_24H\":\"1.13\"},\"MAP\":{\"opening_price\":\"13.1\",\"closing_price\":\"13.03\",\"min_price\":\"13.02\",\"max_price\":\"13.12\",\"units_traded\":\"252061.1143\",\"acc_trade_value\":\"3283854.5447\",\"prev_closing_price\":\"13.05\",\"units_traded_24H\":\"5123474.83500838\",\"acc_trade_value_24H\":\"66775389.5398\",\"fluctate_24H\":\"-0.16\",\"fluctate_rate_24H\":\"-1.21\"},\"AQT\":{\"opening_price\":\"1716\",\"closing_price\":\"1790\",\"min_price\":\"1684\",\"max_price\":\"1835\",\"units_traded\":\"65586.42835034\",\"acc_trade_value\":\"116386189.2555\",\"prev_closing_price\":\"1716\",\"units_traded_24H\":\"123802.19918765\",\"acc_trade_value_24H\":\"214752146.986\",\"fluctate_24H\":\"128\",\"fluctate_rate_24H\":\"7.70\"},\"PLA\":{\"opening_price\":\"351.9\",\"closing_price\":\"352\",\"min_price\":\"348.9\",\"max_price\":\"355\",\"units_traded\":\"77229.4137\",\"acc_trade_value\":\"26958126.076\",\"prev_closing_price\":\"351.9\",\"units_traded_24H\":\"172583.68326634\",\"acc_trade_value_24H\":\"60102690.2352\",\"fluctate_24H\":\"2\",\"fluctate_rate_24H\":\"0.57\"},\"WIKEN\":{\"opening_price\":\"7.683\",\"closing_price\":\"7.486\",\"min_price\":\"7.452\",\"max_price\":\"7.74\",\"units_traded\":\"4650348.1282\",\"acc_trade_value\":\"35073482.0952\",\"prev_closing_price\":\"7.682\",\"units_traded_24H\":\"14499977.80471529\",\"acc_trade_value_24H\":\"110820194.6518\",\"fluctate_24H\":\"-0.024\",\"fluctate_rate_24H\":\"-0.32\"},\"CTSI\":{\"opening_price\":\"217.8\",\"closing_price\":\"220.4\",\"min_price\":\"217.1\",\"max_price\":\"221.2\",\"units_traded\":\"22916.6262132\",\"acc_trade_value\":\"5024766.0483\",\"prev_closing_price\":\"216.6\",\"units_traded_24H\":\"476793.55242489\",\"acc_trade_value_24H\":\"103584881.0208\",\"fluctate_24H\":\"7.5\",\"fluctate_rate_24H\":\"3.52\"},\"MANA\":{\"opening_price\":\"860.7\",\"closing_price\":\"863\",\"min_price\":\"856.2\",\"max_price\":\"867.1\",\"units_traded\":\"142563.55966914\",\"acc_trade_value\":\"122926721.8495\",\"prev_closing_price\":\"858.8\",\"units_traded_24H\":\"635844.32122591\",\"acc_trade_value_24H\":\"545879923.4047\",\"fluctate_24H\":\"24\",\"fluctate_rate_24H\":\"2.86\"},\"LPT\":{\"opening_price\":\"9595\",\"closing_price\":\"9545\",\"min_price\":\"9470\",\"max_price\":\"9700\",\"units_traded\":\"1643.6925\",\"acc_trade_value\":\"15667678.5915\",\"prev_closing_price\":\"9600\",\"units_traded_24H\":\"15728.50057745\",\"acc_trade_value_24H\":\"148588808.3579\",\"fluctate_24H\":\"230\",\"fluctate_rate_24H\":\"2.47\"},\"MKR\":{\"opening_price\":\"1232000\",\"closing_price\":\"1243000\",\"min_price\":\"1205000\",\"max_price\":\"1254000\",\"units_traded\":\"146.07610916\",\"acc_trade_value\":\"180015352.6038\",\"prev_closing_price\":\"1231000\",\"units_traded_24H\":\"846.12140941\",\"acc_trade_value_24H\":\"1014759421.1455\",\"fluctate_24H\":\"186000\",\"fluctate_rate_24H\":\"17.6\"},\"SUSHI\":{\"opening_price\":\"1757\",\"closing_price\":\"1783\",\"min_price\":\"1746\",\"max_price\":\"1799\",\"units_traded\":\"5468.97512907\",\"acc_trade_value\":\"9712597.4995\",\"prev_closing_price\":\"1765\",\"units_traded_24H\":\"46893.92903976\",\"acc_trade_value_24H\":\"82442069.4972\",\"fluctate_24H\":\"86\",\"fluctate_rate_24H\":\"5.07\"},\"ASM\":{\"opening_price\":\"19.61\",\"closing_price\":\"19.25\",\"min_price\":\"19\",\"max_price\":\"19.61\",\"units_traded\":\"3005533.4628\",\"acc_trade_value\":\"57829464.6947\",\"prev_closing_price\":\"19.6\",\"units_traded_24H\":\"9339348.99110383\",\"acc_trade_value_24H\":\"180700856.6723\",\"fluctate_24H\":\"-0.35\",\"fluctate_rate_24H\":\"-1.79\"},\"PUNDIX\":{\"opening_price\":\"702.9\",\"closing_price\":\"693.9\",\"min_price\":\"690.9\",\"max_price\":\"704.8\",\"units_traded\":\"139415.9499\",\"acc_trade_value\":\"97575756.0472\",\"prev_closing_price\":\"706.5\",\"units_traded_24H\":\"489768.48604537\",\"acc_trade_value_24H\":\"342899962.0215\",\"fluctate_24H\":\"-2.2\",\"fluctate_rate_24H\":\"-0.32\"},\"CELR\":{\"opening_price\":\"27.89\",\"closing_price\":\"28.06\",\"min_price\":\"27.85\",\"max_price\":\"28.08\",\"units_traded\":\"172049.0634\",\"acc_trade_value\":\"4818725.0001\",\"prev_closing_price\":\"27.91\",\"units_traded_24H\":\"1617485.03759334\",\"acc_trade_value_24H\":\"44988188.2895\",\"fluctate_24H\":\"1.18\",\"fluctate_rate_24H\":\"4.39\"},\"ARW\":{\"opening_price\":\"244.6\",\"closing_price\":\"243.7\",\"min_price\":\"242\",\"max_price\":\"253.9\",\"units_traded\":\"217176.67434947\",\"acc_trade_value\":\"53737636.0454\",\"prev_closing_price\":\"244.8\",\"units_traded_24H\":\"678137.82672716\",\"acc_trade_value_24H\":\"166540528.793\",\"fluctate_24H\":\"-4.1\",\"fluctate_rate_24H\":\"-1.65\"},\"FRONT\":{\"opening_price\":\"334.8\",\"closing_price\":\"338.6\",\"min_price\":\"334.6\",\"max_price\":\"352.7\",\"units_traded\":\"66082.49860052\",\"acc_trade_value\":\"22766738.9998\",\"prev_closing_price\":\"333.3\",\"units_traded_24H\":\"118342.16379651\",\"acc_trade_value_24H\":\"40187360.52\",\"fluctate_24H\":\"11.7\",\"fluctate_rate_24H\":\"3.58\"},\"RLY\":{\"opening_price\":\"42.58\",\"closing_price\":\"56.64\",\"min_price\":\"41.16\",\"max_price\":\"62.34\",\"units_traded\":\"128496013.3003996\",\"acc_trade_value\":\"6956533674.2271\",\"prev_closing_price\":\"42.58\",\"units_traded_24H\":\"454217382.45556896\",\"acc_trade_value_24H\":\"24201599911.5472\",\"fluctate_24H\":\"7.64\",\"fluctate_rate_24H\":\"15.59\"},\"OCEAN\":{\"opening_price\":\"551.1\",\"closing_price\":\"552.2\",\"min_price\":\"545\",\"max_price\":\"557.8\",\"units_traded\":\"177186.75016652\",\"acc_trade_value\":\"98088931.091\",\"prev_closing_price\":\"551\",\"units_traded_24H\":\"1045932.39320191\",\"acc_trade_value_24H\":\"570572490.7419\",\"fluctate_24H\":\"33.2\",\"fluctate_rate_24H\":\"6.4\"},\"BFC\":{\"opening_price\":\"114.8\",\"closing_price\":\"115.1\",\"min_price\":\"112.9\",\"max_price\":\"117\",\"units_traded\":\"1458476.67776439\",\"acc_trade_value\":\"167704721.6812\",\"prev_closing_price\":\"115.1\",\"units_traded_24H\":\"3217089.17519537\",\"acc_trade_value_24H\":\"369304620.5034\",\"fluctate_24H\":\"2\",\"fluctate_rate_24H\":\"1.77\"},\"ALICE\":{\"opening_price\":\"2447\",\"closing_price\":\"2520\",\"min_price\":\"2447\",\"max_price\":\"2520\",\"units_traded\":\"3551.4243\",\"acc_trade_value\":\"8878246.7566\",\"prev_closing_price\":\"2467\",\"units_traded_24H\":\"22399.00215971\",\"acc_trade_value_24H\":\"55399069.064\",\"fluctate_24H\":\"92\",\"fluctate_rate_24H\":\"3.79\"},\"OGN\":{\"opening_price\":\"181.9\",\"closing_price\":\"184\",\"min_price\":\"181.6\",\"max_price\":\"184\",\"units_traded\":\"72548.8805\",\"acc_trade_value\":\"13231392.9047\",\"prev_closing_price\":\"181.5\",\"units_traded_24H\":\"180768.72740444\",\"acc_trade_value_24H\":\"32862741.8764\",\"fluctate_24H\":\"7.4\",\"fluctate_rate_24H\":\"4.19\"},\"COTI\":{\"opening_price\":\"116.7\",\"closing_price\":\"118.2\",\"min_price\":\"116\",\"max_price\":\"120.4\",\"units_traded\":\"465006.359\",\"acc_trade_value\":\"55327881.0614\",\"prev_closing_price\":\"116.3\",\"units_traded_24H\":\"1202979.00524512\",\"acc_trade_value_24H\":\"141953416.2905\",\"fluctate_24H\":\"4.9\",\"fluctate_rate_24H\":\"4.32\"},\"CAKE\":{\"opening_price\":\"5265\",\"closing_price\":\"5195\",\"min_price\":\"5175\",\"max_price\":\"5270\",\"units_traded\":\"45.9437\",\"acc_trade_value\":\"240833.7485\",\"prev_closing_price\":\"5275\",\"units_traded_24H\":\"4112.16707298\",\"acc_trade_value_24H\":\"21558249.5789\",\"fluctate_24H\":\"-80\",\"fluctate_rate_24H\":\"-1.52\"},\"BNT\":{\"opening_price\":\"630\",\"closing_price\":\"624.7\",\"min_price\":\"624.7\",\"max_price\":\"631.1\",\"units_traded\":\"16996.7036\",\"acc_trade_value\":\"10709963.9831\",\"prev_closing_price\":\"625\",\"units_traded_24H\":\"30373.72915788\",\"acc_trade_value_24H\":\"19069734.5392\",\"fluctate_24H\":\"7.4\",\"fluctate_rate_24H\":\"1.2\"},\"XVS\":{\"opening_price\":\"7495\",\"closing_price\":\"7475\",\"min_price\":\"7325\",\"max_price\":\"7495\",\"units_traded\":\"416.8326\",\"acc_trade_value\":\"3073151.811\",\"prev_closing_price\":\"7360\",\"units_traded_24H\":\"3624.30956677\",\"acc_trade_value_24H\":\"27120734.2474\",\"fluctate_24H\":\"100\",\"fluctate_rate_24H\":\"1.36\"},\"SWAP\":{\"opening_price\":\"564.4\",\"closing_price\":\"694\",\"min_price\":\"547.7\",\"max_price\":\"741.7\",\"units_traded\":\"6009910.26475577\",\"acc_trade_value\":\"3951164637.1133\",\"prev_closing_price\":\"556\",\"units_traded_24H\":\"8854977.1296232\",\"acc_trade_value_24H\":\"5534261850.7534\",\"fluctate_24H\":\"154.1\",\"fluctate_rate_24H\":\"28.54\"},\"CHZ\":{\"opening_price\":\"183.2\",\"closing_price\":\"181.1\",\"min_price\":\"179.1\",\"max_price\":\"183.2\",\"units_traded\":\"1032003.77447443\",\"acc_trade_value\":\"186272817.1941\",\"prev_closing_price\":\"183.1\",\"units_traded_24H\":\"4542413.56231813\",\"acc_trade_value_24H\":\"837378177.4414\",\"fluctate_24H\":\"5.3\",\"fluctate_rate_24H\":\"3.01\"},\"AXS\":{\"opening_price\":\"13130\",\"closing_price\":\"13140\",\"min_price\":\"13070\",\"max_price\":\"13210\",\"units_traded\":\"6248.65277661\",\"acc_trade_value\":\"82107810.4259\",\"prev_closing_price\":\"13120\",\"units_traded_24H\":\"34221.89511472\",\"acc_trade_value_24H\":\"448743609.5949\",\"fluctate_24H\":\"310\",\"fluctate_rate_24H\":\"2.42\"},\"DAO\":{\"opening_price\":\"1918\",\"closing_price\":\"1945\",\"min_price\":\"1869\",\"max_price\":\"1968\",\"units_traded\":\"3787.1924\",\"acc_trade_value\":\"7303390.5348\",\"prev_closing_price\":\"1918\",\"units_traded_24H\":\"13809.23280555\",\"acc_trade_value_24H\":\"26385569.4281\",\"fluctate_24H\":\"11\",\"fluctate_rate_24H\":\"0.57\"},\"SIX\":{\"opening_price\":\"72.41\",\"closing_price\":\"72.69\",\"min_price\":\"71.4\",\"max_price\":\"74.39\",\"units_traded\":\"1460016.50567454\",\"acc_trade_value\":\"105737097.8307\",\"prev_closing_price\":\"72.42\",\"units_traded_24H\":\"9335757.99856746\",\"acc_trade_value_24H\":\"682986271.631\",\"fluctate_24H\":\"0.85\",\"fluctate_rate_24H\":\"1.18\"},\"DAI\":{\"opening_price\":\"1317\",\"closing_price\":\"1315\",\"min_price\":\"1313\",\"max_price\":\"1324\",\"units_traded\":\"33564.6227\",\"acc_trade_value\":\"44196271.2954\",\"prev_closing_price\":\"1317\",\"units_traded_24H\":\"266915.5088\",\"acc_trade_value_24H\":\"352827855.2094\",\"fluctate_24H\":\"-22\",\"fluctate_rate_24H\":\"-1.65\"},\"SHIB\":{\"opening_price\":\"0.0163\",\"closing_price\":\"0.0162\",\"min_price\":\"0.016\",\"max_price\":\"0.0163\",\"units_traded\":\"4804330676.96678888\",\"acc_trade_value\":\"77609821.2924\",\"prev_closing_price\":\"0.0163\",\"units_traded_24H\":\"15892065019.03156188\",\"acc_trade_value_24H\":\"257427043.9858\",\"fluctate_24H\":\"0.0001\",\"fluctate_rate_24H\":\"0.62\"},\"MATIC\":{\"opening_price\":\"1640\",\"closing_price\":\"1631\",\"min_price\":\"1621\",\"max_price\":\"1647\",\"units_traded\":\"128687.15820425\",\"acc_trade_value\":\"210256834.1984\",\"prev_closing_price\":\"1639\",\"units_traded_24H\":\"921919.94522713\",\"acc_trade_value_24H\":\"1512782053.8994\",\"fluctate_24H\":\"29\",\"fluctate_rate_24H\":\"1.81\"},\"WOO\":{\"opening_price\":\"286.3\",\"closing_price\":\"288.7\",\"min_price\":\"285\",\"max_price\":\"290.3\",\"units_traded\":\"19392.7965\",\"acc_trade_value\":\"5589000.7248\",\"prev_closing_price\":\"287\",\"units_traded_24H\":\"208041.81526116\",\"acc_trade_value_24H\":\"59361653.4864\",\"fluctate_24H\":\"9.3\",\"fluctate_rate_24H\":\"3.33\"},\"ACH\":{\"opening_price\":\"47.62\",\"closing_price\":\"47.69\",\"min_price\":\"46.66\",\"max_price\":\"48.21\",\"units_traded\":\"9421604.22719755\",\"acc_trade_value\":\"449098442.6039\",\"prev_closing_price\":\"47.63\",\"units_traded_24H\":\"50832201.33613232\",\"acc_trade_value_24H\":\"2406863709.3566\",\"fluctate_24H\":\"1.98\",\"fluctate_rate_24H\":\"4.33\"},\"VELO\":{\"opening_price\":\"13.49\",\"closing_price\":\"13.59\",\"min_price\":\"12.59\",\"max_price\":\"14.3\",\"units_traded\":\"275124699.94065805\",\"acc_trade_value\":\"3756346060.3749\",\"prev_closing_price\":\"13.5\",\"units_traded_24H\":\"1124787373.01708269\",\"acc_trade_value_24H\":\"15413615596.6171\",\"fluctate_24H\":\"1.57\",\"fluctate_rate_24H\":\"13.06\"},\"XLM\":{\"opening_price\":\"115.5\",\"closing_price\":\"115.8\",\"min_price\":\"115.3\",\"max_price\":\"116\",\"units_traded\":\"2948138.28242527\",\"acc_trade_value\":\"341216770.8871\",\"prev_closing_price\":\"115.4\",\"units_traded_24H\":\"5440118.09012719\",\"acc_trade_value_24H\":\"630772317.917\",\"fluctate_24H\":\"-0.5\",\"fluctate_rate_24H\":\"-0.43\"},\"WICC\":{\"opening_price\":\"62.07\",\"closing_price\":\"61.63\",\"min_price\":\"60.96\",\"max_price\":\"62.08\",\"units_traded\":\"292172.798\",\"acc_trade_value\":\"17856629.9953\",\"prev_closing_price\":\"62.07\",\"units_traded_24H\":\"2337814.38437413\",\"acc_trade_value_24H\":\"144774396.1216\",\"fluctate_24H\":\"-0.52\",\"fluctate_rate_24H\":\"-0.84\"},\"ONT\":{\"opening_price\":\"339.9\",\"closing_price\":\"341.8\",\"min_price\":\"339.9\",\"max_price\":\"345.3\",\"units_traded\":\"42399.89667598\",\"acc_trade_value\":\"14529753.0798\",\"prev_closing_price\":\"340.4\",\"units_traded_24H\":\"348578.96282003\",\"acc_trade_value_24H\":\"118319804.0271\",\"fluctate_24H\":\"12.8\",\"fluctate_rate_24H\":\"3.89\"},\"META\":{\"opening_price\":\"46.17\",\"closing_price\":\"46.49\",\"min_price\":\"46\",\"max_price\":\"46.73\",\"units_traded\":\"526585.47713422\",\"acc_trade_value\":\"24432318.4407\",\"prev_closing_price\":\"46.16\",\"units_traded_24H\":\"4567962.7583699\",\"acc_trade_value_24H\":\"210617839.7023\",\"fluctate_24H\":\"0.16\",\"fluctate_rate_24H\":\"0.35\"},\"KLAY\":{\"opening_price\":\"367.6\",\"closing_price\":\"360\",\"min_price\":\"359.5\",\"max_price\":\"368.7\",\"units_traded\":\"4287358.80195359\",\"acc_trade_value\":\"1561813841.9936\",\"prev_closing_price\":\"367.6\",\"units_traded_24H\":\"22141315.34870359\",\"acc_trade_value_24H\":\"8210950110.2758\",\"fluctate_24H\":\"-11.3\",\"fluctate_rate_24H\":\"-3.04\"},\"ONG\":{\"opening_price\":\"433.3\",\"closing_price\":\"436.8\",\"min_price\":\"427.5\",\"max_price\":\"439.1\",\"units_traded\":\"15940.1948\",\"acc_trade_value\":\"6951786.3255\",\"prev_closing_price\":\"437\",\"units_traded_24H\":\"71530.45297324\",\"acc_trade_value_24H\":\"31072167.4636\",\"fluctate_24H\":\"2.9\",\"fluctate_rate_24H\":\"0.67\"},\"ALGO\":{\"opening_price\":\"332\",\"closing_price\":\"329.9\",\"min_price\":\"328.1\",\"max_price\":\"332.5\",\"units_traded\":\"206348.903222\",\"acc_trade_value\":\"68061830.499\",\"prev_closing_price\":\"332.1\",\"units_traded_24H\":\"693092.059981\",\"acc_trade_value_24H\":\"229403221.5812\",\"fluctate_24H\":\"3.6\",\"fluctate_rate_24H\":\"1.10\"},\"JST\":{\"opening_price\":\"39.08\",\"closing_price\":\"39.21\",\"min_price\":\"38.92\",\"max_price\":\"39.48\",\"units_traded\":\"62883.7089\",\"acc_trade_value\":\"2470982.9661\",\"prev_closing_price\":\"39.2\",\"units_traded_24H\":\"1798108.17852653\",\"acc_trade_value_24H\":\"70325326.1934\",\"fluctate_24H\":\"0.21\",\"fluctate_rate_24H\":\"0.54\"},\"XTZ\":{\"opening_price\":\"1575\",\"closing_price\":\"1575\",\"min_price\":\"1565\",\"max_price\":\"1585\",\"units_traded\":\"7118.1238\",\"acc_trade_value\":\"11204416.0843\",\"prev_closing_price\":\"1575\",\"units_traded_24H\":\"44108.968238\",\"acc_trade_value_24H\":\"68528467.3604\",\"fluctate_24H\":\"55\",\"fluctate_rate_24H\":\"3.62\"},\"MLK\":{\"opening_price\":\"418\",\"closing_price\":\"420\",\"min_price\":\"416.7\",\"max_price\":\"422.6\",\"units_traded\":\"59047.7153\",\"acc_trade_value\":\"24801634.1242\",\"prev_closing_price\":\"418.5\",\"units_traded_24H\":\"200690.89645262\",\"acc_trade_value_24H\":\"83298348.8211\",\"fluctate_24H\":\"4.8\",\"fluctate_rate_24H\":\"1.16\"},\"DOT\":{\"opening_price\":\"8570\",\"closing_price\":\"8545\",\"min_price\":\"8495\",\"max_price\":\"8630\",\"units_traded\":\"13144.97869789\",\"acc_trade_value\":\"112464994.5344\",\"prev_closing_price\":\"8600\",\"units_traded_24H\":\"54225.50614735\",\"acc_trade_value_24H\":\"466067424.1379\",\"fluctate_24H\":\"65\",\"fluctate_rate_24H\":\"0.77\"},\"ATOM\":{\"opening_price\":\"16980\",\"closing_price\":\"16880\",\"min_price\":\"16650\",\"max_price\":\"16980\",\"units_traded\":\"18810.9093458\",\"acc_trade_value\":\"316184354.9049\",\"prev_closing_price\":\"16940\",\"units_traded_24H\":\"30937.24925631\",\"acc_trade_value_24H\":\"519680769.5821\",\"fluctate_24H\":\"430\",\"fluctate_rate_24H\":\"2.61\"},\"SSX\":{\"opening_price\":\"29\",\"closing_price\":\"28.84\",\"min_price\":\"28.8\",\"max_price\":\"29.24\",\"units_traded\":\"909952.48383964\",\"acc_trade_value\":\"26418698.1942\",\"prev_closing_price\":\"29.13\",\"units_traded_24H\":\"6882245.63001592\",\"acc_trade_value_24H\":\"200312572.8672\",\"fluctate_24H\":\"-0.32\",\"fluctate_rate_24H\":\"-1.1\"},\"TEMCO\":{\"opening_price\":\"3.343\",\"closing_price\":\"3.274\",\"min_price\":\"3.209\",\"max_price\":\"3.36\",\"units_traded\":\"59154186.83481606\",\"acc_trade_value\":\"193088901.6494\",\"prev_closing_price\":\"3.355\",\"units_traded_24H\":\"277488771.90714199\",\"acc_trade_value_24H\":\"918975263.0894\",\"fluctate_24H\":\"0.026\",\"fluctate_rate_24H\":\"0.80\"},\"HIBS\":{\"opening_price\":\"0.8039\",\"closing_price\":\"0.8194\",\"min_price\":\"0.7957\",\"max_price\":\"0.8194\",\"units_traded\":\"51166320.1372\",\"acc_trade_value\":\"41307636.9042\",\"prev_closing_price\":\"0.8094\",\"units_traded_24H\":\"227256676.2519319\",\"acc_trade_value_24H\":\"182012843.2095\",\"fluctate_24H\":\"0.0225\",\"fluctate_rate_24H\":\"2.82\"},\"DOGE\":{\"opening_price\":\"108\",\"closing_price\":\"107.8\",\"min_price\":\"107.7\",\"max_price\":\"108.5\",\"units_traded\":\"8360566.91576376\",\"acc_trade_value\":\"902748923.3414\",\"prev_closing_price\":\"107.9\",\"units_traded_24H\":\"31861168.24335919\",\"acc_trade_value_24H\":\"3454405953.6916\",\"fluctate_24H\":\"-0.2\",\"fluctate_rate_24H\":\"-0.19\"},\"KSM\":{\"opening_price\":\"49580\",\"closing_price\":\"50250\",\"min_price\":\"49300\",\"max_price\":\"50250\",\"units_traded\":\"603.2237\",\"acc_trade_value\":\"29956728.503\",\"prev_closing_price\":\"49580\",\"units_traded_24H\":\"1739.60606731\",\"acc_trade_value_24H\":\"85878352.2429\",\"fluctate_24H\":\"2020\",\"fluctate_rate_24H\":\"4.19\"},\"CTK\":{\"opening_price\":\"1098\",\"closing_price\":\"1097\",\"min_price\":\"1097\",\"max_price\":\"1101\",\"units_traded\":\"1162.9108\",\"acc_trade_value\":\"1276876.4282\",\"prev_closing_price\":\"1106\",\"units_traded_24H\":\"13459.68100249\",\"acc_trade_value_24H\":\"14613512.1171\",\"fluctate_24H\":\"31\",\"fluctate_rate_24H\":\"2.91\"},\"XYM\":{\"opening_price\":\"51.85\",\"closing_price\":\"52.09\",\"min_price\":\"51.84\",\"max_price\":\"52.53\",\"units_traded\":\"182682.47420909\",\"acc_trade_value\":\"9521466.0577\",\"prev_closing_price\":\"51.85\",\"units_traded_24H\":\"998018.98792902\",\"acc_trade_value_24H\":\"51807084.8305\",\"fluctate_24H\":\"0.61\",\"fluctate_rate_24H\":\"1.18\"},\"BNB\":{\"opening_price\":\"399100\",\"closing_price\":\"398000\",\"min_price\":\"397700\",\"max_price\":\"399300\",\"units_traded\":\"86.8288738\",\"acc_trade_value\":\"34567423.9466\",\"prev_closing_price\":\"399000\",\"units_traded_24H\":\"480.17664268\",\"acc_trade_value_24H\":\"192752907.984\",\"fluctate_24H\":\"-5000\",\"fluctate_rate_24H\":\"-1.24\"},\"NFT\":{\"opening_price\":\"0.0007\",\"closing_price\":\"0.0006\",\"min_price\":\"0.0006\",\"max_price\":\"0.0007\",\"units_traded\":\"10086851294.52748571\",\"acc_trade_value\":\"6467891.0816\",\"prev_closing_price\":\"0.0006\",\"units_traded_24H\":\"17005620395.67929996\",\"acc_trade_value_24H\":\"10739047.8361\",\"fluctate_24H\":\"-0.0001\",\"fluctate_rate_24H\":\"-14.29\"},\"SUN\":{\"opening_price\":\"9.02\",\"closing_price\":\"9.121\",\"min_price\":\"9.013\",\"max_price\":\"9.15\",\"units_traded\":\"3798549.673008\",\"acc_trade_value\":\"34601451.5168\",\"prev_closing_price\":\"9.029\",\"units_traded_24H\":\"24135461.67367\",\"acc_trade_value_24H\":\"218939830.3768\",\"fluctate_24H\":\"0.151\",\"fluctate_rate_24H\":\"1.68\"},\"XEC\":{\"opening_price\":\"0.0458\",\"closing_price\":\"0.0458\",\"min_price\":\"0.0456\",\"max_price\":\"0.046\",\"units_traded\":\"1388262792.1264\",\"acc_trade_value\":\"63633646.4301\",\"prev_closing_price\":\"0.0459\",\"units_traded_24H\":\"6926673787.79543163\",\"acc_trade_value_24H\":\"317524289.8557\",\"fluctate_24H\":\"0.0001\",\"fluctate_rate_24H\":\"0.22\"},\"PCI\":{\"opening_price\":\"412.5\",\"closing_price\":\"406.2\",\"min_price\":\"403.3\",\"max_price\":\"427.7\",\"units_traded\":\"2019266.62877556\",\"acc_trade_value\":\"832875733.3716\",\"prev_closing_price\":\"411.7\",\"units_traded_24H\":\"11270058.99739482\",\"acc_trade_value_24H\":\"4836253765.964\",\"fluctate_24H\":\"-36.5\",\"fluctate_rate_24H\":\"-8.24\"},\"SOL\":{\"opening_price\":\"29800\",\"closing_price\":\"29570\",\"min_price\":\"29370\",\"max_price\":\"29920\",\"units_traded\":\"31447.61052002\",\"acc_trade_value\":\"929873618.5789\",\"prev_closing_price\":\"29790\",\"units_traded_24H\":\"85213.79567661\",\"acc_trade_value_24H\":\"2525419402.9744\",\"fluctate_24H\":\"450\",\"fluctate_rate_24H\":\"1.55\"},\"LN\":{\"opening_price\":\"57400\",\"closing_price\":\"57200\",\"min_price\":\"56950\",\"max_price\":\"57750\",\"units_traded\":\"2660.83910242\",\"acc_trade_value\":\"152329423.0465\",\"prev_closing_price\":\"57400\",\"units_traded_24H\":\"8595.13424917\",\"acc_trade_value_24H\":\"493873265.2074\",\"fluctate_24H\":\"-400\",\"fluctate_rate_24H\":\"-0.69\"},\"EGLD\":{\"opening_price\":\"64150\",\"closing_price\":\"63450\",\"min_price\":\"63450\",\"max_price\":\"64400\",\"units_traded\":\"1157.24155109\",\"acc_trade_value\":\"73962433.1749\",\"prev_closing_price\":\"64050\",\"units_traded_24H\":\"3700.53680595\",\"acc_trade_value_24H\":\"239638022.8749\",\"fluctate_24H\":\"-800\",\"fluctate_rate_24H\":\"-1.25\"},\"GO\":{\"opening_price\":\"10.62\",\"closing_price\":\"10.6\",\"min_price\":\"10.51\",\"max_price\":\"10.62\",\"units_traded\":\"1806730.38890451\",\"acc_trade_value\":\"19034231.4169\",\"prev_closing_price\":\"10.63\",\"units_traded_24H\":\"6602257.62330451\",\"acc_trade_value_24H\":\"69827656.0296\",\"fluctate_24H\":\"0.06\",\"fluctate_rate_24H\":\"0.57\"},\"DFA\":{\"opening_price\":\"74.25\",\"closing_price\":\"74.4\",\"min_price\":\"72.65\",\"max_price\":\"76.69\",\"units_traded\":\"720980.45348623\",\"acc_trade_value\":\"54008138.7827\",\"prev_closing_price\":\"74.8\",\"units_traded_24H\":\"1362968.79869762\",\"acc_trade_value_24H\":\"101651309.7159\",\"fluctate_24H\":\"0.42\",\"fluctate_rate_24H\":\"0.57\"},\"C98\":{\"opening_price\":\"363.2\",\"closing_price\":\"371.1\",\"min_price\":\"361.4\",\"max_price\":\"372.6\",\"units_traded\":\"128537.65023443\",\"acc_trade_value\":\"47334717.198\",\"prev_closing_price\":\"363.8\",\"units_traded_24H\":\"408616.78681687\",\"acc_trade_value_24H\":\"149569729.8816\",\"fluctate_24H\":\"15\",\"fluctate_rate_24H\":\"4.21\"},\"MED\":{\"opening_price\":\"26.05\",\"closing_price\":\"26.13\",\"min_price\":\"25.98\",\"max_price\":\"26.5\",\"units_traded\":\"236113.189\",\"acc_trade_value\":\"6168497.2765\",\"prev_closing_price\":\"26.04\",\"units_traded_24H\":\"1730962.29283712\",\"acc_trade_value_24H\":\"45082526.0499\",\"fluctate_24H\":\"0.03\",\"fluctate_rate_24H\":\"0.11\"},\"1INCH\":{\"opening_price\":\"776.9\",\"closing_price\":\"776.4\",\"min_price\":\"765.4\",\"max_price\":\"782.3\",\"units_traded\":\"32501.6741\",\"acc_trade_value\":\"25131041.4264\",\"prev_closing_price\":\"782\",\"units_traded_24H\":\"85845.26771223\",\"acc_trade_value_24H\":\"66904331.4082\",\"fluctate_24H\":\"16.5\",\"fluctate_rate_24H\":\"2.17\"},\"BOBA\":{\"opening_price\":\"367.3\",\"closing_price\":\"365.4\",\"min_price\":\"358.2\",\"max_price\":\"367.3\",\"units_traded\":\"35469.16713317\",\"acc_trade_value\":\"12775697.2267\",\"prev_closing_price\":\"363.6\",\"units_traded_24H\":\"129787.27318158\",\"acc_trade_value_24H\":\"47174293.7792\",\"fluctate_24H\":\"0\",\"fluctate_rate_24H\":\"0.00\"},\"GALA\":{\"opening_price\":\"54.22\",\"closing_price\":\"54.8\",\"min_price\":\"53.39\",\"max_price\":\"55\",\"units_traded\":\"4428440.4057067\",\"acc_trade_value\":\"241369450.9667\",\"prev_closing_price\":\"54.23\",\"units_traded_24H\":\"15053985.30774371\",\"acc_trade_value_24H\":\"815708965.6314\",\"fluctate_24H\":\"2\",\"fluctate_rate_24H\":\"3.79\"},\"BTT\":{\"opening_price\":\"0.0009\",\"closing_price\":\"0.001\",\"min_price\":\"0.0009\",\"max_price\":\"0.001\",\"units_traded\":\"4821446584.3697\",\"acc_trade_value\":\"4427255.9346\",\"prev_closing_price\":\"0.001\",\"units_traded_24H\":\"16903018357.0048\",\"acc_trade_value_24H\":\"15771333.7804\",\"fluctate_24H\":\"0.0001\",\"fluctate_rate_24H\":\"11.11\"},\"EFI\":{\"opening_price\":\"127\",\"closing_price\":\"122.2\",\"min_price\":\"120\",\"max_price\":\"128.9\",\"units_traded\":\"767718.92056217\",\"acc_trade_value\":\"94255601.1267\",\"prev_closing_price\":\"125.7\",\"units_traded_24H\":\"885246.72941897\",\"acc_trade_value_24H\":\"109057737.8624\",\"fluctate_24H\":\"-3.8\",\"fluctate_rate_24H\":\"-3.02\"},\"JASMY\":{\"opening_price\":\"7.844\",\"closing_price\":\"7.977\",\"min_price\":\"7.844\",\"max_price\":\"8.004\",\"units_traded\":\"2397318.99741278\",\"acc_trade_value\":\"19041912.6771\",\"prev_closing_price\":\"7.892\",\"units_traded_24H\":\"23203138.17719947\",\"acc_trade_value_24H\":\"180048805.5343\",\"fluctate_24H\":\"0.337\",\"fluctate_rate_24H\":\"4.41\"},\"TITAN\":{\"opening_price\":\"96.24\",\"closing_price\":\"95\",\"min_price\":\"94.35\",\"max_price\":\"100.6\",\"units_traded\":\"4536240.86036788\",\"acc_trade_value\":\"444256181.321\",\"prev_closing_price\":\"96.24\",\"units_traded_24H\":\"6456965.08992121\",\"acc_trade_value_24H\":\"628043462.1618\",\"fluctate_24H\":\"0.11\",\"fluctate_rate_24H\":\"0.12\"},\"REQ\":{\"opening_price\":\"150.8\",\"closing_price\":\"150\",\"min_price\":\"149.1\",\"max_price\":\"151\",\"units_traded\":\"68625.6659\",\"acc_trade_value\":\"10289617.6495\",\"prev_closing_price\":\"150.6\",\"units_traded_24H\":\"536004.92000645\",\"acc_trade_value_24H\":\"79417820.8975\",\"fluctate_24H\":\"3.4\",\"fluctate_rate_24H\":\"2.32\"},\"CSPR\":{\"opening_price\":\"53.71\",\"closing_price\":\"53.3\",\"min_price\":\"53.12\",\"max_price\":\"53.71\",\"units_traded\":\"319156.64803387\",\"acc_trade_value\":\"17036085.7093\",\"prev_closing_price\":\"53.71\",\"units_traded_24H\":\"2840094.93393387\",\"acc_trade_value_24H\":\"151578405.5139\",\"fluctate_24H\":\"0.77\",\"fluctate_rate_24H\":\"1.47\"},\"AVAX\":{\"opening_price\":\"23260\",\"closing_price\":\"23350\",\"min_price\":\"23000\",\"max_price\":\"23450\",\"units_traded\":\"4356.78425402\",\"acc_trade_value\":\"101438745.5539\",\"prev_closing_price\":\"23300\",\"units_traded_24H\":\"12379.9140645\",\"acc_trade_value_24H\":\"288344946.0129\",\"fluctate_24H\":\"490\",\"fluctate_rate_24H\":\"2.14\"},\"TDROP\":{\"opening_price\":\"6.467\",\"closing_price\":\"6.467\",\"min_price\":\"6.395\",\"max_price\":\"6.499\",\"units_traded\":\"1960892.9263\",\"acc_trade_value\":\"12599005.9041\",\"prev_closing_price\":\"6.437\",\"units_traded_24H\":\"8749221.64833274\",\"acc_trade_value_24H\":\"56598858.4715\",\"fluctate_24H\":\"-0.008\",\"fluctate_rate_24H\":\"-0.12\"},\"NPT\":{\"opening_price\":\"1446\",\"closing_price\":\"1416\",\"min_price\":\"1401\",\"max_price\":\"1453\",\"units_traded\":\"17961.85092731\",\"acc_trade_value\":\"25505804.7234\",\"prev_closing_price\":\"1448\",\"units_traded_24H\":\"68735.74528106\",\"acc_trade_value_24H\":\"99197459.9566\",\"fluctate_24H\":\"-43\",\"fluctate_rate_24H\":\"-2.95\"},\"REI\":{\"opening_price\":\"45.9\",\"closing_price\":\"45.88\",\"min_price\":\"45.53\",\"max_price\":\"46.26\",\"units_traded\":\"689722.59561738\",\"acc_trade_value\":\"31635891.5597\",\"prev_closing_price\":\"45.9\",\"units_traded_24H\":\"3736002.17873181\",\"acc_trade_value_24H\":\"172712482.7517\",\"fluctate_24H\":\"0.31\",\"fluctate_rate_24H\":\"0.68\"},\"T\":{\"opening_price\":\"53.64\",\"closing_price\":\"55.98\",\"min_price\":\"53.11\",\"max_price\":\"57.5\",\"units_traded\":\"13324349.25011245\",\"acc_trade_value\":\"741406172.6915\",\"prev_closing_price\":\"53.81\",\"units_traded_24H\":\"58566992.63553957\",\"acc_trade_value_24H\":\"3208534666.7571\",\"fluctate_24H\":\"5.3\",\"fluctate_rate_24H\":\"10.46\"},\"MBX\":{\"opening_price\":\"2049\",\"closing_price\":\"2030\",\"min_price\":\"2008\",\"max_price\":\"2067\",\"units_traded\":\"34154.67945917\",\"acc_trade_value\":\"69104532.4646\",\"prev_closing_price\":\"2049\",\"units_traded_24H\":\"87765.17198183\",\"acc_trade_value_24H\":\"178297834.2515\",\"fluctate_24H\":\"-11\",\"fluctate_rate_24H\":\"-0.54\"},\"GMT\":{\"opening_price\":\"505.3\",\"closing_price\":\"511.8\",\"min_price\":\"501.3\",\"max_price\":\"516.3\",\"units_traded\":\"297904.62014651\",\"acc_trade_value\":\"151555683.1449\",\"prev_closing_price\":\"506.9\",\"units_traded_24H\":\"1319404.20527362\",\"acc_trade_value_24H\":\"672108510.0691\",\"fluctate_24H\":\"14.1\",\"fluctate_rate_24H\":\"2.83\"},\"TAVA\":{\"opening_price\":\"246.2\",\"closing_price\":\"244.9\",\"min_price\":\"242.1\",\"max_price\":\"254.2\",\"units_traded\":\"838419.64010288\",\"acc_trade_value\":\"207217359.7143\",\"prev_closing_price\":\"244.5\",\"units_traded_24H\":\"1928318.25359353\",\"acc_trade_value_24H\":\"473703196.0651\",\"fluctate_24H\":\"1\",\"fluctate_rate_24H\":\"0.41\"},\"DAR\":{\"opening_price\":\"278.1\",\"closing_price\":\"277.4\",\"min_price\":\"275.2\",\"max_price\":\"278.1\",\"units_traded\":\"28966.2344\",\"acc_trade_value\":\"7997363.9775\",\"prev_closing_price\":\"278.1\",\"units_traded_24H\":\"160296.11945801\",\"acc_trade_value_24H\":\"43963149.3024\",\"fluctate_24H\":\"6.8\",\"fluctate_rate_24H\":\"2.51\"},\"ALT\":{\"opening_price\":\"1227\",\"closing_price\":\"1321\",\"min_price\":\"1214\",\"max_price\":\"1480\",\"units_traded\":\"2988207.89075037\",\"acc_trade_value\":\"4072993173.2839\",\"prev_closing_price\":\"1227\",\"units_traded_24H\":\"3892095.37825471\",\"acc_trade_value_24H\":\"5170587073.1738\",\"fluctate_24H\":\"33\",\"fluctate_rate_24H\":\"2.56\"},\"XCN\":{\"opening_price\":\"12.28\",\"closing_price\":\"11.89\",\"min_price\":\"11.8\",\"max_price\":\"12.28\",\"units_traded\":\"41000974.13326817\",\"acc_trade_value\":\"489979086.3749\",\"prev_closing_price\":\"12.21\",\"units_traded_24H\":\"260577836.87173438\",\"acc_trade_value_24H\":\"3263968522.4649\",\"fluctate_24H\":\"0.06\",\"fluctate_rate_24H\":\"0.51\"},\"GXA\":{\"opening_price\":\"13.62\",\"closing_price\":\"14.19\",\"min_price\":\"13.61\",\"max_price\":\"14.55\",\"units_traded\":\"17409116.22663071\",\"acc_trade_value\":\"246255580.7268\",\"prev_closing_price\":\"13.72\",\"units_traded_24H\":\"48471960.30606192\",\"acc_trade_value_24H\":\"673764201.7985\",\"fluctate_24H\":\"0.62\",\"fluctate_rate_24H\":\"4.57\"},\"AZIT\":{\"opening_price\":\"262\",\"closing_price\":\"250\",\"min_price\":\"245.8\",\"max_price\":\"262\",\"units_traded\":\"734949.39884013\",\"acc_trade_value\":\"185012748.8706\",\"prev_closing_price\":\"262\",\"units_traded_24H\":\"4023127.76419623\",\"acc_trade_value_24H\":\"1056993438.8236\",\"fluctate_24H\":\"-13.2\",\"fluctate_rate_24H\":\"-5.02\"},\"FLR\":{\"opening_price\":\"53.76\",\"closing_price\":\"50.33\",\"min_price\":\"49.95\",\"max_price\":\"53.77\",\"units_traded\":\"10118369.20353167\",\"acc_trade_value\":\"515176769.656\",\"prev_closing_price\":\"53.76\",\"units_traded_24H\":\"39473319.00075592\",\"acc_trade_value_24H\":\"2092099823.5475\",\"fluctate_24H\":\"-1.17\",\"fluctate_rate_24H\":\"-2.27\"},\"SFP\":{\"opening_price\":\"686.6\",\"closing_price\":\"694.4\",\"min_price\":\"684.4\",\"max_price\":\"695.6\",\"units_traded\":\"6739.59493068\",\"acc_trade_value\":\"4665485.9398\",\"prev_closing_price\":\"688.1\",\"units_traded_24H\":\"38837.3749854\",\"acc_trade_value_24H\":\"26632881.0218\",\"fluctate_24H\":\"26.5\",\"fluctate_rate_24H\":\"3.97\"},\"FITFI\":{\"opening_price\":\"33.52\",\"closing_price\":\"33.28\",\"min_price\":\"33.28\",\"max_price\":\"34.28\",\"units_traded\":\"1256919.55982816\",\"acc_trade_value\":\"42300139.548\",\"prev_closing_price\":\"33.3\",\"units_traded_24H\":\"4892694.52699967\",\"acc_trade_value_24H\":\"164177187.1891\",\"fluctate_24H\":\"-0.21\",\"fluctate_rate_24H\":\"-0.63\"},\"STAT\":{\"opening_price\":\"237.6\",\"closing_price\":\"229.3\",\"min_price\":\"226.3\",\"max_price\":\"239.6\",\"units_traded\":\"250410.0743\",\"acc_trade_value\":\"57837238.2741\",\"prev_closing_price\":\"235.2\",\"units_traded_24H\":\"722227.49191042\",\"acc_trade_value_24H\":\"168055163.2471\",\"fluctate_24H\":\"-2.1\",\"fluctate_rate_24H\":\"-0.91\"},\"CRTS\":{\"opening_price\":\"0.7354\",\"closing_price\":\"0.7401\",\"min_price\":\"0.7311\",\"max_price\":\"0.7525\",\"units_traded\":\"412044573.5860022\",\"acc_trade_value\":\"305253541.7453\",\"prev_closing_price\":\"0.7351\",\"units_traded_24H\":\"1993156723.18646452\",\"acc_trade_value_24H\":\"1469659370.8099\",\"fluctate_24H\":\"0.0176\",\"fluctate_rate_24H\":\"2.44\"},\"VIX\":{\"opening_price\":\"23.83\",\"closing_price\":\"24.71\",\"min_price\":\"23.5\",\"max_price\":\"26\",\"units_traded\":\"33885576.95984139\",\"acc_trade_value\":\"850878217.1079\",\"prev_closing_price\":\"24.02\",\"units_traded_24H\":\"63508991.4968214\",\"acc_trade_value_24H\":\"1550361806.4114\",\"fluctate_24H\":\"1.51\",\"fluctate_rate_24H\":\"6.51\"},\"LBL\":{\"opening_price\":\"7.43\",\"closing_price\":\"7.3\",\"min_price\":\"7.3\",\"max_price\":\"7.431\",\"units_traded\":\"20584481.13940201\",\"acc_trade_value\":\"150554125.1284\",\"prev_closing_price\":\"7.431\",\"units_traded_24H\":\"31975766.50768364\",\"acc_trade_value_24H\":\"234518156.0811\",\"fluctate_24H\":\"-0.147\",\"fluctate_rate_24H\":\"-1.97\"},\"LM\":{\"opening_price\":\"362.4\",\"closing_price\":\"367\",\"min_price\":\"356.1\",\"max_price\":\"396\",\"units_traded\":\"4313313.3608852\",\"acc_trade_value\":\"1618690773.9685\",\"prev_closing_price\":\"362.4\",\"units_traded_24H\":\"37698384.49009104\",\"acc_trade_value_24H\":\"13224984488.2356\",\"fluctate_24H\":\"-6.8\",\"fluctate_rate_24H\":\"-1.82\"},\"BLUR\":{\"opening_price\":\"1076\",\"closing_price\":\"1145\",\"min_price\":\"1068\",\"max_price\":\"1161\",\"units_traded\":\"659841.87575618\",\"acc_trade_value\":\"752674295.7166\",\"prev_closing_price\":\"1077\",\"units_traded_24H\":\"1502382.98324343\",\"acc_trade_value_24H\":\"1656261898.1955\",\"fluctate_24H\":\"106\",\"fluctate_rate_24H\":\"10.20\"},\"date\":\"1677717975605\"}}\n"
     ]
    }
   ],
   "source": [
    "import requests\n",
    "\n",
    "url = \"https://api.bithumb.com/public/ticker/ALL_KRW\"\n",
    "\n",
    "headers = {\"accept\": \"application/json\"}\n",
    "\n",
    "response = requests.get(url, headers=headers)\n",
    "\n",
    "print(response.text)"
   ]
  },
  {
   "cell_type": "code",
   "execution_count": 1,
   "metadata": {},
   "outputs": [
    {
     "name": "stderr",
     "output_type": "stream",
     "text": [
      "C:\\Users\\user\\AppData\\Local\\Temp\\ipykernel_14996\\407668990.py:8: DeprecationWarning: executable_path has been deprecated, please pass in a Service object\n",
      "  driver = webdriver.Chrome('chromedriver.exe')\n"
     ]
    }
   ],
   "source": [
    "# import requests   # 빗썸은 reqeusts 를 거부\n",
    "from selenium import webdriver\n",
    "import time\n",
    "from bs4 import BeautifulSoup as bs   # 페이지 정제\n",
    "\n",
    "url = 'https://www.bithumb.com/trade/order/BTC_KRW'\n",
    "\n",
    "driver = webdriver.Chrome('chromedriver.exe')\n",
    "\n",
    "driver.get(url)\n",
    "\n",
    "txt = driver.page_source\n",
    "html = bs(txt)  # 문법 주의 \n",
    "\n",
    "\n"
   ]
  },
  {
   "cell_type": "code",
   "execution_count": 2,
   "metadata": {},
   "outputs": [
    {
     "data": {
      "text/plain": [
       "[<h3 class=\"color_blue\">31,130,000</h3>]"
      ]
     },
     "execution_count": 2,
     "metadata": {},
     "output_type": "execute_result"
    }
   ],
   "source": [
    "html.select('h3.color_blue')"
   ]
  },
  {
   "cell_type": "code",
   "execution_count": 3,
   "metadata": {},
   "outputs": [
    {
     "data": {
      "text/plain": [
       "'31,130,000'"
      ]
     },
     "execution_count": 3,
     "metadata": {},
     "output_type": "execute_result"
    }
   ],
   "source": [
    "html.select('h3.color_blue')[0].text"
   ]
  },
  {
   "cell_type": "code",
   "execution_count": 4,
   "metadata": {},
   "outputs": [
    {
     "name": "stderr",
     "output_type": "stream",
     "text": [
      "C:\\Users\\user\\AppData\\Local\\Temp\\ipykernel_14996\\2387885751.py:8: DeprecationWarning: executable_path has been deprecated, please pass in a Service object\n",
      "  driver = webdriver.Chrome('chromedriver.exe')\n"
     ]
    },
    {
     "data": {
      "text/plain": [
       "'31,129,000'"
      ]
     },
     "execution_count": 4,
     "metadata": {},
     "output_type": "execute_result"
    }
   ],
   "source": [
    "# import requests   # 빗썸은 reqeusts 를 거부\n",
    "from selenium import webdriver\n",
    "import time\n",
    "from bs4 import BeautifulSoup as bs   # 페이지 정제\n",
    "\n",
    "url = 'https://www.bithumb.com/trade/order/BTC_KRW'\n",
    "\n",
    "driver = webdriver.Chrome('chromedriver.exe')\n",
    "\n",
    "driver.get(url)\n",
    "\n",
    "txt = driver.page_source\n",
    "html = bs(txt)  # 문법 주의 \n",
    "\n",
    "\n",
    "html.select('h3.color_blue')[0].text"
   ]
  },
  {
   "cell_type": "code",
   "execution_count": null,
   "metadata": {},
   "outputs": [],
   "source": []
  },
  {
   "cell_type": "code",
   "execution_count": 6,
   "metadata": {},
   "outputs": [],
   "source": [
    "###############################################\n",
    "#                  Bithumb API                #\n",
    "###############################################\n",
    "\n",
    "# !pip install pybithumb\n",
    "\n",
    "# 빗썸에서 제공하는 API 설치 (최초 한번만 설치)"
   ]
  },
  {
   "cell_type": "code",
   "execution_count": 9,
   "metadata": {},
   "outputs": [
    {
     "name": "stdout",
     "output_type": "stream",
     "text": [
      "['BTC', 'ETH', 'ETC', 'XRP', 'BCH', 'QTUM', 'BTG', 'EOS', 'ICX', 'TRX', 'ELF', 'OMG', 'KNC', 'GLM', 'ZIL', 'WAXP', 'POWR', 'LRC', 'STEEM', 'STRAX', 'ZRX', 'REP', 'SNT', 'ADA', 'CTXC', 'BAT', 'THETA', 'LOOM', 'WAVES', 'LINK', 'ENJ', 'VET', 'MTL', 'IOST', 'QKC', 'ATOLO', 'AMO', 'BSV', 'ORBS', 'TFUEL', 'VALOR', 'CON', 'ANKR', 'MIX', 'CRO', 'FX', 'CHR', 'MBL', 'MXC', 'FCT2', 'TRV', 'WOM', 'SOC', 'BOA', 'MEV', 'SXP', 'COS', 'EL', 'BASIC', 'HIVE', 'XPR', 'VRA', 'FIT', 'EGG', 'BORA', 'ARPA', 'CTC', 'APM', 'CKB', 'AERGO', 'CENNZ', 'EVZ', 'SRM', 'QTCON', 'UNI', 'YFI', 'UMA', 'AAVE', 'COMP', 'REN', 'BAL', 'RSR', 'NMR', 'RLC', 'UOS', 'SAND', 'GOM2', 'BEL', 'OBSR', 'ORC', 'POLA', 'ADP', 'DVI', 'GHX', 'MVC', 'BLY', 'WOZX', 'ANV', 'GRT', 'BIOT', 'XNO', 'SNX', 'SOFI', 'COLA', 'OXT', 'LINA', 'MAP', 'AQT', 'PLA', 'WIKEN', 'CTSI', 'MANA', 'LPT', 'MKR', 'SUSHI', 'ASM', 'PUNDIX', 'CELR', 'ARW', 'FRONT', 'RLY', 'OCEAN', 'BFC', 'ALICE', 'OGN', 'COTI', 'CAKE', 'BNT', 'XVS', 'SWAP', 'CHZ', 'AXS', 'DAO', 'SIX', 'DAI', 'SHIB', 'MATIC', 'WOO', 'ACH', 'VELO', 'XLM', 'WICC', 'ONT', 'META', 'KLAY', 'ONG', 'ALGO', 'JST', 'XTZ', 'MLK', 'DOT', 'ATOM', 'SSX', 'TEMCO', 'HIBS', 'DOGE', 'KSM', 'CTK', 'XYM', 'BNB', 'NFT', 'SUN', 'XEC', 'PCI', 'SOL', 'LN', 'EGLD', 'GO', 'DFA', 'C98', 'MED', '1INCH', 'BOBA', 'GALA', 'BTT', 'EFI', 'JASMY', 'TITAN', 'REQ', 'CSPR', 'AVAX', 'TDROP', 'NPT', 'REI', 'T', 'MBX', 'GMT', 'TAVA', 'DAR', 'ALT', 'XCN', 'GXA', 'AZIT', 'FLR', 'SFP', 'FITFI', 'STAT', 'CRTS', 'VIX', 'LBL', 'LM', 'BLUR']\n",
      "202\n"
     ]
    }
   ],
   "source": [
    "import pybithumb as pb\n",
    "\n",
    "print(pb.get_tickers())\n",
    "# tickers 는 빗썸에서 거래 가능한 종목명을 출력\n",
    "\n",
    "print(len(pb.get_tickers()))"
   ]
  },
  {
   "cell_type": "code",
   "execution_count": 17,
   "metadata": {},
   "outputs": [
    {
     "name": "stdout",
     "output_type": "stream",
     "text": [
      "31074000.0\n"
     ]
    }
   ],
   "source": [
    "# 비트 코인 가격 조회\n",
    "\n",
    "print(pb.get_current_price(\"BTC\"))"
   ]
  },
  {
   "cell_type": "code",
   "execution_count": 19,
   "metadata": {},
   "outputs": [
    {
     "name": "stdout",
     "output_type": "stream",
     "text": [
      "31052000.0\n",
      "31069000.0\n",
      "31057000.0\n",
      "31069000.0\n",
      "31063000.0\n",
      "31056000.0\n"
     ]
    },
    {
     "ename": "KeyboardInterrupt",
     "evalue": "",
     "output_type": "error",
     "traceback": [
      "\u001b[1;31m---------------------------------------------------------------------------\u001b[0m",
      "\u001b[1;31mKeyboardInterrupt\u001b[0m                         Traceback (most recent call last)",
      "\u001b[1;32m~\\AppData\\Local\\Temp\\ipykernel_14996\\1476136384.py\u001b[0m in \u001b[0;36m<module>\u001b[1;34m\u001b[0m\n\u001b[0;32m      3\u001b[0m \u001b[1;32mwhile\u001b[0m \u001b[1;32mTrue\u001b[0m\u001b[1;33m:\u001b[0m\u001b[1;33m\u001b[0m\u001b[1;33m\u001b[0m\u001b[0m\n\u001b[0;32m      4\u001b[0m     \u001b[0mprint\u001b[0m\u001b[1;33m(\u001b[0m\u001b[0mpb\u001b[0m\u001b[1;33m.\u001b[0m\u001b[0mget_current_price\u001b[0m\u001b[1;33m(\u001b[0m\u001b[1;34m\"BTC\"\u001b[0m\u001b[1;33m)\u001b[0m\u001b[1;33m)\u001b[0m\u001b[1;33m\u001b[0m\u001b[1;33m\u001b[0m\u001b[0m\n\u001b[1;32m----> 5\u001b[1;33m     \u001b[0mtime\u001b[0m\u001b[1;33m.\u001b[0m\u001b[0msleep\u001b[0m\u001b[1;33m(\u001b[0m\u001b[1;36m3\u001b[0m\u001b[1;33m)\u001b[0m\u001b[1;33m\u001b[0m\u001b[1;33m\u001b[0m\u001b[0m\n\u001b[0m",
      "\u001b[1;31mKeyboardInterrupt\u001b[0m: "
     ]
    }
   ],
   "source": [
    "# 비트 코인 가격 반복 조회\n",
    "\n",
    "while True:\n",
    "    print(pb.get_current_price(\"BTC\"))\n",
    "    time.sleep(3)"
   ]
  },
  {
   "cell_type": "code",
   "execution_count": 21,
   "metadata": {},
   "outputs": [
    {
     "name": "stdout",
     "output_type": "stream",
     "text": [
      "BTC 31109000.0\n",
      "ETH 2185000.0\n",
      "ETC 27930.0\n",
      "XRP 502.1\n",
      "BCH 176400.0\n",
      "QTUM 4416.0\n",
      "BTG 22440.0\n",
      "EOS 1577.0\n",
      "ICX 342.2\n",
      "TRX 91.91\n",
      "ELF 367.3\n",
      "OMG 2259.0\n",
      "KNC 1128.0\n",
      "GLM 357.4\n",
      "ZIL 41.79\n",
      "WAXP 114.0\n",
      "POWR 286.7\n",
      "LRC 477.7\n",
      "STEEM 310.4\n",
      "STRAX 811.5\n",
      "ZRX 395.0\n",
      "REP 11960.0\n",
      "SNT 39.61\n",
      "ADA 470.6\n",
      "CTXC 361.5\n",
      "BAT 400.7\n",
      "THETA 1564.0\n",
      "LOOM 78.21\n",
      "WAVES 3493.0\n",
      "LINK 9875.0\n",
      "ENJ 623.1\n",
      "VET 36.68\n",
      "MTL 1680.0\n",
      "IOST 15.44\n",
      "QKC 15.5\n",
      "ATOLO 11.45\n",
      "AMO 1.015\n",
      "BSV 54650.0\n",
      "ORBS 46.42\n",
      "TFUEL 79.7\n",
      "VALOR 307.4\n",
      "CON 13.9\n",
      "ANKR 51.09\n",
      "MIX 4.445\n",
      "CRO 104.1\n",
      "FX 274.9\n",
      "CHR 237.9\n",
      "MBL 5.16\n",
      "MXC 34.32\n",
      "FCT2 91.0\n",
      "TRV 7.486\n",
      "WOM 39.57\n",
      "SOC 4.575\n",
      "BOA 45.92\n",
      "MEV 16.5\n",
      "SXP 427.2\n",
      "COS 9.838\n",
      "EL 4.046\n",
      "BASIC 2.043\n",
      "HIVE 602.0\n",
      "XPR 2.147\n",
      "VRA 9.543\n",
      "FIT 0.8354\n",
      "EGG 9.55\n",
      "BORA 284.4\n",
      "ARPA 55.78\n",
      "CTC 657.1\n",
      "APM 24.52\n",
      "CKB 7.025\n",
      "AERGO 183.2\n",
      "CENNZ 24.8\n",
      "EVZ 18.37\n",
      "SRM 630.4\n",
      "QTCON 1.791\n"
     ]
    },
    {
     "ename": "KeyboardInterrupt",
     "evalue": "",
     "output_type": "error",
     "traceback": [
      "\u001b[1;31m---------------------------------------------------------------------------\u001b[0m",
      "\u001b[1;31mKeyboardInterrupt\u001b[0m                         Traceback (most recent call last)",
      "\u001b[1;32m~\\AppData\\Local\\Temp\\ipykernel_14996\\4133750363.py\u001b[0m in \u001b[0;36m<module>\u001b[1;34m\u001b[0m\n\u001b[0;32m      5\u001b[0m \u001b[1;32mfor\u001b[0m \u001b[0mticker\u001b[0m \u001b[1;32min\u001b[0m \u001b[0mtickers\u001b[0m\u001b[1;33m:\u001b[0m\u001b[1;33m\u001b[0m\u001b[1;33m\u001b[0m\u001b[0m\n\u001b[0;32m      6\u001b[0m     \u001b[0mprint\u001b[0m\u001b[1;33m(\u001b[0m\u001b[0mticker\u001b[0m\u001b[1;33m,\u001b[0m \u001b[0mpb\u001b[0m\u001b[1;33m.\u001b[0m\u001b[0mget_current_price\u001b[0m\u001b[1;33m(\u001b[0m\u001b[0mticker\u001b[0m\u001b[1;33m)\u001b[0m\u001b[1;33m)\u001b[0m\u001b[1;33m\u001b[0m\u001b[1;33m\u001b[0m\u001b[0m\n\u001b[1;32m----> 7\u001b[1;33m     \u001b[0mtime\u001b[0m\u001b[1;33m.\u001b[0m\u001b[0msleep\u001b[0m\u001b[1;33m(\u001b[0m\u001b[1;36m1\u001b[0m\u001b[1;33m)\u001b[0m\u001b[1;33m\u001b[0m\u001b[1;33m\u001b[0m\u001b[0m\n\u001b[0m",
      "\u001b[1;31mKeyboardInterrupt\u001b[0m: "
     ]
    }
   ],
   "source": [
    "# 모든 코인 가격 조회\n",
    "\n",
    "tickers = pb.get_tickers()\n",
    "\n",
    "for ticker in tickers:\n",
    "    print(ticker, pb.get_current_price(ticker))\n",
    "    time.sleep(1)"
   ]
  },
  {
   "cell_type": "code",
   "execution_count": 22,
   "metadata": {},
   "outputs": [
    {
     "name": "stdout",
     "output_type": "stream",
     "text": [
      "(31180000.0, 31272000.0, 30937000.0, 31108000.0, 213.24128343)\n"
     ]
    }
   ],
   "source": [
    "# 자세한 코인 가격 조회\n",
    "\n",
    "print(pb.get_market_detail(\"BTC\"))\n",
    "\n",
    "# 시가 / 고가 / 저가 / 종가(현재가) / 거래량\n",
    "# 튜플로 리턴한다. "
   ]
  },
  {
   "cell_type": "code",
   "execution_count": 23,
   "metadata": {},
   "outputs": [
    {
     "name": "stdout",
     "output_type": "stream",
     "text": [
      "BTC (31180000.0, 31272000.0, 30937000.0, 31050000.0, 230.60698343)\n",
      "ETH (2180000.0, 2203000.0, 2169000.0, 2177000.0, 1891.73078367)\n",
      "ETC (27990.0, 28100.0, 27790.0, 27830.0, 19666.99615325)\n",
      "XRP (501.5, 506.9, 500.5, 501.5, 11089699.52315714)\n",
      "BCH (176900.0, 177400.0, 175500.0, 175600.0, 1153.42824352)\n",
      "QTUM (4433.0, 4463.0, 4377.0, 4385.0, 51691.49886297)\n",
      "BTG (22670.0, 22670.0, 22390.0, 22430.0, 2381.8312)\n",
      "EOS (1571.0, 1596.0, 1568.0, 1569.0, 359218.23362112)\n",
      "ICX (341.0, 350.3, 340.1, 342.0, 326777.52665761)\n",
      "TRX (91.97, 92.57, 91.76, 91.84, 5875214.56989)\n",
      "ELF (369.3, 372.1, 366.3, 367.7, 194117.1551)\n",
      "OMG (2250.0, 2283.0, 2249.0, 2250.0, 8847.3707)\n",
      "KNC (1137.0, 1145.0, 1120.0, 1120.0, 50786.11908359)\n",
      "GLM (359.6, 362.6, 353.2, 357.4, 109799.04299342)\n",
      "ZIL (42.09, 42.49, 41.55, 41.55, 1019269.4734)\n",
      "WAXP (116.3, 117.2, 112.5, 113.5, 1410310.32700223)\n",
      "POWR (300.5, 300.5, 284.0, 284.4, 1210097.96094074)\n",
      "LRC (479.2, 481.3, 473.9, 473.9, 42929.65499239)\n",
      "STEEM (313.1, 316.4, 310.3, 312.2, 109362.4274)\n",
      "STRAX (814.0, 822.0, 807.9, 807.9, 87898.3156)\n",
      "ZRX (414.6, 419.0, 392.2, 394.4, 1652602.44671417)\n",
      "REP (12050.0, 12240.0, 11920.0, 11930.0, 3284.37282913)\n",
      "SNT (39.74, 40.02, 39.44, 39.44, 454655.73410869)\n",
      "ADA (475.3, 476.8, 468.8, 470.6, 1204535.03967176)\n",
      "CTXC (366.6, 368.3, 358.5, 358.5, 714703.61813047)\n",
      "BAT (391.2, 408.9, 390.9, 397.2, 241832.99730049)\n",
      "THETA (1559.0, 1583.0, 1558.0, 1564.0, 3074.0158)\n",
      "LOOM (79.47, 80.94, 78.05, 78.05, 1242749.12312655)\n",
      "WAVES (3435.0, 3495.0, 3388.0, 3480.0, 23789.95546779)\n",
      "LINK (9785.0, 9960.0, 9745.0, 9830.0, 21169.89586637)\n"
     ]
    },
    {
     "ename": "KeyboardInterrupt",
     "evalue": "",
     "output_type": "error",
     "traceback": [
      "\u001b[1;31m---------------------------------------------------------------------------\u001b[0m",
      "\u001b[1;31mKeyboardInterrupt\u001b[0m                         Traceback (most recent call last)",
      "\u001b[1;32m~\\AppData\\Local\\Temp\\ipykernel_14996\\2596240002.py\u001b[0m in \u001b[0;36m<module>\u001b[1;34m\u001b[0m\n\u001b[0;32m      4\u001b[0m \u001b[1;33m\u001b[0m\u001b[0m\n\u001b[0;32m      5\u001b[0m \u001b[1;32mfor\u001b[0m \u001b[0mticker\u001b[0m \u001b[1;32min\u001b[0m \u001b[0mtickers\u001b[0m\u001b[1;33m:\u001b[0m\u001b[1;33m\u001b[0m\u001b[1;33m\u001b[0m\u001b[0m\n\u001b[1;32m----> 6\u001b[1;33m     \u001b[0mprint\u001b[0m\u001b[1;33m(\u001b[0m\u001b[0mticker\u001b[0m\u001b[1;33m,\u001b[0m \u001b[0mpb\u001b[0m\u001b[1;33m.\u001b[0m\u001b[0mget_market_detail\u001b[0m\u001b[1;33m(\u001b[0m\u001b[0mticker\u001b[0m\u001b[1;33m)\u001b[0m\u001b[1;33m)\u001b[0m\u001b[1;33m\u001b[0m\u001b[1;33m\u001b[0m\u001b[0m\n\u001b[0m\u001b[0;32m      7\u001b[0m     \u001b[0mtime\u001b[0m\u001b[1;33m.\u001b[0m\u001b[0msleep\u001b[0m\u001b[1;33m(\u001b[0m\u001b[1;36m1\u001b[0m\u001b[1;33m)\u001b[0m\u001b[1;33m\u001b[0m\u001b[1;33m\u001b[0m\u001b[0m\n",
      "\u001b[1;32mc:\\Users\\user\\anaconda3\\lib\\site-packages\\pybithumb\\__init__.py\u001b[0m in \u001b[0;36mget_market_detail\u001b[1;34m(order_currency, payment_currency)\u001b[0m\n\u001b[0;32m     11\u001b[0m \u001b[1;33m\u001b[0m\u001b[0m\n\u001b[0;32m     12\u001b[0m \u001b[1;32mdef\u001b[0m \u001b[0mget_market_detail\u001b[0m\u001b[1;33m(\u001b[0m\u001b[0morder_currency\u001b[0m\u001b[1;33m,\u001b[0m \u001b[0mpayment_currency\u001b[0m\u001b[1;33m=\u001b[0m\u001b[1;34m\"KRW\"\u001b[0m\u001b[1;33m)\u001b[0m\u001b[1;33m:\u001b[0m\u001b[1;33m\u001b[0m\u001b[1;33m\u001b[0m\u001b[0m\n\u001b[1;32m---> 13\u001b[1;33m     \u001b[1;32mreturn\u001b[0m \u001b[0mBithumb\u001b[0m\u001b[1;33m.\u001b[0m\u001b[0mget_market_detail\u001b[0m\u001b[1;33m(\u001b[0m\u001b[0morder_currency\u001b[0m\u001b[1;33m,\u001b[0m \u001b[0mpayment_currency\u001b[0m\u001b[1;33m)\u001b[0m\u001b[1;33m\u001b[0m\u001b[1;33m\u001b[0m\u001b[0m\n\u001b[0m\u001b[0;32m     14\u001b[0m \u001b[1;33m\u001b[0m\u001b[0m\n\u001b[0;32m     15\u001b[0m \u001b[1;33m\u001b[0m\u001b[0m\n",
      "\u001b[1;32mc:\\Users\\user\\anaconda3\\lib\\site-packages\\pybithumb\\client.py\u001b[0m in \u001b[0;36mget_market_detail\u001b[1;34m(order_currency, payment_currency)\u001b[0m\n\u001b[0;32m     77\u001b[0m         \u001b[0mresp\u001b[0m \u001b[1;33m=\u001b[0m \u001b[1;32mNone\u001b[0m\u001b[1;33m\u001b[0m\u001b[1;33m\u001b[0m\u001b[0m\n\u001b[0;32m     78\u001b[0m         \u001b[1;32mtry\u001b[0m\u001b[1;33m:\u001b[0m\u001b[1;33m\u001b[0m\u001b[1;33m\u001b[0m\u001b[0m\n\u001b[1;32m---> 79\u001b[1;33m             \u001b[0mresp\u001b[0m \u001b[1;33m=\u001b[0m \u001b[0mPublicApi\u001b[0m\u001b[1;33m.\u001b[0m\u001b[0mticker\u001b[0m\u001b[1;33m(\u001b[0m\u001b[0morder_currency\u001b[0m\u001b[1;33m,\u001b[0m \u001b[0mpayment_currency\u001b[0m\u001b[1;33m)\u001b[0m\u001b[1;33m\u001b[0m\u001b[1;33m\u001b[0m\u001b[0m\n\u001b[0m\u001b[0;32m     80\u001b[0m             \u001b[0mopen\u001b[0m \u001b[1;33m=\u001b[0m \u001b[0mresp\u001b[0m\u001b[1;33m[\u001b[0m\u001b[1;34m'data'\u001b[0m\u001b[1;33m]\u001b[0m\u001b[1;33m[\u001b[0m\u001b[1;34m'opening_price'\u001b[0m\u001b[1;33m]\u001b[0m\u001b[1;33m\u001b[0m\u001b[1;33m\u001b[0m\u001b[0m\n\u001b[0;32m     81\u001b[0m             \u001b[0mhigh\u001b[0m \u001b[1;33m=\u001b[0m \u001b[0mresp\u001b[0m\u001b[1;33m[\u001b[0m\u001b[1;34m'data'\u001b[0m\u001b[1;33m]\u001b[0m\u001b[1;33m[\u001b[0m\u001b[1;34m'max_price'\u001b[0m\u001b[1;33m]\u001b[0m\u001b[1;33m\u001b[0m\u001b[1;33m\u001b[0m\u001b[0m\n",
      "\u001b[1;32mc:\\Users\\user\\anaconda3\\lib\\site-packages\\pybithumb\\core.py\u001b[0m in \u001b[0;36mticker\u001b[1;34m(order_currency, payment_currency)\u001b[0m\n\u001b[0;32m     13\u001b[0m     \u001b[1;32mdef\u001b[0m \u001b[0mticker\u001b[0m\u001b[1;33m(\u001b[0m\u001b[0morder_currency\u001b[0m\u001b[1;33m,\u001b[0m \u001b[0mpayment_currency\u001b[0m\u001b[1;33m=\u001b[0m\u001b[1;34m\"KRW\"\u001b[0m\u001b[1;33m)\u001b[0m\u001b[1;33m:\u001b[0m\u001b[1;33m\u001b[0m\u001b[1;33m\u001b[0m\u001b[0m\n\u001b[0;32m     14\u001b[0m         \u001b[0muri\u001b[0m \u001b[1;33m=\u001b[0m \u001b[1;34m\"/public/ticker/{}_{}\"\u001b[0m\u001b[1;33m.\u001b[0m\u001b[0mformat\u001b[0m\u001b[1;33m(\u001b[0m\u001b[0morder_currency\u001b[0m\u001b[1;33m,\u001b[0m \u001b[0mpayment_currency\u001b[0m\u001b[1;33m)\u001b[0m\u001b[1;33m\u001b[0m\u001b[1;33m\u001b[0m\u001b[0m\n\u001b[1;32m---> 15\u001b[1;33m         \u001b[1;32mreturn\u001b[0m \u001b[0mBithumbHttp\u001b[0m\u001b[1;33m(\u001b[0m\u001b[1;33m)\u001b[0m\u001b[1;33m.\u001b[0m\u001b[0mget\u001b[0m\u001b[1;33m(\u001b[0m\u001b[0muri\u001b[0m\u001b[1;33m)\u001b[0m\u001b[1;33m\u001b[0m\u001b[1;33m\u001b[0m\u001b[0m\n\u001b[0m\u001b[0;32m     16\u001b[0m \u001b[1;33m\u001b[0m\u001b[0m\n\u001b[0;32m     17\u001b[0m     \u001b[1;33m@\u001b[0m\u001b[0mstaticmethod\u001b[0m\u001b[1;33m\u001b[0m\u001b[1;33m\u001b[0m\u001b[0m\n",
      "\u001b[1;32mc:\\Users\\user\\anaconda3\\lib\\site-packages\\pybithumb\\core.py\u001b[0m in \u001b[0;36mget\u001b[1;34m(self, path, timeout, **kwargs)\u001b[0m\n\u001b[0;32m    110\u001b[0m         \u001b[1;32mtry\u001b[0m\u001b[1;33m:\u001b[0m\u001b[1;33m\u001b[0m\u001b[1;33m\u001b[0m\u001b[0m\n\u001b[0;32m    111\u001b[0m             \u001b[0muri\u001b[0m \u001b[1;33m=\u001b[0m \u001b[0mself\u001b[0m\u001b[1;33m.\u001b[0m\u001b[0mbase_url\u001b[0m \u001b[1;33m+\u001b[0m \u001b[0mpath\u001b[0m\u001b[1;33m\u001b[0m\u001b[1;33m\u001b[0m\u001b[0m\n\u001b[1;32m--> 112\u001b[1;33m             \u001b[1;32mreturn\u001b[0m \u001b[0mself\u001b[0m\u001b[1;33m.\u001b[0m\u001b[0msession\u001b[0m\u001b[1;33m.\u001b[0m\u001b[0mget\u001b[0m\u001b[1;33m(\u001b[0m\u001b[0murl\u001b[0m\u001b[1;33m=\u001b[0m\u001b[0muri\u001b[0m\u001b[1;33m,\u001b[0m \u001b[0mparams\u001b[0m\u001b[1;33m=\u001b[0m\u001b[0mkwargs\u001b[0m\u001b[1;33m,\u001b[0m \u001b[0mtimeout\u001b[0m\u001b[1;33m=\u001b[0m\u001b[0mtimeout\u001b[0m\u001b[1;33m)\u001b[0m\u001b[1;33m.\u001b[0m\u001b[0;31m\\\u001b[0m\u001b[1;33m\u001b[0m\u001b[1;33m\u001b[0m\u001b[0m\n\u001b[0m\u001b[0;32m    113\u001b[0m                 \u001b[0mjson\u001b[0m\u001b[1;33m(\u001b[0m\u001b[1;33m)\u001b[0m\u001b[1;33m\u001b[0m\u001b[1;33m\u001b[0m\u001b[0m\n\u001b[0;32m    114\u001b[0m         \u001b[1;32mexcept\u001b[0m \u001b[0mException\u001b[0m \u001b[1;32mas\u001b[0m \u001b[0mx\u001b[0m\u001b[1;33m:\u001b[0m\u001b[1;33m\u001b[0m\u001b[1;33m\u001b[0m\u001b[0m\n",
      "\u001b[1;32mc:\\Users\\user\\anaconda3\\lib\\site-packages\\requests\\sessions.py\u001b[0m in \u001b[0;36mget\u001b[1;34m(self, url, **kwargs)\u001b[0m\n\u001b[0;32m    598\u001b[0m \u001b[1;33m\u001b[0m\u001b[0m\n\u001b[0;32m    599\u001b[0m         \u001b[0mkwargs\u001b[0m\u001b[1;33m.\u001b[0m\u001b[0msetdefault\u001b[0m\u001b[1;33m(\u001b[0m\u001b[1;34m\"allow_redirects\"\u001b[0m\u001b[1;33m,\u001b[0m \u001b[1;32mTrue\u001b[0m\u001b[1;33m)\u001b[0m\u001b[1;33m\u001b[0m\u001b[1;33m\u001b[0m\u001b[0m\n\u001b[1;32m--> 600\u001b[1;33m         \u001b[1;32mreturn\u001b[0m \u001b[0mself\u001b[0m\u001b[1;33m.\u001b[0m\u001b[0mrequest\u001b[0m\u001b[1;33m(\u001b[0m\u001b[1;34m\"GET\"\u001b[0m\u001b[1;33m,\u001b[0m \u001b[0murl\u001b[0m\u001b[1;33m,\u001b[0m \u001b[1;33m**\u001b[0m\u001b[0mkwargs\u001b[0m\u001b[1;33m)\u001b[0m\u001b[1;33m\u001b[0m\u001b[1;33m\u001b[0m\u001b[0m\n\u001b[0m\u001b[0;32m    601\u001b[0m \u001b[1;33m\u001b[0m\u001b[0m\n\u001b[0;32m    602\u001b[0m     \u001b[1;32mdef\u001b[0m \u001b[0moptions\u001b[0m\u001b[1;33m(\u001b[0m\u001b[0mself\u001b[0m\u001b[1;33m,\u001b[0m \u001b[0murl\u001b[0m\u001b[1;33m,\u001b[0m \u001b[1;33m**\u001b[0m\u001b[0mkwargs\u001b[0m\u001b[1;33m)\u001b[0m\u001b[1;33m:\u001b[0m\u001b[1;33m\u001b[0m\u001b[1;33m\u001b[0m\u001b[0m\n",
      "\u001b[1;32mc:\\Users\\user\\anaconda3\\lib\\site-packages\\requests\\sessions.py\u001b[0m in \u001b[0;36mrequest\u001b[1;34m(self, method, url, params, data, headers, cookies, files, auth, timeout, allow_redirects, proxies, hooks, stream, verify, cert, json)\u001b[0m\n\u001b[0;32m    585\u001b[0m         }\n\u001b[0;32m    586\u001b[0m         \u001b[0msend_kwargs\u001b[0m\u001b[1;33m.\u001b[0m\u001b[0mupdate\u001b[0m\u001b[1;33m(\u001b[0m\u001b[0msettings\u001b[0m\u001b[1;33m)\u001b[0m\u001b[1;33m\u001b[0m\u001b[1;33m\u001b[0m\u001b[0m\n\u001b[1;32m--> 587\u001b[1;33m         \u001b[0mresp\u001b[0m \u001b[1;33m=\u001b[0m \u001b[0mself\u001b[0m\u001b[1;33m.\u001b[0m\u001b[0msend\u001b[0m\u001b[1;33m(\u001b[0m\u001b[0mprep\u001b[0m\u001b[1;33m,\u001b[0m \u001b[1;33m**\u001b[0m\u001b[0msend_kwargs\u001b[0m\u001b[1;33m)\u001b[0m\u001b[1;33m\u001b[0m\u001b[1;33m\u001b[0m\u001b[0m\n\u001b[0m\u001b[0;32m    588\u001b[0m \u001b[1;33m\u001b[0m\u001b[0m\n\u001b[0;32m    589\u001b[0m         \u001b[1;32mreturn\u001b[0m \u001b[0mresp\u001b[0m\u001b[1;33m\u001b[0m\u001b[1;33m\u001b[0m\u001b[0m\n",
      "\u001b[1;32mc:\\Users\\user\\anaconda3\\lib\\site-packages\\requests\\sessions.py\u001b[0m in \u001b[0;36msend\u001b[1;34m(self, request, **kwargs)\u001b[0m\n\u001b[0;32m    699\u001b[0m \u001b[1;33m\u001b[0m\u001b[0m\n\u001b[0;32m    700\u001b[0m         \u001b[1;31m# Send the request\u001b[0m\u001b[1;33m\u001b[0m\u001b[1;33m\u001b[0m\u001b[0m\n\u001b[1;32m--> 701\u001b[1;33m         \u001b[0mr\u001b[0m \u001b[1;33m=\u001b[0m \u001b[0madapter\u001b[0m\u001b[1;33m.\u001b[0m\u001b[0msend\u001b[0m\u001b[1;33m(\u001b[0m\u001b[0mrequest\u001b[0m\u001b[1;33m,\u001b[0m \u001b[1;33m**\u001b[0m\u001b[0mkwargs\u001b[0m\u001b[1;33m)\u001b[0m\u001b[1;33m\u001b[0m\u001b[1;33m\u001b[0m\u001b[0m\n\u001b[0m\u001b[0;32m    702\u001b[0m \u001b[1;33m\u001b[0m\u001b[0m\n\u001b[0;32m    703\u001b[0m         \u001b[1;31m# Total elapsed time of the request (approximately)\u001b[0m\u001b[1;33m\u001b[0m\u001b[1;33m\u001b[0m\u001b[0m\n",
      "\u001b[1;32mc:\\Users\\user\\anaconda3\\lib\\site-packages\\requests\\adapters.py\u001b[0m in \u001b[0;36msend\u001b[1;34m(self, request, stream, timeout, verify, cert, proxies)\u001b[0m\n\u001b[0;32m    487\u001b[0m         \u001b[1;32mtry\u001b[0m\u001b[1;33m:\u001b[0m\u001b[1;33m\u001b[0m\u001b[1;33m\u001b[0m\u001b[0m\n\u001b[0;32m    488\u001b[0m             \u001b[1;32mif\u001b[0m \u001b[1;32mnot\u001b[0m \u001b[0mchunked\u001b[0m\u001b[1;33m:\u001b[0m\u001b[1;33m\u001b[0m\u001b[1;33m\u001b[0m\u001b[0m\n\u001b[1;32m--> 489\u001b[1;33m                 resp = conn.urlopen(\n\u001b[0m\u001b[0;32m    490\u001b[0m                     \u001b[0mmethod\u001b[0m\u001b[1;33m=\u001b[0m\u001b[0mrequest\u001b[0m\u001b[1;33m.\u001b[0m\u001b[0mmethod\u001b[0m\u001b[1;33m,\u001b[0m\u001b[1;33m\u001b[0m\u001b[1;33m\u001b[0m\u001b[0m\n\u001b[0;32m    491\u001b[0m                     \u001b[0murl\u001b[0m\u001b[1;33m=\u001b[0m\u001b[0murl\u001b[0m\u001b[1;33m,\u001b[0m\u001b[1;33m\u001b[0m\u001b[1;33m\u001b[0m\u001b[0m\n",
      "\u001b[1;32mc:\\Users\\user\\anaconda3\\lib\\site-packages\\urllib3\\connectionpool.py\u001b[0m in \u001b[0;36murlopen\u001b[1;34m(self, method, url, body, headers, retries, redirect, assert_same_host, timeout, pool_timeout, release_conn, chunked, body_pos, **response_kw)\u001b[0m\n\u001b[0;32m    701\u001b[0m \u001b[1;33m\u001b[0m\u001b[0m\n\u001b[0;32m    702\u001b[0m             \u001b[1;31m# Make the request on the httplib connection object.\u001b[0m\u001b[1;33m\u001b[0m\u001b[1;33m\u001b[0m\u001b[0m\n\u001b[1;32m--> 703\u001b[1;33m             httplib_response = self._make_request(\n\u001b[0m\u001b[0;32m    704\u001b[0m                 \u001b[0mconn\u001b[0m\u001b[1;33m,\u001b[0m\u001b[1;33m\u001b[0m\u001b[1;33m\u001b[0m\u001b[0m\n\u001b[0;32m    705\u001b[0m                 \u001b[0mmethod\u001b[0m\u001b[1;33m,\u001b[0m\u001b[1;33m\u001b[0m\u001b[1;33m\u001b[0m\u001b[0m\n",
      "\u001b[1;32mc:\\Users\\user\\anaconda3\\lib\\site-packages\\urllib3\\connectionpool.py\u001b[0m in \u001b[0;36m_make_request\u001b[1;34m(self, conn, method, url, timeout, chunked, **httplib_request_kw)\u001b[0m\n\u001b[0;32m    384\u001b[0m         \u001b[1;31m# Trigger any extra validation we need to do.\u001b[0m\u001b[1;33m\u001b[0m\u001b[1;33m\u001b[0m\u001b[0m\n\u001b[0;32m    385\u001b[0m         \u001b[1;32mtry\u001b[0m\u001b[1;33m:\u001b[0m\u001b[1;33m\u001b[0m\u001b[1;33m\u001b[0m\u001b[0m\n\u001b[1;32m--> 386\u001b[1;33m             \u001b[0mself\u001b[0m\u001b[1;33m.\u001b[0m\u001b[0m_validate_conn\u001b[0m\u001b[1;33m(\u001b[0m\u001b[0mconn\u001b[0m\u001b[1;33m)\u001b[0m\u001b[1;33m\u001b[0m\u001b[1;33m\u001b[0m\u001b[0m\n\u001b[0m\u001b[0;32m    387\u001b[0m         \u001b[1;32mexcept\u001b[0m \u001b[1;33m(\u001b[0m\u001b[0mSocketTimeout\u001b[0m\u001b[1;33m,\u001b[0m \u001b[0mBaseSSLError\u001b[0m\u001b[1;33m)\u001b[0m \u001b[1;32mas\u001b[0m \u001b[0me\u001b[0m\u001b[1;33m:\u001b[0m\u001b[1;33m\u001b[0m\u001b[1;33m\u001b[0m\u001b[0m\n\u001b[0;32m    388\u001b[0m             \u001b[1;31m# Py2 raises this as a BaseSSLError, Py3 raises it as socket timeout.\u001b[0m\u001b[1;33m\u001b[0m\u001b[1;33m\u001b[0m\u001b[0m\n",
      "\u001b[1;32mc:\\Users\\user\\anaconda3\\lib\\site-packages\\urllib3\\connectionpool.py\u001b[0m in \u001b[0;36m_validate_conn\u001b[1;34m(self, conn)\u001b[0m\n\u001b[0;32m   1040\u001b[0m         \u001b[1;31m# Force connect early to allow us to validate the connection.\u001b[0m\u001b[1;33m\u001b[0m\u001b[1;33m\u001b[0m\u001b[0m\n\u001b[0;32m   1041\u001b[0m         \u001b[1;32mif\u001b[0m \u001b[1;32mnot\u001b[0m \u001b[0mgetattr\u001b[0m\u001b[1;33m(\u001b[0m\u001b[0mconn\u001b[0m\u001b[1;33m,\u001b[0m \u001b[1;34m\"sock\"\u001b[0m\u001b[1;33m,\u001b[0m \u001b[1;32mNone\u001b[0m\u001b[1;33m)\u001b[0m\u001b[1;33m:\u001b[0m  \u001b[1;31m# AppEngine might not have  `.sock`\u001b[0m\u001b[1;33m\u001b[0m\u001b[1;33m\u001b[0m\u001b[0m\n\u001b[1;32m-> 1042\u001b[1;33m             \u001b[0mconn\u001b[0m\u001b[1;33m.\u001b[0m\u001b[0mconnect\u001b[0m\u001b[1;33m(\u001b[0m\u001b[1;33m)\u001b[0m\u001b[1;33m\u001b[0m\u001b[1;33m\u001b[0m\u001b[0m\n\u001b[0m\u001b[0;32m   1043\u001b[0m \u001b[1;33m\u001b[0m\u001b[0m\n\u001b[0;32m   1044\u001b[0m         \u001b[1;32mif\u001b[0m \u001b[1;32mnot\u001b[0m \u001b[0mconn\u001b[0m\u001b[1;33m.\u001b[0m\u001b[0mis_verified\u001b[0m\u001b[1;33m:\u001b[0m\u001b[1;33m\u001b[0m\u001b[1;33m\u001b[0m\u001b[0m\n",
      "\u001b[1;32mc:\\Users\\user\\anaconda3\\lib\\site-packages\\urllib3\\connection.py\u001b[0m in \u001b[0;36mconnect\u001b[1;34m(self)\u001b[0m\n\u001b[0;32m    412\u001b[0m             \u001b[0mcontext\u001b[0m\u001b[1;33m.\u001b[0m\u001b[0mload_default_certs\u001b[0m\u001b[1;33m(\u001b[0m\u001b[1;33m)\u001b[0m\u001b[1;33m\u001b[0m\u001b[1;33m\u001b[0m\u001b[0m\n\u001b[0;32m    413\u001b[0m \u001b[1;33m\u001b[0m\u001b[0m\n\u001b[1;32m--> 414\u001b[1;33m         self.sock = ssl_wrap_socket(\n\u001b[0m\u001b[0;32m    415\u001b[0m             \u001b[0msock\u001b[0m\u001b[1;33m=\u001b[0m\u001b[0mconn\u001b[0m\u001b[1;33m,\u001b[0m\u001b[1;33m\u001b[0m\u001b[1;33m\u001b[0m\u001b[0m\n\u001b[0;32m    416\u001b[0m             \u001b[0mkeyfile\u001b[0m\u001b[1;33m=\u001b[0m\u001b[0mself\u001b[0m\u001b[1;33m.\u001b[0m\u001b[0mkey_file\u001b[0m\u001b[1;33m,\u001b[0m\u001b[1;33m\u001b[0m\u001b[1;33m\u001b[0m\u001b[0m\n",
      "\u001b[1;32mc:\\Users\\user\\anaconda3\\lib\\site-packages\\urllib3\\util\\ssl_.py\u001b[0m in \u001b[0;36mssl_wrap_socket\u001b[1;34m(sock, keyfile, certfile, cert_reqs, ca_certs, server_hostname, ssl_version, ciphers, ssl_context, ca_cert_dir, key_password, ca_cert_data, tls_in_tls)\u001b[0m\n\u001b[0;32m    447\u001b[0m \u001b[1;33m\u001b[0m\u001b[0m\n\u001b[0;32m    448\u001b[0m     \u001b[1;32mif\u001b[0m \u001b[0msend_sni\u001b[0m\u001b[1;33m:\u001b[0m\u001b[1;33m\u001b[0m\u001b[1;33m\u001b[0m\u001b[0m\n\u001b[1;32m--> 449\u001b[1;33m         ssl_sock = _ssl_wrap_socket_impl(\n\u001b[0m\u001b[0;32m    450\u001b[0m             \u001b[0msock\u001b[0m\u001b[1;33m,\u001b[0m \u001b[0mcontext\u001b[0m\u001b[1;33m,\u001b[0m \u001b[0mtls_in_tls\u001b[0m\u001b[1;33m,\u001b[0m \u001b[0mserver_hostname\u001b[0m\u001b[1;33m=\u001b[0m\u001b[0mserver_hostname\u001b[0m\u001b[1;33m\u001b[0m\u001b[1;33m\u001b[0m\u001b[0m\n\u001b[0;32m    451\u001b[0m         )\n",
      "\u001b[1;32mc:\\Users\\user\\anaconda3\\lib\\site-packages\\urllib3\\util\\ssl_.py\u001b[0m in \u001b[0;36m_ssl_wrap_socket_impl\u001b[1;34m(sock, ssl_context, tls_in_tls, server_hostname)\u001b[0m\n\u001b[0;32m    491\u001b[0m \u001b[1;33m\u001b[0m\u001b[0m\n\u001b[0;32m    492\u001b[0m     \u001b[1;32mif\u001b[0m \u001b[0mserver_hostname\u001b[0m\u001b[1;33m:\u001b[0m\u001b[1;33m\u001b[0m\u001b[1;33m\u001b[0m\u001b[0m\n\u001b[1;32m--> 493\u001b[1;33m         \u001b[1;32mreturn\u001b[0m \u001b[0mssl_context\u001b[0m\u001b[1;33m.\u001b[0m\u001b[0mwrap_socket\u001b[0m\u001b[1;33m(\u001b[0m\u001b[0msock\u001b[0m\u001b[1;33m,\u001b[0m \u001b[0mserver_hostname\u001b[0m\u001b[1;33m=\u001b[0m\u001b[0mserver_hostname\u001b[0m\u001b[1;33m)\u001b[0m\u001b[1;33m\u001b[0m\u001b[1;33m\u001b[0m\u001b[0m\n\u001b[0m\u001b[0;32m    494\u001b[0m     \u001b[1;32melse\u001b[0m\u001b[1;33m:\u001b[0m\u001b[1;33m\u001b[0m\u001b[1;33m\u001b[0m\u001b[0m\n\u001b[0;32m    495\u001b[0m         \u001b[1;32mreturn\u001b[0m \u001b[0mssl_context\u001b[0m\u001b[1;33m.\u001b[0m\u001b[0mwrap_socket\u001b[0m\u001b[1;33m(\u001b[0m\u001b[0msock\u001b[0m\u001b[1;33m)\u001b[0m\u001b[1;33m\u001b[0m\u001b[1;33m\u001b[0m\u001b[0m\n",
      "\u001b[1;32mc:\\Users\\user\\anaconda3\\lib\\ssl.py\u001b[0m in \u001b[0;36mwrap_socket\u001b[1;34m(self, sock, server_side, do_handshake_on_connect, suppress_ragged_eofs, server_hostname, session)\u001b[0m\n\u001b[0;32m    499\u001b[0m         \u001b[1;31m# SSLSocket class handles server_hostname encoding before it calls\u001b[0m\u001b[1;33m\u001b[0m\u001b[1;33m\u001b[0m\u001b[0m\n\u001b[0;32m    500\u001b[0m         \u001b[1;31m# ctx._wrap_socket()\u001b[0m\u001b[1;33m\u001b[0m\u001b[1;33m\u001b[0m\u001b[0m\n\u001b[1;32m--> 501\u001b[1;33m         return self.sslsocket_class._create(\n\u001b[0m\u001b[0;32m    502\u001b[0m             \u001b[0msock\u001b[0m\u001b[1;33m=\u001b[0m\u001b[0msock\u001b[0m\u001b[1;33m,\u001b[0m\u001b[1;33m\u001b[0m\u001b[1;33m\u001b[0m\u001b[0m\n\u001b[0;32m    503\u001b[0m             \u001b[0mserver_side\u001b[0m\u001b[1;33m=\u001b[0m\u001b[0mserver_side\u001b[0m\u001b[1;33m,\u001b[0m\u001b[1;33m\u001b[0m\u001b[1;33m\u001b[0m\u001b[0m\n",
      "\u001b[1;32mc:\\Users\\user\\anaconda3\\lib\\ssl.py\u001b[0m in \u001b[0;36m_create\u001b[1;34m(cls, sock, server_side, do_handshake_on_connect, suppress_ragged_eofs, server_hostname, context, session)\u001b[0m\n\u001b[0;32m   1039\u001b[0m                         \u001b[1;31m# non-blocking\u001b[0m\u001b[1;33m\u001b[0m\u001b[1;33m\u001b[0m\u001b[0m\n\u001b[0;32m   1040\u001b[0m                         \u001b[1;32mraise\u001b[0m \u001b[0mValueError\u001b[0m\u001b[1;33m(\u001b[0m\u001b[1;34m\"do_handshake_on_connect should not be specified for non-blocking sockets\"\u001b[0m\u001b[1;33m)\u001b[0m\u001b[1;33m\u001b[0m\u001b[1;33m\u001b[0m\u001b[0m\n\u001b[1;32m-> 1041\u001b[1;33m                     \u001b[0mself\u001b[0m\u001b[1;33m.\u001b[0m\u001b[0mdo_handshake\u001b[0m\u001b[1;33m(\u001b[0m\u001b[1;33m)\u001b[0m\u001b[1;33m\u001b[0m\u001b[1;33m\u001b[0m\u001b[0m\n\u001b[0m\u001b[0;32m   1042\u001b[0m             \u001b[1;32mexcept\u001b[0m \u001b[1;33m(\u001b[0m\u001b[0mOSError\u001b[0m\u001b[1;33m,\u001b[0m \u001b[0mValueError\u001b[0m\u001b[1;33m)\u001b[0m\u001b[1;33m:\u001b[0m\u001b[1;33m\u001b[0m\u001b[1;33m\u001b[0m\u001b[0m\n\u001b[0;32m   1043\u001b[0m                 \u001b[0mself\u001b[0m\u001b[1;33m.\u001b[0m\u001b[0mclose\u001b[0m\u001b[1;33m(\u001b[0m\u001b[1;33m)\u001b[0m\u001b[1;33m\u001b[0m\u001b[1;33m\u001b[0m\u001b[0m\n",
      "\u001b[1;32mc:\\Users\\user\\anaconda3\\lib\\ssl.py\u001b[0m in \u001b[0;36mdo_handshake\u001b[1;34m(self, block)\u001b[0m\n\u001b[0;32m   1308\u001b[0m             \u001b[1;32mif\u001b[0m \u001b[0mtimeout\u001b[0m \u001b[1;33m==\u001b[0m \u001b[1;36m0.0\u001b[0m \u001b[1;32mand\u001b[0m \u001b[0mblock\u001b[0m\u001b[1;33m:\u001b[0m\u001b[1;33m\u001b[0m\u001b[1;33m\u001b[0m\u001b[0m\n\u001b[0;32m   1309\u001b[0m                 \u001b[0mself\u001b[0m\u001b[1;33m.\u001b[0m\u001b[0msettimeout\u001b[0m\u001b[1;33m(\u001b[0m\u001b[1;32mNone\u001b[0m\u001b[1;33m)\u001b[0m\u001b[1;33m\u001b[0m\u001b[1;33m\u001b[0m\u001b[0m\n\u001b[1;32m-> 1310\u001b[1;33m             \u001b[0mself\u001b[0m\u001b[1;33m.\u001b[0m\u001b[0m_sslobj\u001b[0m\u001b[1;33m.\u001b[0m\u001b[0mdo_handshake\u001b[0m\u001b[1;33m(\u001b[0m\u001b[1;33m)\u001b[0m\u001b[1;33m\u001b[0m\u001b[1;33m\u001b[0m\u001b[0m\n\u001b[0m\u001b[0;32m   1311\u001b[0m         \u001b[1;32mfinally\u001b[0m\u001b[1;33m:\u001b[0m\u001b[1;33m\u001b[0m\u001b[1;33m\u001b[0m\u001b[0m\n\u001b[0;32m   1312\u001b[0m             \u001b[0mself\u001b[0m\u001b[1;33m.\u001b[0m\u001b[0msettimeout\u001b[0m\u001b[1;33m(\u001b[0m\u001b[0mtimeout\u001b[0m\u001b[1;33m)\u001b[0m\u001b[1;33m\u001b[0m\u001b[1;33m\u001b[0m\u001b[0m\n",
      "\u001b[1;31mKeyboardInterrupt\u001b[0m: "
     ]
    }
   ],
   "source": [
    "# 자세한 한 모든 코인 가격 조회\n",
    "\n",
    "tickers = pb.get_tickers()\n",
    "\n",
    "for ticker in tickers:\n",
    "    print(ticker, pb.get_market_detail(ticker))\n",
    "    time.sleep(1)"
   ]
  },
  {
   "cell_type": "code",
   "execution_count": 24,
   "metadata": {},
   "outputs": [
    {
     "name": "stdout",
     "output_type": "stream",
     "text": [
      "BTC (31180000.0, 31272000.0, 30937000.0, 31095000.0, 235.89858343)\n",
      "ETH (2180000.0, 2203000.0, 2169000.0, 2181000.0, 1917.23848367)\n",
      "ETC (27990.0, 28100.0, 27790.0, 27880.0, 20059.76085325)\n",
      "XRP (501.5, 506.9, 500.5, 501.9, 11330571.5243119)\n",
      "예외가 발생 되었습니다.\n"
     ]
    }
   ],
   "source": [
    "# 네트워크를 이용하는 경우에는 특히 에러 즉 예외가 발생할 경우가 상당히 많다. \n",
    "# 따라서 1) time.sleep() 을 이용한 시간 지연\n",
    "#        2) try except 을 이용한 예외 처리가 중요하다. \n",
    "\n",
    "\n",
    "tickers = pb.get_tickers()\n",
    "\n",
    "try :\n",
    "    for ticker in tickers:\n",
    "        print(ticker, pb.get_market_detail(ticker))\n",
    "        time.sleep(1)\n",
    "except :\n",
    "    print(\"예외가 발생 되었습니다.\")"
   ]
  },
  {
   "cell_type": "code",
   "execution_count": null,
   "metadata": {},
   "outputs": [],
   "source": [
    "# 상승장 하락장 알람 프로그램\n",
    "\n",
    "# 이동평균선을 사용 : 이동평균 값 보다 현재가가 높다면 상승장 \n",
    "# 이동 평균 값 보다 현재가가 낮으면 하락장\n",
    "\n",
    "# 03/01  1000\n",
    "# 03/02  1100\n",
    "# 03/03  1200\n",
    "# 03/04  1100\n",
    "# 03/05  1000\n",
    "\n",
    "# 03/06  1400  상승장\n",
    "# 03/06  1000  하락장"
   ]
  },
  {
   "cell_type": "code",
   "execution_count": 25,
   "metadata": {},
   "outputs": [
    {
     "data": {
      "text/html": [
       "<div>\n",
       "<style scoped>\n",
       "    .dataframe tbody tr th:only-of-type {\n",
       "        vertical-align: middle;\n",
       "    }\n",
       "\n",
       "    .dataframe tbody tr th {\n",
       "        vertical-align: top;\n",
       "    }\n",
       "\n",
       "    .dataframe thead th {\n",
       "        text-align: right;\n",
       "    }\n",
       "</style>\n",
       "<table border=\"1\" class=\"dataframe\">\n",
       "  <thead>\n",
       "    <tr style=\"text-align: right;\">\n",
       "      <th></th>\n",
       "      <th>open</th>\n",
       "      <th>high</th>\n",
       "      <th>low</th>\n",
       "      <th>close</th>\n",
       "      <th>volume</th>\n",
       "    </tr>\n",
       "    <tr>\n",
       "      <th>time</th>\n",
       "      <th></th>\n",
       "      <th></th>\n",
       "      <th></th>\n",
       "      <th></th>\n",
       "      <th></th>\n",
       "    </tr>\n",
       "  </thead>\n",
       "  <tbody>\n",
       "    <tr>\n",
       "      <th>2013-12-27 00:00:00</th>\n",
       "      <td>737000.0</td>\n",
       "      <td>755000.0</td>\n",
       "      <td>737000.0</td>\n",
       "      <td>755000.0</td>\n",
       "      <td>3.780000</td>\n",
       "    </tr>\n",
       "    <tr>\n",
       "      <th>2013-12-28 00:00:00</th>\n",
       "      <td>750000.0</td>\n",
       "      <td>750000.0</td>\n",
       "      <td>750000.0</td>\n",
       "      <td>750000.0</td>\n",
       "      <td>12.000000</td>\n",
       "    </tr>\n",
       "    <tr>\n",
       "      <th>2013-12-29 00:00:00</th>\n",
       "      <td>750000.0</td>\n",
       "      <td>750000.0</td>\n",
       "      <td>728000.0</td>\n",
       "      <td>739000.0</td>\n",
       "      <td>19.058000</td>\n",
       "    </tr>\n",
       "    <tr>\n",
       "      <th>2013-12-30 00:00:00</th>\n",
       "      <td>740000.0</td>\n",
       "      <td>772000.0</td>\n",
       "      <td>740000.0</td>\n",
       "      <td>768000.0</td>\n",
       "      <td>9.488973</td>\n",
       "    </tr>\n",
       "    <tr>\n",
       "      <th>2013-12-31 00:00:00</th>\n",
       "      <td>768000.0</td>\n",
       "      <td>800000.0</td>\n",
       "      <td>763000.0</td>\n",
       "      <td>768000.0</td>\n",
       "      <td>18.650350</td>\n",
       "    </tr>\n",
       "    <tr>\n",
       "      <th>...</th>\n",
       "      <td>...</td>\n",
       "      <td>...</td>\n",
       "      <td>...</td>\n",
       "      <td>...</td>\n",
       "      <td>...</td>\n",
       "    </tr>\n",
       "    <tr>\n",
       "      <th>2023-02-26 00:00:00</th>\n",
       "      <td>30498000.0</td>\n",
       "      <td>31047000.0</td>\n",
       "      <td>30471000.0</td>\n",
       "      <td>30890000.0</td>\n",
       "      <td>838.625344</td>\n",
       "    </tr>\n",
       "    <tr>\n",
       "      <th>2023-02-27 00:00:00</th>\n",
       "      <td>30897000.0</td>\n",
       "      <td>31580000.0</td>\n",
       "      <td>30833000.0</td>\n",
       "      <td>31544000.0</td>\n",
       "      <td>1205.188234</td>\n",
       "    </tr>\n",
       "    <tr>\n",
       "      <th>2023-02-28 00:00:00</th>\n",
       "      <td>31539000.0</td>\n",
       "      <td>31632000.0</td>\n",
       "      <td>30838000.0</td>\n",
       "      <td>31081000.0</td>\n",
       "      <td>1126.423476</td>\n",
       "    </tr>\n",
       "    <tr>\n",
       "      <th>2023-03-01 00:00:00</th>\n",
       "      <td>31092000.0</td>\n",
       "      <td>31580000.0</td>\n",
       "      <td>30765000.0</td>\n",
       "      <td>31193000.0</td>\n",
       "      <td>1158.565146</td>\n",
       "    </tr>\n",
       "    <tr>\n",
       "      <th>2023-03-02 11:00:00</th>\n",
       "      <td>31180000.0</td>\n",
       "      <td>31272000.0</td>\n",
       "      <td>30937000.0</td>\n",
       "      <td>31097000.0</td>\n",
       "      <td>250.009834</td>\n",
       "    </tr>\n",
       "  </tbody>\n",
       "</table>\n",
       "<p>3263 rows × 5 columns</p>\n",
       "</div>"
      ],
      "text/plain": [
       "                           open        high         low       close  \\\n",
       "time                                                                  \n",
       "2013-12-27 00:00:00    737000.0    755000.0    737000.0    755000.0   \n",
       "2013-12-28 00:00:00    750000.0    750000.0    750000.0    750000.0   \n",
       "2013-12-29 00:00:00    750000.0    750000.0    728000.0    739000.0   \n",
       "2013-12-30 00:00:00    740000.0    772000.0    740000.0    768000.0   \n",
       "2013-12-31 00:00:00    768000.0    800000.0    763000.0    768000.0   \n",
       "...                         ...         ...         ...         ...   \n",
       "2023-02-26 00:00:00  30498000.0  31047000.0  30471000.0  30890000.0   \n",
       "2023-02-27 00:00:00  30897000.0  31580000.0  30833000.0  31544000.0   \n",
       "2023-02-28 00:00:00  31539000.0  31632000.0  30838000.0  31081000.0   \n",
       "2023-03-01 00:00:00  31092000.0  31580000.0  30765000.0  31193000.0   \n",
       "2023-03-02 11:00:00  31180000.0  31272000.0  30937000.0  31097000.0   \n",
       "\n",
       "                          volume  \n",
       "time                              \n",
       "2013-12-27 00:00:00     3.780000  \n",
       "2013-12-28 00:00:00    12.000000  \n",
       "2013-12-29 00:00:00    19.058000  \n",
       "2013-12-30 00:00:00     9.488973  \n",
       "2013-12-31 00:00:00    18.650350  \n",
       "...                          ...  \n",
       "2023-02-26 00:00:00   838.625344  \n",
       "2023-02-27 00:00:00  1205.188234  \n",
       "2023-02-28 00:00:00  1126.423476  \n",
       "2023-03-01 00:00:00  1158.565146  \n",
       "2023-03-02 11:00:00   250.009834  \n",
       "\n",
       "[3263 rows x 5 columns]"
      ]
     },
     "execution_count": 25,
     "metadata": {},
     "output_type": "execute_result"
    }
   ],
   "source": [
    "pb.get_ohlcv(\"BTC\")"
   ]
  },
  {
   "cell_type": "code",
   "execution_count": 26,
   "metadata": {},
   "outputs": [
    {
     "name": "stdout",
     "output_type": "stream",
     "text": [
      "time\n",
      "2013-12-27 00:00:00      755000.0\n",
      "2013-12-28 00:00:00      750000.0\n",
      "2013-12-29 00:00:00      739000.0\n",
      "2013-12-30 00:00:00      768000.0\n",
      "2013-12-31 00:00:00      768000.0\n",
      "                          ...    \n",
      "2023-02-26 00:00:00    30890000.0\n",
      "2023-02-27 00:00:00    31544000.0\n",
      "2023-02-28 00:00:00    31081000.0\n",
      "2023-03-01 00:00:00    31193000.0\n",
      "2023-03-02 11:00:00    31106000.0\n",
      "Name: close, Length: 3263, dtype: float64\n"
     ]
    }
   ],
   "source": [
    "# 받아온 데이터는 기본적으로 데이터프레임이다. \n",
    "# 데이터 프레임에서 한개의 열 즉 Series 이다. \n",
    "\n",
    "btc = pb.get_ohlcv(\"BTC\")\n",
    "close = btc['close']\n",
    "print(close)"
   ]
  },
  {
   "cell_type": "code",
   "execution_count": 27,
   "metadata": {},
   "outputs": [
    {
     "name": "stdout",
     "output_type": "stream",
     "text": [
      "756000.0\n",
      "760400.0\n",
      "766000.0\n"
     ]
    }
   ],
   "source": [
    "# 수동으로 이동평균 계산\n",
    "\n",
    "btc = pb.get_ohlcv(\"BTC\")\n",
    "close = btc['close']\n",
    "\n",
    "print((close[0] + close[1] + close[2] + close[3] + close[4]) / 5)\n",
    "print((close[1] + close[2] + close[3] + close[4] + close[5]) / 5)\n",
    "print((close[2] + close[3] + close[4] + close[5] + close[6]) / 5)"
   ]
  },
  {
   "cell_type": "code",
   "execution_count": 28,
   "metadata": {},
   "outputs": [
    {
     "name": "stdout",
     "output_type": "stream",
     "text": [
      "time\n",
      "2013-12-27 00:00:00           NaN\n",
      "2013-12-28 00:00:00           NaN\n",
      "2013-12-29 00:00:00           NaN\n",
      "2013-12-30 00:00:00           NaN\n",
      "2013-12-31 00:00:00      756000.0\n",
      "                          ...    \n",
      "2023-02-26 00:00:00    31049000.0\n",
      "2023-02-27 00:00:00    31101400.0\n",
      "2023-02-28 00:00:00    31052600.0\n",
      "2023-03-01 00:00:00    31041200.0\n",
      "2023-03-02 11:00:00    31158000.0\n",
      "Name: close, Length: 3263, dtype: float64\n"
     ]
    }
   ],
   "source": [
    "# 자동으로 이동평균 계산\n",
    "\n",
    "btc = pb.get_ohlcv(\"BTC\")\n",
    "close = btc['close']\n",
    "\n",
    "roll5 = close.rolling(5)\n",
    "mean5 = roll5.mean()\n",
    "print(mean5)\n",
    "\n",
    "# 5일간의 평균을 계산 하기때문에 최초 4일은 계산 값이 없이 NaN 으로 표시"
   ]
  },
  {
   "cell_type": "code",
   "execution_count": 29,
   "metadata": {},
   "outputs": [
    {
     "name": "stdout",
     "output_type": "stream",
     "text": [
      "상승장\n"
     ]
    }
   ],
   "source": [
    "# 상승장 하락장 파악\n",
    "\n",
    "btc = pb.get_ohlcv(\"BTC\")\n",
    "close = btc['close']\n",
    "\n",
    "roll5 = close.rolling(5)\n",
    "mean5 = roll5.mean()\n",
    "last_mean5 = mean5[-2]\n",
    "\n",
    "# 비트 코인 현재값\n",
    "price = pb.get_current_price('BTC')\n",
    "\n",
    "# 비교\n",
    "\n",
    "if price > last_mean5:\n",
    "    print('상승장')\n",
    "else:\n",
    "    print('하락장')"
   ]
  },
  {
   "cell_type": "code",
   "execution_count": 56,
   "metadata": {},
   "outputs": [
    {
     "name": "stderr",
     "output_type": "stream",
     "text": [
      "C:\\Users\\user\\AppData\\Local\\Temp\\ipykernel_14996\\2312189671.py:10: DeprecationWarning: executable_path has been deprecated, please pass in a Service object\n",
      "  driver = webdriver.Chrome('chromedriver.exe')\n"
     ]
    }
   ],
   "source": [
    "# 스타벅스 크롤링\n",
    "\n",
    "from selenium import webdriver\n",
    "import time\n",
    "from bs4 import BeautifulSoup as bs   # 페이지 정제\n",
    "from selenium.webdriver.common.by import By\n",
    "\n",
    "url = 'https://www.starbucks.co.kr/store/store_map.do'\n",
    "\n",
    "driver = webdriver.Chrome('chromedriver.exe')\n",
    "\n",
    "driver.get(url)\n",
    "\n",
    "\n",
    "\n"
   ]
  },
  {
   "cell_type": "code",
   "execution_count": 57,
   "metadata": {},
   "outputs": [],
   "source": [
    "# 파이썬으로 브라우저에서 단추 클릭하기\n",
    "\n",
    "area_btn = '#container > div > form > fieldset > div > section > article.find_store_cont > article > header.loca_search > h3 > a'\n",
    "driver.find_element(By.CSS_SELECTOR, area_btn).click()\n",
    "\n",
    "time.sleep(2)\n",
    "\n",
    "seoul_btn = '#container > div > form > fieldset > div > section > article.find_store_cont > article > article:nth-child(4) > div.loca_step1 > div.loca_step1_cont > ul > li:nth-child(1) > a'\n",
    "driver.find_element(By.CSS_SELECTOR, seoul_btn).click()\n",
    "\n",
    "time.sleep(2)\n",
    "\n",
    "all_btn = '#mCSB_2_container > ul > li:nth-child(1) > a'\n",
    "driver.find_element(By.CSS_SELECTOR, all_btn).click()\n",
    "\n",
    "time.sleep(3)\n",
    "\n"
   ]
  },
  {
   "cell_type": "code",
   "execution_count": 58,
   "metadata": {},
   "outputs": [],
   "source": [
    "txt = driver.page_source\n",
    "html = bs(txt)  # 문법 주의 \n"
   ]
  },
  {
   "cell_type": "code",
   "execution_count": 59,
   "metadata": {},
   "outputs": [
    {
     "data": {
      "text/plain": [
       "1051"
      ]
     },
     "execution_count": 59,
     "metadata": {},
     "output_type": "execute_result"
    }
   ],
   "source": [
    "len(html.select('li'))"
   ]
  },
  {
   "cell_type": "code",
   "execution_count": 60,
   "metadata": {},
   "outputs": [
    {
     "data": {
      "text/plain": [
       "610"
      ]
     },
     "execution_count": 60,
     "metadata": {},
     "output_type": "execute_result"
    }
   ],
   "source": [
    "len(html.select('li.quickResultLstCon'))"
   ]
  },
  {
   "cell_type": "code",
   "execution_count": 62,
   "metadata": {},
   "outputs": [
    {
     "name": "stdout",
     "output_type": "stream",
     "text": [
      "<li class=\"quickResultLstCon\" data-code=\"3218\" data-hlytag=\"null\" data-index=\"0\" data-lat=\"37.553376\" data-long=\"126.918564\" data-name=\"서교동사거리\" data-storecd=\"1031\" style=\"background:#fff\"> <strong data-my_siren_order_store_yn=\"N\" data-name=\"서교동사거리\" data-store=\"1031\" data-yn=\"N\">서교동사거리  </strong> <p class=\"result_details\">서울특별시 마포구 양화로 105 (서교동)<br/>1522-3232</p> <i class=\"pin_general\">리저브 매장 2번</i></li>\n"
     ]
    }
   ],
   "source": [
    "from pprint import pprint\n",
    "\n",
    "shops = html.select('li.quickResultLstCon')\n",
    "\n",
    "shop = shops[0]\n",
    "\n",
    "pprint(shop)"
   ]
  }
 ],
 "metadata": {
  "kernelspec": {
   "display_name": "base",
   "language": "python",
   "name": "python3"
  },
  "language_info": {
   "codemirror_mode": {
    "name": "ipython",
    "version": 3
   },
   "file_extension": ".py",
   "mimetype": "text/x-python",
   "name": "python",
   "nbconvert_exporter": "python",
   "pygments_lexer": "ipython3",
   "version": "3.9.13"
  },
  "orig_nbformat": 4,
  "vscode": {
   "interpreter": {
    "hash": "a077222d77dfe082b8f1dd562ad70e458ac2ab76993a0b248ab0476e32e9e8dd"
   }
  }
 },
 "nbformat": 4,
 "nbformat_minor": 2
}
