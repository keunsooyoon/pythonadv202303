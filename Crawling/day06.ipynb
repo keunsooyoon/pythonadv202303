{
 "cells": [
  {
   "cell_type": "code",
   "execution_count": 1,
   "metadata": {},
   "outputs": [
    {
     "name": "stdout",
     "output_type": "stream",
     "text": [
      "2nd\n",
      "3rd\n",
      "1st\n"
     ]
    },
    {
     "data": {
      "text/plain": [
       "0"
      ]
     },
     "execution_count": 1,
     "metadata": {},
     "output_type": "execute_result"
    }
   ],
   "source": [
    "\n",
    "# text browser\n",
    "\n",
    "import sys\n",
    "from PyQt5.QtWidgets import *\n",
    "from PyQt5 import uic\n",
    "\n",
    "form_class = uic.loadUiType(\"mywindow6.ui\")[0]\n",
    "\n",
    "class MyWindow(QMainWindow, form_class):\n",
    "\n",
    "    def __init__(self):\n",
    "        super().__init__()\n",
    "        self.setupUi(self)\n",
    "\n",
    "        # 단추 클릭했을때 콤보 박스 확인\n",
    "        #self.comboBox\n",
    "        self.printitem.clicked.connect(self.printFunction)\n",
    "\n",
    "    def printFunction(self):\n",
    "        print(self.comboBox.currentText())\n",
    "\n",
    "app = QApplication(sys.argv)\n",
    "window = MyWindow()\n",
    "window.show()\n",
    "app.exec_()"
   ]
  },
  {
   "cell_type": "code",
   "execution_count": 1,
   "metadata": {},
   "outputs": [],
   "source": [
    "import sys\n",
    "from PyQt5.QtWidgets import *\n",
    "\n",
    "class MyWindow(QMainWindow):\n",
    "    def __init__(self):\n",
    "        super().__init__()\n",
    "\n",
    "        # 윈도우 창\n",
    "        self.setGeometry(800, 200, 300, 300)\n",
    "\n",
    "        # 윈도우에 테이블위젯 넣기\n",
    "        self.tableWidget = QTableWidget(self)\n",
    "        self.tableWidget.resize(290,290)\n",
    "        #self.tableWidget.setColumnCount(2)\n",
    "        self.tableWidget.setRowCount(5)\n",
    "\n",
    "\n",
    "        # 테이블위젯에 데이터 넣기 (행, 열, 넣을값)\n",
    "        self.tableWidget.setItem(0, 0, QTableWidgetItem(\"비트코인\"))\n",
    "        self.tableWidget.setItem(0, 1, QTableWidgetItem(\"31000000\"))\n",
    "\n",
    "        self.tableWidget.setItem(1, 0, QTableWidgetItem(\"이더리움\"))\n",
    "        self.tableWidget.setItem(1, 1, QTableWidgetItem(\"2100000\"))\n",
    "\n",
    "        self.tableWidget.setItem(2, 0, QTableWidgetItem(\"리플\"))\n",
    "\n",
    "\n",
    "app = QApplication(sys.argv)\n",
    "mywindow = MyWindow()\n",
    "mywindow.show()\n",
    "app.exec_()\n"
   ]
  },
  {
   "cell_type": "code",
   "execution_count": 3,
   "metadata": {},
   "outputs": [
    {
     "data": {
      "text/plain": [
       "'10.1°'"
      ]
     },
     "execution_count": 3,
     "metadata": {},
     "output_type": "execute_result"
    }
   ],
   "source": [
    "# 현재 온도 조회 기본 코드\n",
    "\n",
    "import requests\n",
    "from bs4 import BeautifulSoup as bs \n",
    "\n",
    "txt = requests.get('https://weather.naver.com/')\n",
    "html = bs(txt.text)\n",
    "\n",
    "temp = html.select('strong.current')[0].text.strip()\n",
    "temp[5:]"
   ]
  },
  {
   "cell_type": "code",
   "execution_count": 1,
   "metadata": {},
   "outputs": [
    {
     "data": {
      "text/plain": [
       "0"
      ]
     },
     "execution_count": 1,
     "metadata": {},
     "output_type": "execute_result"
    }
   ],
   "source": [
    "# 현재 온도 조회 앱\n",
    "\n",
    "import sys\n",
    "from PyQt5.QtWidgets import *\n",
    "from PyQt5 import uic\n",
    "import requests\n",
    "from bs4 import BeautifulSoup as bs \n",
    "\n",
    "form_class = uic.loadUiType(\"weather.ui\")[0]\n",
    "\n",
    "class MyWindow(QMainWindow, form_class):\n",
    "\n",
    "    def __init__(self):\n",
    "        super().__init__()\n",
    "        self.setupUi(self)\n",
    "        # 단추를 누르면\n",
    "        self.pushButton.clicked.connect(self.btnclicked)\n",
    "\n",
    "\n",
    "    # 조회 후 칸에 출력\n",
    "    def btnclicked(self):\n",
    "\n",
    "        txt = requests.get('https://weather.naver.com/')\n",
    "        html = bs(txt.text)\n",
    "        temp = html.select('strong.current')[0].text.strip()\n",
    "        result = temp[5:]\n",
    "    \n",
    "        self.lineEdit.setText(result)\n",
    "\n",
    "app = QApplication(sys.argv)\n",
    "window = MyWindow()\n",
    "window.show()\n",
    "app.exec_()"
   ]
  },
  {
   "cell_type": "code",
   "execution_count": 3,
   "metadata": {},
   "outputs": [
    {
     "name": "stdout",
     "output_type": "stream",
     "text": [
      "29844000.0\n",
      "2088000.0\n",
      "490.7\n",
      "443.7\n"
     ]
    }
   ],
   "source": [
    "import pybithumb as pb\n",
    "\n",
    "tickers = ['BTC','ETH','XRP','ADA']\n",
    "\n",
    "for ticker in tickers:\n",
    "    price = pb.get_current_price(ticker)\n",
    "    print(price)"
   ]
  },
  {
   "cell_type": "code",
   "execution_count": 1,
   "metadata": {},
   "outputs": [
    {
     "data": {
      "text/plain": [
       "0"
      ]
     },
     "execution_count": 1,
     "metadata": {},
     "output_type": "execute_result"
    }
   ],
   "source": [
    "# 코인 가격 조회 앱 (단순버전)\n",
    "\n",
    "import sys\n",
    "from PyQt5.QtWidgets import *\n",
    "from PyQt5 import uic\n",
    "import pybithumb as pb\n",
    "\n",
    "\n",
    "form_class = uic.loadUiType(\"coin.ui\")[0]\n",
    "\n",
    "class MyWindow(QMainWindow, form_class):\n",
    "\n",
    "    def __init__(self):\n",
    "        super().__init__()\n",
    "        self.setupUi(self)\n",
    "        # 단추를 누르면\n",
    "        self.pushButton.clicked.connect(self.btnclicked)\n",
    "\n",
    "\n",
    "    # 조회 후 칸에 출력\n",
    "    def btnclicked(self):\n",
    "\n",
    "        price1 = pb.get_current_price(\"BTC\")\n",
    "        self.lineEdit_1.setText(str(price1))\n",
    "\n",
    "        price2 = pb.get_current_price(\"ETH\")\n",
    "        self.lineEdit_2.setText(str(price2))\n",
    "\n",
    "        price3 = pb.get_current_price(\"XRP\")\n",
    "        self.lineEdit_3.setText(str(price3))       \n",
    "\n",
    "        price4 = pb.get_current_price(\"ADA\")\n",
    "        self.lineEdit_4.setText(str(price4))\n",
    "\n",
    "app = QApplication(sys.argv)\n",
    "window = MyWindow()\n",
    "window.show()\n",
    "app.exec_()"
   ]
  },
  {
   "cell_type": "code",
   "execution_count": 1,
   "metadata": {},
   "outputs": [
    {
     "data": {
      "text/plain": [
       "0"
      ]
     },
     "execution_count": 1,
     "metadata": {},
     "output_type": "execute_result"
    }
   ],
   "source": [
    "# 코인 가격 조회 앱 (TableWidget 버전)\n",
    "\n",
    "\n",
    "import sys\n",
    "from PyQt5.QtWidgets import *\n",
    "from PyQt5 import uic\n",
    "import pybithumb as pb\n",
    "from PyQt5.QtCore import *\n",
    "\n",
    "\n",
    "\n",
    "form_class = uic.loadUiType(\"coinwidget.ui\")[0]\n",
    "\n",
    "class MyWindow(QMainWindow, form_class):\n",
    "\n",
    "    def __init__(self):\n",
    "        super().__init__()\n",
    "        self.setupUi(self)\n",
    "        # 단추를 누르면\n",
    "        self.pushButton.clicked.connect(self.btnclicked)\n",
    "\n",
    "\n",
    "    # 조회 후 칸에 출력\n",
    "    def btnclicked(self):\n",
    "        tickers = ['BTC','ETH','XRP','ADA']\n",
    "\n",
    "        for i, ticker in enumerate(tickers):\n",
    "            price = pb.get_current_price(ticker)\n",
    "            self.tableWidget.setItem(i, 0, QTableWidgetItem(ticker))\n",
    "            self.tableWidget.setItem(i, 1, QTableWidgetItem(str(price)))\n",
    "\n",
    "app = QApplication(sys.argv)\n",
    "window = MyWindow()\n",
    "window.show()\n",
    "app.exec_()"
   ]
  },
  {
   "cell_type": "code",
   "execution_count": 1,
   "metadata": {},
   "outputs": [],
   "source": [
    "# 벅스 음원 차트 조회 앱\n",
    "\n",
    "import sys\n",
    "from PyQt5.QtWidgets import *\n",
    "from PyQt5 import uic\n",
    "import requests\n",
    "from bs4 import BeautifulSoup as bs \n",
    "\n",
    "form_class = uic.loadUiType(\"bugs.ui\")[0]\n",
    "\n",
    "class MyWindow(QMainWindow, form_class):\n",
    "\n",
    "    def __init__(self):\n",
    "        super().__init__()\n",
    "        self.setupUi(self)\n",
    "        # 단추를 누르면\n",
    "        self.pushButton.clicked.connect(self.btnclicked)\n",
    "\n",
    "\n",
    "    # 조회 후 칸에 출력\n",
    "    def btnclicked(self):\n",
    "        url = \"https://music.bugs.co.kr/chart\"\n",
    "        txt = requests.get(url)  \n",
    "        html = bs(txt.text)      \n",
    "        songs = html.select('table.byChart > tbody > tr')\n",
    "\n",
    "        for i, song in enumerate(songs):\n",
    "            \n",
    "            title = song.select('p.title > a')[0].text\n",
    "            singer = song.select('p.artist > a')[0].text\n",
    "\n",
    "            self.tableWidget.setItem(i, 0, QTableWidgetItem(\"Bugs\"))\n",
    "            self.tableWidget.setItem(i, 1, QTableWidgetItem(title))\n",
    "            self.tableWidget.setItem(i, 2, QTableWidgetItem(singer))\n",
    "\n",
    "app = QApplication(sys.argv)\n",
    "window = MyWindow()\n",
    "window.show()\n",
    "app.exec_()"
   ]
  },
  {
   "cell_type": "code",
   "execution_count": 1,
   "metadata": {},
   "outputs": [
    {
     "name": "stderr",
     "output_type": "stream",
     "text": [
      "C:\\Users\\user\\AppData\\Local\\Temp\\ipykernel_19572\\3216095077.py:68: DeprecationWarning: executable_path has been deprecated, please pass in a Service object\n",
      "  driver = webdriver.Chrome('chromedriver.exe')  # 버전 주의\n",
      "C:\\Users\\user\\AppData\\Local\\Temp\\ipykernel_19572\\3216095077.py:89: DeprecationWarning: executable_path has been deprecated, please pass in a Service object\n",
      "  driver = webdriver.Chrome('chromedriver.exe')  # 버전 주의\n"
     ]
    },
    {
     "data": {
      "text/plain": [
       "0"
      ]
     },
     "execution_count": 1,
     "metadata": {},
     "output_type": "execute_result"
    }
   ],
   "source": [
    "# 전체 음원 차트 조회 앱\n",
    "\n",
    "import sys\n",
    "from PyQt5.QtWidgets import *\n",
    "from PyQt5 import uic\n",
    "import requests\n",
    "from bs4 import BeautifulSoup as bs \n",
    "from selenium import webdriver \n",
    "import time\n",
    "\n",
    "form_class = uic.loadUiType(\"mchart.ui\")[0]\n",
    "\n",
    "class MyWindow(QMainWindow, form_class):\n",
    "\n",
    "    def __init__(self):\n",
    "        super().__init__()\n",
    "        self.setupUi(self)\n",
    "        # 단추를 누르면\n",
    "        self.pushButton_1.clicked.connect(self.btnclicked1) # 벅스\n",
    "        self.pushButton_2.clicked.connect(self.btnclicked2) # 멜론\n",
    "        self.pushButton_3.clicked.connect(self.btnclicked3) # 지니\n",
    "\n",
    "    # 조회 후 칸에 출력\n",
    "    def btnclicked1(self):\n",
    "\n",
    "        self.label.setText(\" 벅스 차트 100 \")\n",
    "        self.tableWidget.clear()\n",
    "\n",
    "        url = \"https://music.bugs.co.kr/chart\"\n",
    "        txt = requests.get(url)  \n",
    "        html = bs(txt.text)      \n",
    "        songs = html.select('table.byChart > tbody > tr')\n",
    "\n",
    "        for i, song in enumerate(songs):\n",
    "            \n",
    "            title = song.select('p.title > a')[0].text\n",
    "            singer = song.select('p.artist > a')[0].text\n",
    "\n",
    "            self.tableWidget.setItem(i, 0, QTableWidgetItem(\"Bugs\"))\n",
    "            self.tableWidget.setItem(i, 1, QTableWidgetItem(title))\n",
    "            self.tableWidget.setItem(i, 2, QTableWidgetItem(singer))\n",
    "\n",
    "    def btnclicked2(self):\n",
    "\n",
    "        self.label.setText(\" 멜론 차트 100 \")\n",
    "        self.tableWidget.clear()\n",
    "        \n",
    "        driver = webdriver.Chrome('chromedriver.exe')\n",
    "        driver.get(\"https://www.melon.com/chart/index.htm\")\n",
    "        txt = driver.page_source\n",
    "        html = bs(txt) \n",
    " \n",
    "        songs = html.select('tbody > tr')\n",
    "\n",
    "        for i, song in enumerate(songs):\n",
    "            title = song.select('div.rank01> span > a')[0].text\n",
    "            singer = song.select('div.rank02> a')[0].text\n",
    "\n",
    "            self.tableWidget.setItem(i, 0, QTableWidgetItem(\"Melon\"))\n",
    "            self.tableWidget.setItem(i, 1, QTableWidgetItem(title))\n",
    "            self.tableWidget.setItem(i, 2, QTableWidgetItem(singer))\n",
    "\n",
    "    def btnclicked3(self):\n",
    "\n",
    "        self.label.setText(\" 지니 차트 100 \")\n",
    "        self.tableWidget.clear()\n",
    "        \n",
    "        driver = webdriver.Chrome('chromedriver.exe')  # 버전 주의\n",
    "        url = 'https://www.genie.co.kr/chart/top200'\n",
    "        driver.get(url)\n",
    "        txt = driver.page_source \n",
    "        html = bs(txt)\n",
    " \n",
    "        songs = html.select('tbody > tr')\n",
    "\n",
    "        for i, song in enumerate(songs):\n",
    "            title = song.select('a.title')[0].text.strip()\n",
    "            singer = song.select('a.artist')[0].text.strip()\n",
    "\n",
    "            self.tableWidget.setItem(i, 0, QTableWidgetItem(\"Genie\"))\n",
    "            self.tableWidget.setItem(i, 1, QTableWidgetItem(title))\n",
    "            self.tableWidget.setItem(i, 2, QTableWidgetItem(singer))\n",
    "\n",
    "            \n",
    "        \n",
    "        time.sleep(1)\n",
    "\n",
    "        \n",
    "        driver = webdriver.Chrome('chromedriver.exe')  # 버전 주의\n",
    "        url = 'https://www.genie.co.kr/chart/top200?ditc=D&ymd=20230307&hh=12&rtm=Y&pg=2'\n",
    "        driver.get(url)\n",
    "        txt = driver.page_source \n",
    "        html = bs(txt)\n",
    " \n",
    "        songs = html.select('tbody > tr')\n",
    "\n",
    "        for i, song in enumerate(songs):\n",
    "            title = song.select('a.title')[0].text.strip()\n",
    "            singer = song.select('a.artist')[0].text.strip()\n",
    "\n",
    "            self.tableWidget.setItem(i+50, 0, QTableWidgetItem(\"Genie\"))\n",
    "            self.tableWidget.setItem(i+50, 1, QTableWidgetItem(title))\n",
    "            self.tableWidget.setItem(i+50, 2, QTableWidgetItem(singer))\n",
    "\n",
    "app = QApplication(sys.argv)\n",
    "window = MyWindow()\n",
    "window.show()\n",
    "app.exec_()"
   ]
  }
 ],
 "metadata": {
  "kernelspec": {
   "display_name": "base",
   "language": "python",
   "name": "python3"
  },
  "language_info": {
   "codemirror_mode": {
    "name": "ipython",
    "version": 3
   },
   "file_extension": ".py",
   "mimetype": "text/x-python",
   "name": "python",
   "nbconvert_exporter": "python",
   "pygments_lexer": "ipython3",
   "version": "3.9.13"
  },
  "orig_nbformat": 4
 },
 "nbformat": 4,
 "nbformat_minor": 2
}
