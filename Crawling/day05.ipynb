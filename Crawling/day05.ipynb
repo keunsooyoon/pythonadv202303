{
 "cells": [
  {
   "cell_type": "code",
   "execution_count": 7,
   "metadata": {},
   "outputs": [
    {
     "name": "stdout",
     "output_type": "stream",
     "text": [
      "^C\n"
     ]
    }
   ],
   "source": [
    "#!pip install pymysql\n",
    "#!pip install requests\n",
    "#!pip install PyQt5\n",
    "\n",
    "\n",
    "import pymysql\n",
    "import requests"
   ]
  },
  {
   "cell_type": "code",
   "execution_count": 8,
   "metadata": {},
   "outputs": [],
   "source": [
    "conn = pymysql.connect(host='yoonkeunsoo.cafe24.com', user='yoonkeunsoo', password='guest0505', db='yoonkeunsoo', charset='utf8')"
   ]
  },
  {
   "cell_type": "code",
   "execution_count": 9,
   "metadata": {},
   "outputs": [],
   "source": [
    "cur = conn.cursor()"
   ]
  },
  {
   "cell_type": "code",
   "execution_count": 11,
   "metadata": {},
   "outputs": [
    {
     "name": "stdout",
     "output_type": "stream",
     "text": [
      "((b'1111', b'1111', b'1111', datetime.datetime(2023, 2, 9, 10, 26, 14)),\n",
      " (b'admin',\n",
      "  b'0000',\n",
      "  b'\\xea\\xb4\\x80\\xeb\\xa6\\xac\\xec\\x9e\\x90',\n",
      "  datetime.datetime(2023, 2, 9, 8, 48, 38)),\n",
      " (b'aus@aaa.com', b'0000', b'aus', datetime.datetime(2023, 2, 9, 7, 13, 58)),\n",
      " (b'austiny@naver.com',\n",
      "  b'0000',\n",
      "  b'\\xec\\xa4\\x91\\xea\\xb8\\xb0',\n",
      "  datetime.datetime(2023, 2, 8, 17, 44, 44)),\n",
      " (b'austiny@snu.ac.kr',\n",
      "  b'0000',\n",
      "  b'\\xec\\x96\\xb4\\xec\\x8a\\xa4\\xed\\x8b\\xb4',\n",
      "  datetime.datetime(2023, 2, 8, 22, 38)),\n",
      " (b'bbb@bbb', b'1111', b'aaa', datetime.datetime(2023, 2, 8, 23, 53, 51)),\n",
      " (b'holy@holy.com', b'1111', b'1111', datetime.datetime(2023, 2, 9, 9, 0, 40)),\n",
      " (b'test@test.com',\n",
      "  b'0000',\n",
      "  b'0000',\n",
      "  datetime.datetime(2023, 2, 9, 10, 23, 17)))\n"
     ]
    }
   ],
   "source": [
    "cur.execute(\"SELECT * FROM user\")\n",
    "result=cur.fetchall()\n",
    "\n",
    "import pprint\n",
    "pprint.pprint(result)"
   ]
  },
  {
   "cell_type": "code",
   "execution_count": 1,
   "metadata": {},
   "outputs": [
    {
     "ename": "SystemExit",
     "evalue": "0",
     "output_type": "error",
     "traceback": [
      "An exception has occurred, use %tb to see the full traceback.\n",
      "\u001b[1;31mSystemExit\u001b[0m\u001b[1;31m:\u001b[0m 0\n"
     ]
    },
    {
     "name": "stderr",
     "output_type": "stream",
     "text": [
      "c:\\Users\\user\\anaconda3\\lib\\site-packages\\IPython\\core\\interactiveshell.py:3465: UserWarning: To exit: use 'exit', 'quit', or Ctrl-D.\n",
      "  warn(\"To exit: use 'exit', 'quit', or Ctrl-D.\", stacklevel=1)\n"
     ]
    }
   ],
   "source": [
    "# 윈도우 기본창 띄우기 \n",
    "\n",
    "\n",
    "# 필요한 모듈 읽어오기 기본적인 창 구성요소를 제공하는 모든 것은 PyQt5.QtWidgets 에 \n",
    "# 만들어져 있다. \n",
    "import sys\n",
    "from PyQt5.QtWidgets import QApplication, QWidget\n",
    "\n",
    "\n",
    "class MyApp(QWidget):\n",
    "    # 생성자 설정\n",
    "    def __init__(self):\n",
    "        super().__init__()\n",
    "        self.initUI()\n",
    "\n",
    "    # 창 기본 설정, 여기서는 제목만 설정하였다. \n",
    "    def initUI(self):\n",
    "        self.setWindowTitle(\"Hello World!!!\")  \n",
    "        self.show()\n",
    "\n",
    "# 파이썬은 기본적으로 인터프리터 이기 때문에 한줄한줄 코드를 실행하고 마치게 된다. \n",
    "# 열려진 윈도우 창을 계속 유지시켜야 한다. \n",
    "app = QApplication(sys.argv)\n",
    "ex = MyApp()\n",
    "sys.exit(app.exec_())"
   ]
  },
  {
   "cell_type": "code",
   "execution_count": 1,
   "metadata": {},
   "outputs": [
    {
     "ename": "SystemExit",
     "evalue": "0",
     "output_type": "error",
     "traceback": [
      "An exception has occurred, use %tb to see the full traceback.\n",
      "\u001b[1;31mSystemExit\u001b[0m\u001b[1;31m:\u001b[0m 0\n"
     ]
    },
    {
     "name": "stderr",
     "output_type": "stream",
     "text": [
      "c:\\Users\\user\\anaconda3\\lib\\site-packages\\IPython\\core\\interactiveshell.py:3465: UserWarning: To exit: use 'exit', 'quit', or Ctrl-D.\n",
      "  warn(\"To exit: use 'exit', 'quit', or Ctrl-D.\", stacklevel=1)\n"
     ]
    },
    {
     "ename": "",
     "evalue": "",
     "output_type": "error",
     "traceback": [
      "\u001b[1;31mThe Kernel crashed while executing code in the the current cell or a previous cell. Please review the code in the cell(s) to identify a possible cause of the failure. Click <a href='https://aka.ms/vscodeJupyterKernelCrash'>here</a> for more info. View Jupyter <a href='command:jupyter.viewOutput'>log</a> for further details."
     ]
    }
   ],
   "source": [
    "import sys\n",
    "from PyQt5.QtWidgets import QApplication, QWidget, QPushButton\n",
    "from PyQt5.QtCore import QCoreApplication\n",
    "\n",
    "\n",
    "class MyApp(QWidget):\n",
    "    # 생성자 설정\n",
    "    def __init__(self):\n",
    "        super().__init__()\n",
    "        self.initUI()\n",
    "\n",
    "    # 창 기본 설정, 여기서는 제목만 설정하였다. \n",
    "    def initUI(self):\n",
    "        self.setWindowTitle(\"Hello World!!!\")  \n",
    "        btn = QPushButton('Quit', self)\n",
    "        btn.clicked.connect(QCoreApplication.instance().quit)\n",
    "\n",
    "        self.show()\n",
    "\n",
    "# 파이썬은 기본적으로 인터프리터 이기 때문에 한줄한줄 코드를 실행하고 마치게 된다. \n",
    "# 열려진 윈도우 창을 계속 유지시켜야 한다. \n",
    "app = QApplication(sys.argv)\n",
    "ex = MyApp()\n",
    "sys.exit(app.exec_())"
   ]
  },
  {
   "cell_type": "code",
   "execution_count": 1,
   "metadata": {},
   "outputs": [
    {
     "ename": "SystemExit",
     "evalue": "0",
     "output_type": "error",
     "traceback": [
      "An exception has occurred, use %tb to see the full traceback.\n",
      "\u001b[1;31mSystemExit\u001b[0m\u001b[1;31m:\u001b[0m 0\n"
     ]
    },
    {
     "name": "stderr",
     "output_type": "stream",
     "text": [
      "c:\\Users\\user\\anaconda3\\lib\\site-packages\\IPython\\core\\interactiveshell.py:3465: UserWarning: To exit: use 'exit', 'quit', or Ctrl-D.\n",
      "  warn(\"To exit: use 'exit', 'quit', or Ctrl-D.\", stacklevel=1)\n"
     ]
    },
    {
     "ename": "",
     "evalue": "",
     "output_type": "error",
     "traceback": [
      "\u001b[1;31mThe Kernel crashed while executing code in the the current cell or a previous cell. Please review the code in the cell(s) to identify a possible cause of the failure. Click <a href='https://aka.ms/vscodeJupyterKernelCrash'>here</a> for more info. View Jupyter <a href='command:jupyter.viewOutput'>log</a> for further details."
     ]
    }
   ],
   "source": [
    "import sys\n",
    "from PyQt5.QtWidgets import QApplication, QMainWindow, QAction, qApp\n",
    "from PyQt5.QtGui import QIcon\n",
    "\n",
    "\n",
    "class MyApp(QMainWindow):\n",
    "\n",
    "    def __init__(self):\n",
    "        super().__init__()\n",
    "        self.initUI()\n",
    "\n",
    "    def initUI(self):\n",
    "        exitAction = QAction(QIcon('exit.png'), 'Exit', self)\n",
    "        exitAction.setShortcut('Ctrl+Q')\n",
    "        exitAction.setStatusTip('Exit application')\n",
    "        exitAction.triggered.connect(qApp.quit)\n",
    "\n",
    "        self.statusBar()\n",
    "\n",
    "        menubar = self.menuBar()\n",
    "        menubar.setNativeMenuBar(False)\n",
    "        filemenu = menubar.addMenu('&File')\n",
    "        filemenu.addAction(exitAction)\n",
    "\n",
    "        self.setWindowTitle('Menubar')\n",
    "        self.setGeometry(300, 300, 300, 200)\n",
    "        self.show()\n",
    "\n",
    "\n",
    "if __name__ == '__main__':\n",
    "    app = QApplication(sys.argv)\n",
    "    ex = MyApp()\n",
    "    sys.exit(app.exec_())"
   ]
  },
  {
   "cell_type": "code",
   "execution_count": 1,
   "metadata": {},
   "outputs": [
    {
     "data": {
      "text/plain": [
       "0"
      ]
     },
     "execution_count": 1,
     "metadata": {},
     "output_type": "execute_result"
    }
   ],
   "source": [
    "# QT Designer 로 생성한 윈도우 창을 여는 방법\n",
    "\n",
    "\n",
    "# 윈도우 기본창 띄우기 \n",
    "\n",
    "import sys\n",
    "from PyQt5.QtWidgets import *\n",
    "from PyQt5 import uic\n",
    "\n",
    "form_class = uic.loadUiType(\"mywindow.ui\")[0]\n",
    "\n",
    "class MyWindow(QMainWindow, form_class):\n",
    "\n",
    "    def __init__(self):\n",
    "        super().__init__()\n",
    "        self.setupUi(self)\n",
    "\n",
    "app = QApplication(sys.argv)\n",
    "window = MyWindow()\n",
    "window.show()\n",
    "app.exec_()"
   ]
  },
  {
   "cell_type": "code",
   "execution_count": 1,
   "metadata": {},
   "outputs": [
    {
     "name": "stdout",
     "output_type": "stream",
     "text": [
      "클릭 확인\n",
      "클릭 확인\n",
      "클릭 확인\n",
      "클릭 확인\n"
     ]
    }
   ],
   "source": [
    "\n",
    "# 클릭 1개 인식\n",
    "\n",
    "import sys\n",
    "from PyQt5.QtWidgets import *\n",
    "from PyQt5 import uic\n",
    "\n",
    "form_class = uic.loadUiType(\"mywindow1.ui\")[0]\n",
    "\n",
    "class MyWindow(QMainWindow, form_class):\n",
    "\n",
    "    def __init__(self):\n",
    "        super().__init__()\n",
    "        self.setupUi(self)\n",
    "        self.pushButton.clicked.connect(self.btn_clicked)\n",
    "\n",
    "    def btn_clicked(self):\n",
    "        print(\"클릭 확인\")\n",
    "\n",
    "app = QApplication(sys.argv)\n",
    "window = MyWindow()\n",
    "window.show()\n",
    "app.exec_()"
   ]
  },
  {
   "cell_type": "code",
   "execution_count": 1,
   "metadata": {},
   "outputs": [
    {
     "name": "stdout",
     "output_type": "stream",
     "text": [
      "클릭 1 확인\n",
      "클릭 2 확인\n",
      "클릭 1 확인\n",
      "클릭 2 확인\n",
      "클릭 1 확인\n",
      "클릭 2 확인\n"
     ]
    },
    {
     "data": {
      "text/plain": [
       "0"
      ]
     },
     "execution_count": 1,
     "metadata": {},
     "output_type": "execute_result"
    }
   ],
   "source": [
    "\n",
    "# 클릭 2개 인식\n",
    "\n",
    "import sys\n",
    "from PyQt5.QtWidgets import *\n",
    "from PyQt5 import uic\n",
    "\n",
    "form_class = uic.loadUiType(\"mywindow2.ui\")[0]\n",
    "\n",
    "class MyWindow(QMainWindow, form_class):\n",
    "\n",
    "    def __init__(self):\n",
    "        super().__init__()\n",
    "        self.setupUi(self)\n",
    "        self.pushButton_1.clicked.connect(self.btn1_clicked)\n",
    "        self.pushButton_2.clicked.connect(self.btn2_clicked)\n",
    "\n",
    "    def btn1_clicked(self):\n",
    "        print(\"클릭 1 확인\")\n",
    "\n",
    "    def btn2_clicked(self):\n",
    "        print(\"클릭 2 확인\")\n",
    "\n",
    "app = QApplication(sys.argv)\n",
    "window = MyWindow()\n",
    "window.show()\n",
    "app.exec_()"
   ]
  },
  {
   "cell_type": "code",
   "execution_count": 1,
   "metadata": {},
   "outputs": [
    {
     "name": "stdout",
     "output_type": "stream",
     "text": [
      "radio button 1 Checked\n",
      "radio button 3 Checked\n",
      "radio button 2 Checked\n"
     ]
    },
    {
     "data": {
      "text/plain": [
       "0"
      ]
     },
     "execution_count": 1,
     "metadata": {},
     "output_type": "execute_result"
    }
   ],
   "source": [
    "\n",
    "# Radio button 은 여러개 중 하나 선택만 가능하므로 처리가 쉽다. \n",
    "\n",
    "import sys\n",
    "from PyQt5.QtWidgets import *\n",
    "from PyQt5 import uic\n",
    "\n",
    "form_class = uic.loadUiType(\"mywindow3.ui\")[0]\n",
    "\n",
    "class MyWindow(QMainWindow, form_class):\n",
    "\n",
    "    def __init__(self):\n",
    "        super().__init__()\n",
    "        self.setupUi(self)\n",
    "\n",
    "        self.radioButton_1.clicked.connect(self.radioFunction)\n",
    "        self.radioButton_2.clicked.connect(self.radioFunction)\n",
    "        self.radioButton_3.clicked.connect(self.radioFunction)\n",
    "\n",
    "\n",
    "    def radioFunction(self):\n",
    "        if self.radioButton_1.isChecked() :\n",
    "            print(\"radio button 1 Checked\")\n",
    "        elif self.radioButton_2.isChecked() :\n",
    "            print(\"radio button 2 Checked\")\n",
    "        elif self.radioButton_3.isChecked() :\n",
    "            print(\"radio button 3 Checked\")\n",
    "\n",
    "\n",
    "app = QApplication(sys.argv)\n",
    "window = MyWindow()\n",
    "window.show()\n",
    "app.exec_()"
   ]
  },
  {
   "cell_type": "code",
   "execution_count": 1,
   "metadata": {},
   "outputs": [
    {
     "name": "stdout",
     "output_type": "stream",
     "text": [
      "check 1 Checked\n",
      "\n",
      "checkbox 1 Checked\n",
      "\n",
      "checkbox 1 Checked\n",
      "checkbox 2 Checked\n",
      "\n",
      "check 1 Checked\n",
      "check 3 Checked\n",
      "\n",
      "check 1 Checked\n",
      "check 2 Checked\n",
      "check 3 Checked\n",
      "\n"
     ]
    },
    {
     "data": {
      "text/plain": [
       "0"
      ]
     },
     "execution_count": 1,
     "metadata": {},
     "output_type": "execute_result"
    }
   ],
   "source": [
    "\n",
    "# Check Box 체크 박스는 중복 선택이 가능함에 따라 코드가 조금 복잡해진다. \n",
    "\n",
    "import sys\n",
    "from PyQt5.QtWidgets import *\n",
    "from PyQt5 import uic\n",
    "\n",
    "form_class = uic.loadUiType(\"mywindow4.ui\")[0]\n",
    "\n",
    "class MyWindow(QMainWindow, form_class):\n",
    "\n",
    "    def __init__(self):\n",
    "        super().__init__()\n",
    "        self.setupUi(self)\n",
    "\n",
    "        self.check1.stateChanged.connect(self.chkFunction)\n",
    "        self.check2.stateChanged.connect(self.chkFunction)\n",
    "        self.check3.stateChanged.connect(self.chkFunction)\n",
    "\n",
    "        self.checkBox1.stateChanged.connect(self.chkBoxFunction)\n",
    "        self.checkBox2.stateChanged.connect(self.chkBoxFunction)\n",
    "        self.checkBox3.stateChanged.connect(self.chkBoxFunction)\n",
    "\n",
    "    # 여러개가 동시 선택될수 있기 때문에 elif 를 사용하지 않는다. \n",
    "    def chkFunction(self):\n",
    "        if self.check1.isChecked() :\n",
    "            print(\"check 1 Checked\")\n",
    "        if self.check2.isChecked() :\n",
    "            print(\"check 2 Checked\")\n",
    "        if self.check3.isChecked() :\n",
    "            print(\"check 3 Checked\")\n",
    "        print()\n",
    "\n",
    "\n",
    "    def chkBoxFunction(self):\n",
    "        if self.checkBox1.isChecked() :\n",
    "            print(\"checkbox 1 Checked\")\n",
    "        if self.checkBox2.isChecked() :\n",
    "            print(\"checkbox 2 Checked\")\n",
    "        if self.checkBox3.isChecked() :\n",
    "            print(\"checkbox 3 Checked\")\n",
    "        print()\n",
    "\n",
    "app = QApplication(sys.argv)\n",
    "window = MyWindow()\n",
    "window.show()\n",
    "app.exec_()"
   ]
  },
  {
   "cell_type": "code",
   "execution_count": 1,
   "metadata": {},
   "outputs": [
    {
     "name": "stdout",
     "output_type": "stream",
     "text": [
      "지니 차트 조회\n",
      "멜론 차트 조회\n"
     ]
    },
    {
     "data": {
      "text/plain": [
       "0"
      ]
     },
     "execution_count": 1,
     "metadata": {},
     "output_type": "execute_result"
    }
   ],
   "source": [
    "\n",
    "# 라벨 처리\n",
    "\n",
    "import sys\n",
    "from PyQt5.QtWidgets import *\n",
    "from PyQt5 import uic\n",
    "\n",
    "form_class = uic.loadUiType(\"mywindow5.ui\")[0]\n",
    "\n",
    "class MyWindow(QMainWindow, form_class):\n",
    "\n",
    "    def __init__(self):\n",
    "        super().__init__()\n",
    "        self.setupUi(self)\n",
    "\n",
    "        self.melonButton.clicked.connect(self.melonFunction)\n",
    "        self.genieButton.clicked.connect(self.genieFunction)\n",
    "        self.deleteButton.clicked.connect(self.deleteFunction)\n",
    "        self.printButton.clicked.connect(self.printFunction)\n",
    "\n",
    "    def melonFunction(self) :\n",
    "        self.label.setText(\"멜론 차트 조회\")\n",
    "\n",
    "    def genieFunction(self) :\n",
    "        self.label.setText(\"지니 차트 조회\")\n",
    "\n",
    "    def deleteFunction(self) :\n",
    "        self.label.clear()\n",
    "\n",
    "    def printFunction(self) :\n",
    "        print(self.label.text())\n",
    "\n",
    "app = QApplication(sys.argv)\n",
    "window = MyWindow()\n",
    "window.show()\n",
    "app.exec_()"
   ]
  },
  {
   "cell_type": "code",
   "execution_count": 1,
   "metadata": {},
   "outputs": [
    {
     "name": "stdout",
     "output_type": "stream",
     "text": [
      "텍스트 브라우저 글자 변경 테스트\n",
      "텍스트 브라우저 글자 변경 테스트\n",
      "텍스트 추가 테스트\n",
      "텍스트 추가 테스트\n"
     ]
    },
    {
     "data": {
      "text/plain": [
       "0"
      ]
     },
     "execution_count": 1,
     "metadata": {},
     "output_type": "execute_result"
    }
   ],
   "source": [
    "\n",
    "# text browser\n",
    "\n",
    "import sys\n",
    "from PyQt5.QtWidgets import *\n",
    "from PyQt5 import uic\n",
    "\n",
    "form_class = uic.loadUiType(\"mywindow6.ui\")[0]\n",
    "\n",
    "class MyWindow(QMainWindow, form_class):\n",
    "\n",
    "    def __init__(self):\n",
    "        super().__init__()\n",
    "        self.setupUi(self)\n",
    "\n",
    "        self.printbrowserButton.clicked.connect(self.printFunction)\n",
    "        self.settextButton.clicked.connect(self.setFunction)\n",
    "        self.appendtextButton.clicked.connect(self.appendFunction)\n",
    "        self.clearButton.clicked.connect(self.clearFunction)\n",
    "\n",
    "    def printFunction(self) :\n",
    "        print(self.textBrowser.toPlainText())\n",
    "\n",
    "    def setFunction(self) :\n",
    "        self.textBrowser.setPlainText(\"텍스트 브라우저 글자 변경 테스트\")\n",
    "\n",
    "    def appendFunction(self) :\n",
    "        self.textBrowser.append(\"텍스트 추가 테스트\")\n",
    "\n",
    "    def clearFunction(self) :\n",
    "        self.textBrowser.clear()\n",
    "\n",
    "app = QApplication(sys.argv)\n",
    "window = MyWindow()\n",
    "window.show()\n",
    "app.exec_()"
   ]
  },
  {
   "cell_type": "code",
   "execution_count": 1,
   "metadata": {},
   "outputs": [
    {
     "data": {
      "text/plain": [
       "0"
      ]
     },
     "execution_count": 1,
     "metadata": {},
     "output_type": "execute_result"
    }
   ],
   "source": [
    "\n",
    "# text browser\n",
    "\n",
    "import sys\n",
    "from PyQt5.QtWidgets import *\n",
    "from PyQt5 import uic\n",
    "\n",
    "form_class = uic.loadUiType(\"mywindow6.ui\")[0]\n",
    "\n",
    "class MyWindow(QMainWindow, form_class):\n",
    "\n",
    "    def __init__(self):\n",
    "        super().__init__()\n",
    "        self.setupUi(self)\n",
    "\n",
    "        self.lineEdit.textChanged.connect(self.lineeditFunction)\n",
    "        self.lineEdit.returnPressed.connect(self.returnFunction)\n",
    "        self.lineeditchangeButton.clicked.connect(self.changeFunction)\n",
    "\n",
    "\n",
    "    def lineeditFunction(self) :\n",
    "        self.label_text.setText(self.lineEdit.text())\n",
    "\n",
    "    def returnFunction(self) :\n",
    "        print(self.lineEdit.text())\n",
    "\n",
    "    def changeFunction(self) :\n",
    "        self.lineEdit.setText(\"글자 변경\")\n",
    "\n",
    "\n",
    "\n",
    "app = QApplication(sys.argv)\n",
    "window = MyWindow()\n",
    "window.show()\n",
    "app.exec_()"
   ]
  }
 ],
 "metadata": {
  "kernelspec": {
   "display_name": "base",
   "language": "python",
   "name": "python3"
  },
  "language_info": {
   "codemirror_mode": {
    "name": "ipython",
    "version": 3
   },
   "file_extension": ".py",
   "mimetype": "text/x-python",
   "name": "python",
   "nbconvert_exporter": "python",
   "pygments_lexer": "ipython3",
   "version": "3.9.13"
  },
  "orig_nbformat": 4
 },
 "nbformat": 4,
 "nbformat_minor": 2
}
