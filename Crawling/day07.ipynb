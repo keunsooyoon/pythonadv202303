{
 "cells": [
  {
   "cell_type": "code",
   "execution_count": 1,
   "metadata": {},
   "outputs": [],
   "source": [
    "import requests\n",
    "from bs4 import BeautifulSoup as bs \n",
    "\n",
    "url = \"https://www.dhlottery.co.kr/gameResult.do?method=byWin\"\n",
    "txt = requests.get(url)  \n",
    "html = bs(txt.text)      \n",
    "\n"
   ]
  },
  {
   "cell_type": "code",
   "execution_count": 2,
   "metadata": {},
   "outputs": [
    {
     "data": {
      "text/plain": [
       "7"
      ]
     },
     "execution_count": 2,
     "metadata": {},
     "output_type": "execute_result"
    }
   ],
   "source": [
    "len(html.select(\"span.ball_645\"))"
   ]
  },
  {
   "cell_type": "code",
   "execution_count": 3,
   "metadata": {},
   "outputs": [
    {
     "data": {
      "text/plain": [
       "[<span class=\"ball_645 lrg ball1\">8</span>,\n",
       " <span class=\"ball_645 lrg ball2\">13</span>,\n",
       " <span class=\"ball_645 lrg ball2\">19</span>,\n",
       " <span class=\"ball_645 lrg ball3\">27</span>,\n",
       " <span class=\"ball_645 lrg ball4\">40</span>,\n",
       " <span class=\"ball_645 lrg ball5\">45</span>,\n",
       " <span class=\"ball_645 lrg ball2\">12</span>]"
      ]
     },
     "execution_count": 3,
     "metadata": {},
     "output_type": "execute_result"
    }
   ],
   "source": []
  }
 ],
 "metadata": {
  "kernelspec": {
   "display_name": "base",
   "language": "python",
   "name": "python3"
  },
  "language_info": {
   "codemirror_mode": {
    "name": "ipython",
    "version": 3
   },
   "file_extension": ".py",
   "mimetype": "text/x-python",
   "name": "python",
   "nbconvert_exporter": "python",
   "pygments_lexer": "ipython3",
   "version": "3.9.13"
  },
  "orig_nbformat": 4
 },
 "nbformat": 4,
 "nbformat_minor": 2
}
